{
 "cells": [
  {
   "cell_type": "code",
   "execution_count": 1,
   "metadata": {
    "collapsed": true
   },
   "outputs": [],
   "source": [
    "import numpy as np \n",
    "import pandas as pd \n",
    "import seaborn as sns \n",
    "import matplotlib.pyplot as plt \n",
    "import os \n",
    "#make wider graphs\n",
    "sns.set(rc={'figure.figsize':(12,5)});\n",
    "plt.figure(figsize=(12,5));\n",
    "\n",
    "%matplotlib inline "
   ]
  },
  {
   "cell_type": "code",
   "execution_count": 2,
   "metadata": {
    "collapsed": true
   },
   "outputs": [],
   "source": [
    "train = pd.read_csv('../data/train.csv.zip',nrows = 1e6)\n",
    "test  = pd.read_csv('../data/test.csv.zip')"
   ]
  },
  {
   "cell_type": "code",
   "execution_count": 3,
   "metadata": {},
   "outputs": [
    {
     "data": {
      "text/html": [
       "<div>\n",
       "<style>\n",
       "    .dataframe thead tr:only-child th {\n",
       "        text-align: right;\n",
       "    }\n",
       "\n",
       "    .dataframe thead th {\n",
       "        text-align: left;\n",
       "    }\n",
       "\n",
       "    .dataframe tbody tr th {\n",
       "        vertical-align: top;\n",
       "    }\n",
       "</style>\n",
       "<table border=\"1\" class=\"dataframe\">\n",
       "  <thead>\n",
       "    <tr style=\"text-align: right;\">\n",
       "      <th></th>\n",
       "      <th>ip</th>\n",
       "      <th>app</th>\n",
       "      <th>device</th>\n",
       "      <th>os</th>\n",
       "      <th>channel</th>\n",
       "      <th>click_time</th>\n",
       "      <th>attributed_time</th>\n",
       "      <th>is_attributed</th>\n",
       "    </tr>\n",
       "  </thead>\n",
       "  <tbody>\n",
       "    <tr>\n",
       "      <th>0</th>\n",
       "      <td>83230</td>\n",
       "      <td>3</td>\n",
       "      <td>1</td>\n",
       "      <td>13</td>\n",
       "      <td>379</td>\n",
       "      <td>2017-11-06 14:32:21</td>\n",
       "      <td>NaN</td>\n",
       "      <td>0</td>\n",
       "    </tr>\n",
       "    <tr>\n",
       "      <th>1</th>\n",
       "      <td>17357</td>\n",
       "      <td>3</td>\n",
       "      <td>1</td>\n",
       "      <td>19</td>\n",
       "      <td>379</td>\n",
       "      <td>2017-11-06 14:33:34</td>\n",
       "      <td>NaN</td>\n",
       "      <td>0</td>\n",
       "    </tr>\n",
       "    <tr>\n",
       "      <th>2</th>\n",
       "      <td>35810</td>\n",
       "      <td>3</td>\n",
       "      <td>1</td>\n",
       "      <td>13</td>\n",
       "      <td>379</td>\n",
       "      <td>2017-11-06 14:34:12</td>\n",
       "      <td>NaN</td>\n",
       "      <td>0</td>\n",
       "    </tr>\n",
       "    <tr>\n",
       "      <th>3</th>\n",
       "      <td>45745</td>\n",
       "      <td>14</td>\n",
       "      <td>1</td>\n",
       "      <td>13</td>\n",
       "      <td>478</td>\n",
       "      <td>2017-11-06 14:34:52</td>\n",
       "      <td>NaN</td>\n",
       "      <td>0</td>\n",
       "    </tr>\n",
       "    <tr>\n",
       "      <th>4</th>\n",
       "      <td>161007</td>\n",
       "      <td>3</td>\n",
       "      <td>1</td>\n",
       "      <td>13</td>\n",
       "      <td>379</td>\n",
       "      <td>2017-11-06 14:35:08</td>\n",
       "      <td>NaN</td>\n",
       "      <td>0</td>\n",
       "    </tr>\n",
       "  </tbody>\n",
       "</table>\n",
       "</div>"
      ],
      "text/plain": [
       "       ip  app  device  os  channel           click_time attributed_time  \\\n",
       "0   83230    3       1  13      379  2017-11-06 14:32:21             NaN   \n",
       "1   17357    3       1  19      379  2017-11-06 14:33:34             NaN   \n",
       "2   35810    3       1  13      379  2017-11-06 14:34:12             NaN   \n",
       "3   45745   14       1  13      478  2017-11-06 14:34:52             NaN   \n",
       "4  161007    3       1  13      379  2017-11-06 14:35:08             NaN   \n",
       "\n",
       "   is_attributed  \n",
       "0              0  \n",
       "1              0  \n",
       "2              0  \n",
       "3              0  \n",
       "4              0  "
      ]
     },
     "execution_count": 3,
     "metadata": {},
     "output_type": "execute_result"
    }
   ],
   "source": [
    "train.head()"
   ]
  },
  {
   "cell_type": "code",
   "execution_count": 4,
   "metadata": {},
   "outputs": [
    {
     "data": {
      "text/html": [
       "<div>\n",
       "<style>\n",
       "    .dataframe thead tr:only-child th {\n",
       "        text-align: right;\n",
       "    }\n",
       "\n",
       "    .dataframe thead th {\n",
       "        text-align: left;\n",
       "    }\n",
       "\n",
       "    .dataframe tbody tr th {\n",
       "        vertical-align: top;\n",
       "    }\n",
       "</style>\n",
       "<table border=\"1\" class=\"dataframe\">\n",
       "  <thead>\n",
       "    <tr style=\"text-align: right;\">\n",
       "      <th></th>\n",
       "      <th>click_id</th>\n",
       "      <th>ip</th>\n",
       "      <th>app</th>\n",
       "      <th>device</th>\n",
       "      <th>os</th>\n",
       "      <th>channel</th>\n",
       "      <th>click_time</th>\n",
       "    </tr>\n",
       "  </thead>\n",
       "  <tbody>\n",
       "    <tr>\n",
       "      <th>0</th>\n",
       "      <td>0</td>\n",
       "      <td>5744</td>\n",
       "      <td>9</td>\n",
       "      <td>1</td>\n",
       "      <td>3</td>\n",
       "      <td>107</td>\n",
       "      <td>2017-11-10 04:00:00</td>\n",
       "    </tr>\n",
       "    <tr>\n",
       "      <th>1</th>\n",
       "      <td>1</td>\n",
       "      <td>119901</td>\n",
       "      <td>9</td>\n",
       "      <td>1</td>\n",
       "      <td>3</td>\n",
       "      <td>466</td>\n",
       "      <td>2017-11-10 04:00:00</td>\n",
       "    </tr>\n",
       "    <tr>\n",
       "      <th>2</th>\n",
       "      <td>2</td>\n",
       "      <td>72287</td>\n",
       "      <td>21</td>\n",
       "      <td>1</td>\n",
       "      <td>19</td>\n",
       "      <td>128</td>\n",
       "      <td>2017-11-10 04:00:00</td>\n",
       "    </tr>\n",
       "    <tr>\n",
       "      <th>3</th>\n",
       "      <td>3</td>\n",
       "      <td>78477</td>\n",
       "      <td>15</td>\n",
       "      <td>1</td>\n",
       "      <td>13</td>\n",
       "      <td>111</td>\n",
       "      <td>2017-11-10 04:00:00</td>\n",
       "    </tr>\n",
       "    <tr>\n",
       "      <th>4</th>\n",
       "      <td>4</td>\n",
       "      <td>123080</td>\n",
       "      <td>12</td>\n",
       "      <td>1</td>\n",
       "      <td>13</td>\n",
       "      <td>328</td>\n",
       "      <td>2017-11-10 04:00:00</td>\n",
       "    </tr>\n",
       "  </tbody>\n",
       "</table>\n",
       "</div>"
      ],
      "text/plain": [
       "   click_id      ip  app  device  os  channel           click_time\n",
       "0         0    5744    9       1   3      107  2017-11-10 04:00:00\n",
       "1         1  119901    9       1   3      466  2017-11-10 04:00:00\n",
       "2         2   72287   21       1  19      128  2017-11-10 04:00:00\n",
       "3         3   78477   15       1  13      111  2017-11-10 04:00:00\n",
       "4         4  123080   12       1  13      328  2017-11-10 04:00:00"
      ]
     },
     "execution_count": 4,
     "metadata": {},
     "output_type": "execute_result"
    }
   ],
   "source": [
    "test.head()"
   ]
  },
  {
   "cell_type": "code",
   "execution_count": 5,
   "metadata": {
    "collapsed": true
   },
   "outputs": [],
   "source": [
    "variables = ['ip', 'app', 'device', 'os', 'channel']\n",
    "for v in variables:\n",
    "    train[v] = train[v].astype('category')\n",
    "    test[v]=test[v].astype('category')"
   ]
  },
  {
   "cell_type": "code",
   "execution_count": 6,
   "metadata": {
    "collapsed": true
   },
   "outputs": [],
   "source": [
    "#set click_time and attributed_time as timeseries\n",
    "train['click_time'] = pd.to_datetime(train['click_time'])\n",
    "train['attributed_time'] = pd.to_datetime(train['attributed_time'])\n",
    "test['click_time'] = pd.to_datetime(test['click_time'])\n",
    "\n",
    "#set as_attributed in train as a categorical\n",
    "train['is_attributed']=train['is_attributed'].astype('category')"
   ]
  },
  {
   "cell_type": "code",
   "execution_count": 7,
   "metadata": {},
   "outputs": [
    {
     "data": {
      "text/html": [
       "<div>\n",
       "<style>\n",
       "    .dataframe thead tr:only-child th {\n",
       "        text-align: right;\n",
       "    }\n",
       "\n",
       "    .dataframe thead th {\n",
       "        text-align: left;\n",
       "    }\n",
       "\n",
       "    .dataframe tbody tr th {\n",
       "        vertical-align: top;\n",
       "    }\n",
       "</style>\n",
       "<table border=\"1\" class=\"dataframe\">\n",
       "  <thead>\n",
       "    <tr style=\"text-align: right;\">\n",
       "      <th></th>\n",
       "      <th>ip</th>\n",
       "      <th>app</th>\n",
       "      <th>device</th>\n",
       "      <th>os</th>\n",
       "      <th>channel</th>\n",
       "      <th>click_time</th>\n",
       "      <th>attributed_time</th>\n",
       "      <th>is_attributed</th>\n",
       "    </tr>\n",
       "  </thead>\n",
       "  <tbody>\n",
       "    <tr>\n",
       "      <th>count</th>\n",
       "      <td>1000000.0</td>\n",
       "      <td>1000000.0</td>\n",
       "      <td>1000000.0</td>\n",
       "      <td>1000000.0</td>\n",
       "      <td>1000000.0</td>\n",
       "      <td>1000000</td>\n",
       "      <td>1693</td>\n",
       "      <td>1000000.0</td>\n",
       "    </tr>\n",
       "    <tr>\n",
       "      <th>unique</th>\n",
       "      <td>39611.0</td>\n",
       "      <td>214.0</td>\n",
       "      <td>298.0</td>\n",
       "      <td>160.0</td>\n",
       "      <td>154.0</td>\n",
       "      <td>1731</td>\n",
       "      <td>1530</td>\n",
       "      <td>2.0</td>\n",
       "    </tr>\n",
       "    <tr>\n",
       "      <th>top</th>\n",
       "      <td>73487.0</td>\n",
       "      <td>12.0</td>\n",
       "      <td>1.0</td>\n",
       "      <td>19.0</td>\n",
       "      <td>245.0</td>\n",
       "      <td>2017-11-06 16:05:10</td>\n",
       "      <td>2017-11-06 16:14:02</td>\n",
       "      <td>0.0</td>\n",
       "    </tr>\n",
       "    <tr>\n",
       "      <th>freq</th>\n",
       "      <td>6437.0</td>\n",
       "      <td>141851.0</td>\n",
       "      <td>938053.0</td>\n",
       "      <td>239642.0</td>\n",
       "      <td>92534.0</td>\n",
       "      <td>1261</td>\n",
       "      <td>4</td>\n",
       "      <td>998307.0</td>\n",
       "    </tr>\n",
       "    <tr>\n",
       "      <th>first</th>\n",
       "      <td>NaN</td>\n",
       "      <td>NaN</td>\n",
       "      <td>NaN</td>\n",
       "      <td>NaN</td>\n",
       "      <td>NaN</td>\n",
       "      <td>2017-11-06 14:32:21</td>\n",
       "      <td>2017-11-06 16:00:47</td>\n",
       "      <td>NaN</td>\n",
       "    </tr>\n",
       "    <tr>\n",
       "      <th>last</th>\n",
       "      <td>NaN</td>\n",
       "      <td>NaN</td>\n",
       "      <td>NaN</td>\n",
       "      <td>NaN</td>\n",
       "      <td>NaN</td>\n",
       "      <td>2017-11-06 16:21:51</td>\n",
       "      <td>2017-11-07 15:55:31</td>\n",
       "      <td>NaN</td>\n",
       "    </tr>\n",
       "  </tbody>\n",
       "</table>\n",
       "</div>"
      ],
      "text/plain": [
       "               ip        app     device         os    channel  \\\n",
       "count   1000000.0  1000000.0  1000000.0  1000000.0  1000000.0   \n",
       "unique    39611.0      214.0      298.0      160.0      154.0   \n",
       "top       73487.0       12.0        1.0       19.0      245.0   \n",
       "freq       6437.0   141851.0   938053.0   239642.0    92534.0   \n",
       "first         NaN        NaN        NaN        NaN        NaN   \n",
       "last          NaN        NaN        NaN        NaN        NaN   \n",
       "\n",
       "                 click_time      attributed_time  is_attributed  \n",
       "count               1000000                 1693      1000000.0  \n",
       "unique                 1731                 1530            2.0  \n",
       "top     2017-11-06 16:05:10  2017-11-06 16:14:02            0.0  \n",
       "freq                   1261                    4       998307.0  \n",
       "first   2017-11-06 14:32:21  2017-11-06 16:00:47            NaN  \n",
       "last    2017-11-06 16:21:51  2017-11-07 15:55:31            NaN  "
      ]
     },
     "execution_count": 7,
     "metadata": {},
     "output_type": "execute_result"
    }
   ],
   "source": [
    "train.describe()"
   ]
  },
  {
   "cell_type": "code",
   "execution_count": 8,
   "metadata": {},
   "outputs": [
    {
     "data": {
      "image/png": "[encoded data removed]",
      "text/plain": [
       "<matplotlib.figure.Figure at 0x7f88da7fbf28>"
      ]
     },
     "metadata": {},
     "output_type": "display_data"
    }
   ],
   "source": [
    "cols = ['ip','app','device','os','channel']\n",
    "uniques = [len(train[col].unique()) for col in cols]\n",
    "plt.figure(figsize=(10, 6))\n",
    "sns.set(font_scale=1.2)\n",
    "ax = sns.barplot(cols, uniques, log=True)\n",
    "ax.set(xlabel='Feature', ylabel='log(unique count)', title='Number of unique values per feature (from 1,000,000 samples)')\n",
    "for p, uniq in zip(ax.patches, uniques):\n",
    "    height = p.get_height()\n",
    "    ax.text(p.get_x()+p.get_width()/2.,\n",
    "            height + 10,\n",
    "            uniq,\n",
    "            ha=\"center\") "
   ]
  },
  {
   "cell_type": "code",
   "execution_count": 9,
   "metadata": {},
   "outputs": [
    {
     "data": {
      "text/html": [
       "<div>\n",
       "<style>\n",
       "    .dataframe thead tr:only-child th {\n",
       "        text-align: right;\n",
       "    }\n",
       "\n",
       "    .dataframe thead th {\n",
       "        text-align: left;\n",
       "    }\n",
       "\n",
       "    .dataframe tbody tr th {\n",
       "        vertical-align: top;\n",
       "    }\n",
       "</style>\n",
       "<table border=\"1\" class=\"dataframe\">\n",
       "  <thead>\n",
       "    <tr style=\"text-align: right;\">\n",
       "      <th></th>\n",
       "      <th>attributed_time</th>\n",
       "      <th>is_attributed</th>\n",
       "    </tr>\n",
       "  </thead>\n",
       "  <tbody>\n",
       "    <tr>\n",
       "      <th>count</th>\n",
       "      <td>1693</td>\n",
       "      <td>1693.0</td>\n",
       "    </tr>\n",
       "    <tr>\n",
       "      <th>unique</th>\n",
       "      <td>1530</td>\n",
       "      <td>1.0</td>\n",
       "    </tr>\n",
       "    <tr>\n",
       "      <th>top</th>\n",
       "      <td>2017-11-06 16:22:12</td>\n",
       "      <td>1.0</td>\n",
       "    </tr>\n",
       "    <tr>\n",
       "      <th>freq</th>\n",
       "      <td>4</td>\n",
       "      <td>1693.0</td>\n",
       "    </tr>\n",
       "    <tr>\n",
       "      <th>first</th>\n",
       "      <td>2017-11-06 16:00:47</td>\n",
       "      <td>NaN</td>\n",
       "    </tr>\n",
       "    <tr>\n",
       "      <th>last</th>\n",
       "      <td>2017-11-07 15:55:31</td>\n",
       "      <td>NaN</td>\n",
       "    </tr>\n",
       "  </tbody>\n",
       "</table>\n",
       "</div>"
      ],
      "text/plain": [
       "            attributed_time  is_attributed\n",
       "count                  1693         1693.0\n",
       "unique                 1530            1.0\n",
       "top     2017-11-06 16:22:12            1.0\n",
       "freq                      4         1693.0\n",
       "first   2017-11-06 16:00:47            NaN\n",
       "last    2017-11-07 15:55:31            NaN"
      ]
     },
     "execution_count": 9,
     "metadata": {},
     "output_type": "execute_result"
    }
   ],
   "source": [
    "train[['attributed_time', 'is_attributed']][train['is_attributed']==1].describe()"
   ]
  },
  {
   "cell_type": "code",
   "execution_count": 10,
   "metadata": {},
   "outputs": [
    {
     "data": {
      "text/html": [
       "<div>\n",
       "<style>\n",
       "    .dataframe thead tr:only-child th {\n",
       "        text-align: right;\n",
       "    }\n",
       "\n",
       "    .dataframe thead th {\n",
       "        text-align: left;\n",
       "    }\n",
       "\n",
       "    .dataframe tbody tr th {\n",
       "        vertical-align: top;\n",
       "    }\n",
       "</style>\n",
       "<table border=\"1\" class=\"dataframe\">\n",
       "  <thead>\n",
       "    <tr style=\"text-align: right;\">\n",
       "      <th></th>\n",
       "      <th>click_id</th>\n",
       "      <th>ip</th>\n",
       "      <th>app</th>\n",
       "      <th>device</th>\n",
       "      <th>os</th>\n",
       "      <th>channel</th>\n",
       "      <th>click_time</th>\n",
       "    </tr>\n",
       "  </thead>\n",
       "  <tbody>\n",
       "    <tr>\n",
       "      <th>count</th>\n",
       "      <td>18790469.0</td>\n",
       "      <td>18790469.0</td>\n",
       "      <td>18790469.0</td>\n",
       "      <td>18790469.0</td>\n",
       "      <td>18790469.0</td>\n",
       "      <td>18790469.0</td>\n",
       "      <td>18790469</td>\n",
       "    </tr>\n",
       "    <tr>\n",
       "      <th>unique</th>\n",
       "      <td>18790469.0</td>\n",
       "      <td>93936.0</td>\n",
       "      <td>417.0</td>\n",
       "      <td>1985.0</td>\n",
       "      <td>395.0</td>\n",
       "      <td>178.0</td>\n",
       "      <td>21603</td>\n",
       "    </tr>\n",
       "    <tr>\n",
       "      <th>top</th>\n",
       "      <td>18790468.0</td>\n",
       "      <td>5348.0</td>\n",
       "      <td>9.0</td>\n",
       "      <td>1.0</td>\n",
       "      <td>19.0</td>\n",
       "      <td>107.0</td>\n",
       "      <td>2017-11-10 09:00:10</td>\n",
       "    </tr>\n",
       "    <tr>\n",
       "      <th>freq</th>\n",
       "      <td>1.0</td>\n",
       "      <td>182522.0</td>\n",
       "      <td>2872176.0</td>\n",
       "      <td>17360269.0</td>\n",
       "      <td>4334532.0</td>\n",
       "      <td>1214650.0</td>\n",
       "      <td>1466</td>\n",
       "    </tr>\n",
       "    <tr>\n",
       "      <th>first</th>\n",
       "      <td>NaN</td>\n",
       "      <td>NaN</td>\n",
       "      <td>NaN</td>\n",
       "      <td>NaN</td>\n",
       "      <td>NaN</td>\n",
       "      <td>NaN</td>\n",
       "      <td>2017-11-10 04:00:00</td>\n",
       "    </tr>\n",
       "    <tr>\n",
       "      <th>last</th>\n",
       "      <td>NaN</td>\n",
       "      <td>NaN</td>\n",
       "      <td>NaN</td>\n",
       "      <td>NaN</td>\n",
       "      <td>NaN</td>\n",
       "      <td>NaN</td>\n",
       "      <td>2017-11-10 15:00:00</td>\n",
       "    </tr>\n",
       "  </tbody>\n",
       "</table>\n",
       "</div>"
      ],
      "text/plain": [
       "          click_id          ip         app      device          os  \\\n",
       "count   18790469.0  18790469.0  18790469.0  18790469.0  18790469.0   \n",
       "unique  18790469.0     93936.0       417.0      1985.0       395.0   \n",
       "top     18790468.0      5348.0         9.0         1.0        19.0   \n",
       "freq           1.0    182522.0   2872176.0  17360269.0   4334532.0   \n",
       "first          NaN         NaN         NaN         NaN         NaN   \n",
       "last           NaN         NaN         NaN         NaN         NaN   \n",
       "\n",
       "           channel           click_time  \n",
       "count   18790469.0             18790469  \n",
       "unique       178.0                21603  \n",
       "top          107.0  2017-11-10 09:00:10  \n",
       "freq     1214650.0                 1466  \n",
       "first          NaN  2017-11-10 04:00:00  \n",
       "last           NaN  2017-11-10 15:00:00  "
      ]
     },
     "execution_count": 10,
     "metadata": {},
     "output_type": "execute_result"
    }
   ],
   "source": [
    "#set click_id to categorical, for cleaner statistics view\n",
    "test['click_id']=test['click_id'].astype('category')\n",
    "test.describe()"
   ]
  },
  {
   "cell_type": "code",
   "execution_count": 11,
   "metadata": {},
   "outputs": [
    {
     "data": {
      "text/plain": [
       "0    998307\n",
       "1      1693\n",
       "Name: is_attributed, dtype: int64"
      ]
     },
     "execution_count": 11,
     "metadata": {},
     "output_type": "execute_result"
    }
   ],
   "source": [
    "train.is_attributed.value_counts() # click only 0.17%  1693 out of 1 million clicks"
   ]
  },
  {
   "cell_type": "code",
   "execution_count": 12,
   "metadata": {},
   "outputs": [
    {
     "data": {
      "text/plain": [
       "0"
      ]
     },
     "execution_count": 12,
     "metadata": {},
     "output_type": "execute_result"
    }
   ],
   "source": [
    "max(train['click_time']).dayofweek ## 0:Monday "
   ]
  },
  {
   "cell_type": "code",
   "execution_count": 13,
   "metadata": {},
   "outputs": [
    {
     "data": {
      "image/png": "[encoded data removed]",
      "text/plain": [
       "<matplotlib.figure.Figure at 0x7f88dbcb00b8>"
      ]
     },
     "metadata": {},
     "output_type": "display_data"
    }
   ],
   "source": [
    "plt.figure(figsize=(6,6))\n",
    "#sns.set(font_scale=1.2)\n",
    "mean = (train.is_attributed.values == 1).mean()\n",
    "ax = sns.barplot(['App Downloaded (1)', 'Not Downloaded (0)'], [mean, 1-mean])\n",
    "ax.set(ylabel='Proportion', title='App Downloaded vs Not Downloaded')\n",
    "for p, uniq in zip(ax.patches, [mean, 1-mean]):\n",
    "    height = p.get_height()\n",
    "    ax.text(p.get_x()+p.get_width()/2.,\n",
    "            height+0.01,\n",
    "            '{}%'.format(round(uniq * 100, 2)),\n",
    "            ha=\"center\")"
   ]
  },
  {
   "cell_type": "code",
   "execution_count": 14,
   "metadata": {},
   "outputs": [
    {
     "data": {
      "text/html": [
       "<div>\n",
       "<style>\n",
       "    .dataframe thead tr:only-child th {\n",
       "        text-align: right;\n",
       "    }\n",
       "\n",
       "    .dataframe thead th {\n",
       "        text-align: left;\n",
       "    }\n",
       "\n",
       "    .dataframe tbody tr th {\n",
       "        vertical-align: top;\n",
       "    }\n",
       "</style>\n",
       "<table border=\"1\" class=\"dataframe\">\n",
       "  <thead>\n",
       "    <tr style=\"text-align: right;\">\n",
       "      <th></th>\n",
       "      <th>ip</th>\n",
       "      <th>counts</th>\n",
       "    </tr>\n",
       "  </thead>\n",
       "  <tbody>\n",
       "    <tr>\n",
       "      <th>0</th>\n",
       "      <td>73487</td>\n",
       "      <td>6437</td>\n",
       "    </tr>\n",
       "    <tr>\n",
       "      <th>1</th>\n",
       "      <td>73516</td>\n",
       "      <td>6317</td>\n",
       "    </tr>\n",
       "    <tr>\n",
       "      <th>2</th>\n",
       "      <td>105560</td>\n",
       "      <td>3474</td>\n",
       "    </tr>\n",
       "    <tr>\n",
       "      <th>3</th>\n",
       "      <td>5314</td>\n",
       "      <td>3367</td>\n",
       "    </tr>\n",
       "    <tr>\n",
       "      <th>4</th>\n",
       "      <td>5348</td>\n",
       "      <td>3057</td>\n",
       "    </tr>\n",
       "  </tbody>\n",
       "</table>\n",
       "</div>"
      ],
      "text/plain": [
       "       ip  counts\n",
       "0   73487    6437\n",
       "1   73516    6317\n",
       "2  105560    3474\n",
       "3    5314    3367\n",
       "4    5348    3057"
      ]
     },
     "execution_count": 14,
     "metadata": {},
     "output_type": "execute_result"
    }
   ],
   "source": [
    "temp = train['ip'].value_counts().reset_index(name='counts')\n",
    "temp.columns = ['ip','counts']\n",
    "temp.head()"
   ]
  },
  {
   "cell_type": "code",
   "execution_count": 15,
   "metadata": {
    "collapsed": true
   },
   "outputs": [],
   "source": [
    "#add temporary counts of ip feature ('counts') to the train table, to see if IPs with high counts have conversions\n",
    "train= train.merge(temp, on='ip', how='left')"
   ]
  },
  {
   "cell_type": "code",
   "execution_count": 16,
   "metadata": {},
   "outputs": [
    {
     "data": {
      "text/html": [
       "<div>\n",
       "<style>\n",
       "    .dataframe thead tr:only-child th {\n",
       "        text-align: right;\n",
       "    }\n",
       "\n",
       "    .dataframe thead th {\n",
       "        text-align: left;\n",
       "    }\n",
       "\n",
       "    .dataframe tbody tr th {\n",
       "        vertical-align: top;\n",
       "    }\n",
       "</style>\n",
       "<table border=\"1\" class=\"dataframe\">\n",
       "  <thead>\n",
       "    <tr style=\"text-align: right;\">\n",
       "      <th></th>\n",
       "      <th>ip</th>\n",
       "      <th>app</th>\n",
       "      <th>device</th>\n",
       "      <th>os</th>\n",
       "      <th>channel</th>\n",
       "      <th>click_time</th>\n",
       "      <th>attributed_time</th>\n",
       "      <th>is_attributed</th>\n",
       "      <th>counts</th>\n",
       "    </tr>\n",
       "  </thead>\n",
       "  <tbody>\n",
       "    <tr>\n",
       "      <th>545495</th>\n",
       "      <td>73487</td>\n",
       "      <td>3</td>\n",
       "      <td>1</td>\n",
       "      <td>13</td>\n",
       "      <td>153</td>\n",
       "      <td>2017-11-06 16:11:02</td>\n",
       "      <td>2017-11-06 16:11:04</td>\n",
       "      <td>1</td>\n",
       "      <td>6437</td>\n",
       "    </tr>\n",
       "    <tr>\n",
       "      <th>634686</th>\n",
       "      <td>73487</td>\n",
       "      <td>115</td>\n",
       "      <td>1</td>\n",
       "      <td>17</td>\n",
       "      <td>203</td>\n",
       "      <td>2017-11-06 16:13:05</td>\n",
       "      <td>2017-11-07 04:30:20</td>\n",
       "      <td>1</td>\n",
       "      <td>6437</td>\n",
       "    </tr>\n",
       "    <tr>\n",
       "      <th>382519</th>\n",
       "      <td>73487</td>\n",
       "      <td>11</td>\n",
       "      <td>1</td>\n",
       "      <td>13</td>\n",
       "      <td>319</td>\n",
       "      <td>2017-11-06 16:07:24</td>\n",
       "      <td>2017-11-06 16:09:15</td>\n",
       "      <td>1</td>\n",
       "      <td>6437</td>\n",
       "    </tr>\n",
       "    <tr>\n",
       "      <th>256256</th>\n",
       "      <td>73487</td>\n",
       "      <td>11</td>\n",
       "      <td>1</td>\n",
       "      <td>19</td>\n",
       "      <td>325</td>\n",
       "      <td>2017-11-06 16:05:02</td>\n",
       "      <td>2017-11-06 16:05:26</td>\n",
       "      <td>1</td>\n",
       "      <td>6437</td>\n",
       "    </tr>\n",
       "    <tr>\n",
       "      <th>13481</th>\n",
       "      <td>73487</td>\n",
       "      <td>11</td>\n",
       "      <td>1</td>\n",
       "      <td>17</td>\n",
       "      <td>481</td>\n",
       "      <td>2017-11-06 16:00:18</td>\n",
       "      <td>2017-11-06 16:09:04</td>\n",
       "      <td>1</td>\n",
       "      <td>6437</td>\n",
       "    </tr>\n",
       "    <tr>\n",
       "      <th>455924</th>\n",
       "      <td>73516</td>\n",
       "      <td>11</td>\n",
       "      <td>1</td>\n",
       "      <td>19</td>\n",
       "      <td>219</td>\n",
       "      <td>2017-11-06 16:09:00</td>\n",
       "      <td>2017-11-06 16:09:43</td>\n",
       "      <td>1</td>\n",
       "      <td>6317</td>\n",
       "    </tr>\n",
       "    <tr>\n",
       "      <th>126416</th>\n",
       "      <td>73516</td>\n",
       "      <td>19</td>\n",
       "      <td>0</td>\n",
       "      <td>50</td>\n",
       "      <td>282</td>\n",
       "      <td>2017-11-06 16:02:19</td>\n",
       "      <td>2017-11-06 16:07:22</td>\n",
       "      <td>1</td>\n",
       "      <td>6317</td>\n",
       "    </tr>\n",
       "    <tr>\n",
       "      <th>271395</th>\n",
       "      <td>73516</td>\n",
       "      <td>11</td>\n",
       "      <td>1</td>\n",
       "      <td>13</td>\n",
       "      <td>469</td>\n",
       "      <td>2017-11-06 16:05:16</td>\n",
       "      <td>2017-11-06 16:15:00</td>\n",
       "      <td>1</td>\n",
       "      <td>6317</td>\n",
       "    </tr>\n",
       "    <tr>\n",
       "      <th>289189</th>\n",
       "      <td>73516</td>\n",
       "      <td>19</td>\n",
       "      <td>3033</td>\n",
       "      <td>21</td>\n",
       "      <td>213</td>\n",
       "      <td>2017-11-06 16:05:33</td>\n",
       "      <td>2017-11-06 16:05:52</td>\n",
       "      <td>1</td>\n",
       "      <td>6317</td>\n",
       "    </tr>\n",
       "    <tr>\n",
       "      <th>450388</th>\n",
       "      <td>105560</td>\n",
       "      <td>20</td>\n",
       "      <td>1</td>\n",
       "      <td>16</td>\n",
       "      <td>478</td>\n",
       "      <td>2017-11-06 16:08:52</td>\n",
       "      <td>2017-11-07 00:37:05</td>\n",
       "      <td>1</td>\n",
       "      <td>3474</td>\n",
       "    </tr>\n",
       "  </tbody>\n",
       "</table>\n",
       "</div>"
      ],
      "text/plain": [
       "            ip  app device  os channel          click_time  \\\n",
       "545495   73487    3      1  13     153 2017-11-06 16:11:02   \n",
       "634686   73487  115      1  17     203 2017-11-06 16:13:05   \n",
       "382519   73487   11      1  13     319 2017-11-06 16:07:24   \n",
       "256256   73487   11      1  19     325 2017-11-06 16:05:02   \n",
       "13481    73487   11      1  17     481 2017-11-06 16:00:18   \n",
       "455924   73516   11      1  19     219 2017-11-06 16:09:00   \n",
       "126416   73516   19      0  50     282 2017-11-06 16:02:19   \n",
       "271395   73516   11      1  13     469 2017-11-06 16:05:16   \n",
       "289189   73516   19   3033  21     213 2017-11-06 16:05:33   \n",
       "450388  105560   20      1  16     478 2017-11-06 16:08:52   \n",
       "\n",
       "           attributed_time is_attributed  counts  \n",
       "545495 2017-11-06 16:11:04             1    6437  \n",
       "634686 2017-11-07 04:30:20             1    6437  \n",
       "382519 2017-11-06 16:09:15             1    6437  \n",
       "256256 2017-11-06 16:05:26             1    6437  \n",
       "13481  2017-11-06 16:09:04             1    6437  \n",
       "455924 2017-11-06 16:09:43             1    6317  \n",
       "126416 2017-11-06 16:07:22             1    6317  \n",
       "271395 2017-11-06 16:15:00             1    6317  \n",
       "289189 2017-11-06 16:05:52             1    6317  \n",
       "450388 2017-11-07 00:37:05             1    3474  "
      ]
     },
     "execution_count": 16,
     "metadata": {},
     "output_type": "execute_result"
    }
   ],
   "source": [
    "train[train.is_attributed==1].sort_values('counts',ascending=False)[:10]"
   ]
  },
  {
   "cell_type": "code",
   "execution_count": 17,
   "metadata": {},
   "outputs": [
    {
     "data": {
      "text/plain": [
       "count      1693\n",
       "unique     1632\n",
       "top       73487\n",
       "freq          5\n",
       "Name: ip, dtype: int64"
      ]
     },
     "execution_count": 17,
     "metadata": {},
     "output_type": "execute_result"
    }
   ],
   "source": [
    "train[train['is_attributed']==1].ip.describe()"
   ]
  },
  {
   "cell_type": "code",
   "execution_count": 24,
   "metadata": {
    "collapsed": true
   },
   "outputs": [],
   "source": [
    "#convert 'is_attributed' back to numeric for proportion calculations\n",
    "train['is_attributed']=train['is_attributed'].astype(np.uint16)\n"
   ]
  },
  {
   "cell_type": "markdown",
   "metadata": {},
   "source": [
    "#### Conversion rates over counts of 300 most popular IPs"
   ]
  },
  {
   "cell_type": "code",
   "execution_count": 40,
   "metadata": {},
   "outputs": [
    {
     "data": {
      "image/png": "[encoded data removed]",
      "text/plain": [
       "<matplotlib.figure.Figure at 0x7f88dba909e8>"
      ]
     },
     "metadata": {},
     "output_type": "display_data"
    },
    {
     "name": "stdout",
     "output_type": "stream",
     "text": [
      "Counversion Rates over Counts of Most Popular IPs\n",
      "        ip  click_count  prop_downloaded\n",
      "0    73487         6437         0.000777\n",
      "1    73516         6317         0.000633\n",
      "2   105560         3474         0.000576\n",
      "3     5314         3367         0.000000\n",
      "4     5348         3057         0.001308\n",
      "5    53454         3038         0.000000\n",
      "6   105475         2872         0.000348\n",
      "7   100275         2815         0.000710\n",
      "8   201182         2807         0.001069\n",
      "9   114276         2782         0.000000\n",
      "10   95766         2242         0.000000\n",
      "11   45745         1662         0.001203\n",
      "12  188387         1660         0.000602\n",
      "13  111025         1573         0.000000\n",
      "14   86767         1544         0.000000\n",
      "15  137052         1471         0.000680\n",
      "16   26995         1433         0.000000\n",
      "17  209663         1423         0.000703\n",
      "18  114220         1399         0.000000\n",
      "19   93054         1368         0.000731\n"
     ]
    }
   ],
   "source": [
    "proportion = train[['ip', 'is_attributed']].groupby('ip', as_index=False).mean().sort_values('is_attributed', ascending=False)\n",
    "counts = train[['ip', 'is_attributed']].groupby('ip', as_index=False).count().sort_values('is_attributed', ascending=False)\n",
    "merge = counts.merge(proportion, on='ip', how='left')\n",
    "merge.columns = ['ip', 'click_count', 'prop_downloaded']\n",
    "\n",
    "ax = merge[:300].plot(secondary_y='prop_downloaded')\n",
    "plt.title('Conversion Rates over Counts of 300 Most Popular IPs')\n",
    "ax.set(ylabel='Count of clicks')\n",
    "plt.ylabel('Proportion Downloaded')\n",
    "plt.show()\n",
    "\n",
    "print('Counversion Rates over Counts of Most Popular IPs')\n",
    "print(merge[:20])"
   ]
  },
  {
   "cell_type": "markdown",
   "metadata": {},
   "source": [
    "#### Conversion by App"
   ]
  },
  {
   "cell_type": "code",
   "execution_count": 54,
   "metadata": {},
   "outputs": [
    {
     "data": {
      "image/png": "[encoded data removed]",
      "text/plain": [
       "<matplotlib.figure.Figure at 0x7f88db5d6f98>"
      ]
     },
     "metadata": {},
     "output_type": "display_data"
    },
    {
     "name": "stdout",
     "output_type": "stream",
     "text": [
      "Counversion Rates over Counts of Most Popular Apps\n",
      "   app  click_count  prop_downloaded\n",
      "0   12       141851         0.000134\n",
      "1    3       136810         0.000446\n",
      "2   15       114425         0.000210\n",
      "3    2       114340         0.000262\n",
      "4    9       112038         0.000848\n",
      "5   18        82498         0.000376\n",
      "6    8        48917         0.001288\n",
      "7   14        35943         0.000473\n",
      "8    1        32070         0.000343\n",
      "9    6        20373         0.000098\n",
      "10  21        20321         0.000148\n",
      "11  20        17199         0.001628\n",
      "12  25        16643         0.000120\n",
      "13  24        16022         0.000374\n",
      "14  13        14694         0.000068\n",
      "15  64        12822         0.000312\n",
      "16  11        10413         0.001633\n",
      "17  23        10099         0.000000\n",
      "18  26         8337         0.000720\n",
      "19  27         5147         0.000389\n"
     ]
    }
   ],
   "source": [
    "proportion = train[['app', 'is_attributed']].groupby('app', as_index=False).mean().sort_values('is_attributed', ascending=False)\n",
    "counts = train[['app', 'is_attributed']].groupby('app', as_index=False).count().sort_values('is_attributed', ascending=False)\n",
    "merge = counts.merge(proportion, on='app', how='left')\n",
    "merge.columns = ['app', 'click_count', 'prop_downloaded']\n",
    "\n",
    "ax = merge[:100].plot(secondary_y='prop_downloaded')\n",
    "plt.title('Conversion Rates over Counts of 100 Most Popular Apps')\n",
    "ax.set(ylabel='Count of clicks')\n",
    "plt.ylabel('Proportion Downloaded')\n",
    "plt.show()\n",
    "\n",
    "print('Counversion Rates over Counts of Most Popular Apps')\n",
    "print(merge[:20])"
   ]
  },
  {
   "cell_type": "code",
   "execution_count": 55,
   "metadata": {},
   "outputs": [
    {
     "data": {
      "image/png": "[encoded data removed]",
      "text/plain": [
       "<matplotlib.figure.Figure at 0x7f88db541cf8>"
      ]
     },
     "metadata": {},
     "output_type": "display_data"
    },
    {
     "name": "stdout",
     "output_type": "stream",
     "text": [
      "Counversion Rates over Counts of Most Popular Operating Systems\n",
      "    os  click_count  prop_downloaded\n",
      "0   19       239642         0.001394\n",
      "1   13       223440         0.001146\n",
      "2   17        54055         0.000943\n",
      "3   18        50421         0.000972\n",
      "4   22        35751         0.002042\n",
      "5    8        30340         0.001088\n",
      "6   10        29754         0.001075\n",
      "7    6        24998         0.001760\n",
      "8   25        24795         0.001049\n",
      "9    9        24116         0.000746\n",
      "10  15        23133         0.000692\n",
      "11  20        22742         0.001099\n",
      "12  16        18013         0.000999\n",
      "13  14        15484         0.001550\n",
      "14   3        14073         0.000924\n",
      "15  37        13023         0.000384\n",
      "16  41        12508         0.001439\n",
      "17   1        11393         0.001755\n",
      "18  12        10695         0.000935\n",
      "19  35         9731         0.000822\n"
     ]
    }
   ],
   "source": [
    "proportion = train[['os', 'is_attributed']].groupby('os', as_index=False).mean().sort_values('is_attributed', ascending=False)\n",
    "counts = train[['os', 'is_attributed']].groupby('os', as_index=False).count().sort_values('is_attributed', ascending=False)\n",
    "merge = counts.merge(proportion, on='os', how='left')\n",
    "merge.columns = ['os', 'click_count', 'prop_downloaded']\n",
    "\n",
    "ax = merge[:100].plot(secondary_y='prop_downloaded')\n",
    "plt.title('Conversion Rates over Counts of 100 Most Popular Operating Systems')\n",
    "ax.set(ylabel='Count of clicks')\n",
    "plt.ylabel('Proportion Downloaded')\n",
    "plt.show()\n",
    "\n",
    "print('Counversion Rates over Counts of Most Popular Operating Systems')\n",
    "print(merge[:20])"
   ]
  },
  {
   "cell_type": "code",
   "execution_count": 56,
   "metadata": {},
   "outputs": [
    {
     "name": "stdout",
     "output_type": "stream",
     "text": [
      "Count of clicks and proportion of downloads by device:\n",
      "    device  click_count  prop_downloaded\n",
      "0        1       938053         0.001193\n",
      "1        2        49330         0.000182\n",
      "2     3032         8167         0.000000\n",
      "3        0         3183         0.114986\n",
      "4       59          254         0.000000\n",
      "5        6           55         0.163636\n",
      "6       40           46         0.260870\n",
      "7       18           42         0.142857\n",
      "8       37           30         0.166667\n",
      "9       73           24         0.125000\n",
      "10      33           23         0.173913\n",
      "11      16           23         0.130435\n",
      "12      88           18         0.388889\n",
      "13      21           18         0.277778\n",
      "14       7           17         0.411765\n",
      "15      78           16         0.187500\n",
      "16     109           14         0.142857\n",
      "17     231           12         0.166667\n",
      "18     395           12         0.000000\n",
      "19     114           12         0.083333\n",
      "20    3033           12         0.416667\n",
      "21      67           11         0.272727\n",
      "22     181           11         0.090909\n",
      "23     211           10         0.300000\n",
      "24      50           10         0.400000\n",
      "25      56           10         0.300000\n",
      "26     154            9         0.222222\n",
      "27      30            9         0.222222\n",
      "28     251            9         0.222222\n",
      "29     381            9         0.444444\n",
      "..     ...          ...              ...\n",
      "268    533            1         0.000000\n",
      "269    555            1         0.000000\n",
      "270    569            1         0.000000\n",
      "271    576            1         0.000000\n",
      "272    577            1         1.000000\n",
      "273    578            1         0.000000\n",
      "274    399            1         0.000000\n",
      "275    385            1         0.000000\n",
      "276    268            1         0.000000\n",
      "277    383            1         0.000000\n",
      "278    277            1         0.000000\n",
      "279    278            1         0.000000\n",
      "280    288            1         0.000000\n",
      "281    290            1         0.000000\n",
      "282    296            1         0.000000\n",
      "283    301            1         0.000000\n",
      "284    305            1         0.000000\n",
      "285    311            1         1.000000\n",
      "286    312            1         0.000000\n",
      "287    313            1         1.000000\n",
      "288    314            1         0.000000\n",
      "289    319            1         0.000000\n",
      "290    326            1         0.000000\n",
      "291    329            1         0.000000\n",
      "292    351            1         1.000000\n",
      "293    357            1         0.000000\n",
      "294    362            1         0.000000\n",
      "295    372            1         0.000000\n",
      "296    379            1         1.000000\n",
      "297   3379            1         1.000000\n",
      "\n",
      "[298 rows x 3 columns]\n"
     ]
    }
   ],
   "source": [
    "proportion = train[['device', 'is_attributed']].groupby('device', as_index=False).mean().sort_values('is_attributed', ascending=False)\n",
    "counts = train[['device', 'is_attributed']].groupby('device', as_index=False).count().sort_values('is_attributed', ascending=False)\n",
    "merge = counts.merge(proportion, on='device', how='left')\n",
    "merge.columns = ['device', 'click_count', 'prop_downloaded']\n",
    "\n",
    "print('Count of clicks and proportion of downloads by device:')\n",
    "print(merge)"
   ]
  },
  {
   "cell_type": "code",
   "execution_count": 61,
   "metadata": {},
   "outputs": [
    {
     "data": {
      "text/plain": [
       "[3, 14, 64, 18, 6, ..., 551, 549, 59, 372, 76]\n",
       "Length: 214\n",
       "Categories (214, int64): [3, 14, 64, 18, ..., 549, 59, 372, 76]"
      ]
     },
     "execution_count": 61,
     "metadata": {},
     "output_type": "execute_result"
    }
   ],
   "source": [
    "train.app.unique()"
   ]
  }
 ],
 "metadata": {
  "kernelspec": {
   "display_name": "Python 3",
   "language": "python",
   "name": "python3"
  },
  "language_info": {
   "codemirror_mode": {
    "name": "ipython",
    "version": 3
   },
   "file_extension": ".py",
   "mimetype": "text/x-python",
   "name": "python",
   "nbconvert_exporter": "python",
   "pygments_lexer": "ipython3",
   "version": "3.6.3"
  }
 },
 "nbformat": 4,
 "nbformat_minor": 2
}
