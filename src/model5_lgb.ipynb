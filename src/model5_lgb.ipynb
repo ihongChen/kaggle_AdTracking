{
 "cells": [
  {
   "cell_type": "markdown",
   "metadata": {},
   "source": [
    "this scrip based on feature5.ipynb\n",
    "\n",
    "train on day8, validate on day9 with/wo ip<126420\n",
    "\n",
    "\n",
    "1. train: day8 ,val: day9 ip<126420\n",
    "    - day 0.0\n",
    "    - ip_app_mean_target,0.0,0\n",
    "    - app_channel_mean_target,0.0,0"
   ]
  },
  {
   "cell_type": "markdown",
   "metadata": {},
   "source": [
    "~~2. train: day8 + day9 (first 10 milion) ip<126420, val:day9 others ip<126420~~    \n",
    "~~3. train: day8 + day9 (first 10 milion), val: day9 others ip<126420~~    \n",
    "~~4. train: day8 + day9 (first 30 milion), val: day9 others & ip<126420~~  \n",
    "    "
   ]
  },
  {
   "cell_type": "code",
   "execution_count": 1,
   "metadata": {},
   "outputs": [],
   "source": [
    "import pandas as pd \n",
    "import gc\n",
    "import numpy as np \n",
    "import matplotlib.pyplot as plt\n",
    "%matplotlib inline\n",
    "import lightgbm as lgb\n",
    "import time"
   ]
  },
  {
   "cell_type": "code",
   "execution_count": 2,
   "metadata": {},
   "outputs": [
    {
     "name": "stdout",
     "output_type": "stream",
     "text": [
      "['/test_df', '/train_df', '/valid_df']\n"
     ]
    }
   ],
   "source": [
    "with pd.HDFStore('../input/feat/feat5_trn_day8_val_day9.h5') as store:\n",
    "    print(store.keys())\n",
    "    train_df = store['train_df']\n",
    "    val_df = store['valid_df']\n",
    "    test_df = store['test_df']"
   ]
  },
  {
   "cell_type": "code",
   "execution_count": 3,
   "metadata": {},
   "outputs": [
    {
     "name": "stdout",
     "output_type": "stream",
     "text": [
      "shape of train:(62360949, 28)\n",
      "shape of val  :(62832642, 28)\n",
      "shape of test :(18790469, 28)\n"
     ]
    }
   ],
   "source": [
    "print('shape of train:{}'.format(train_df.shape))\n",
    "print('shape of val  :{}'.format(val_df.shape))\n",
    "print('shape of test :{}'.format(test_df.shape))"
   ]
  },
  {
   "cell_type": "code",
   "execution_count": 4,
   "metadata": {},
   "outputs": [
    {
     "data": {
      "text/plain": [
       "0.0    62209584\n",
       "1.0      151365\n",
       "Name: is_attributed, dtype: int64"
      ]
     },
     "execution_count": 4,
     "metadata": {},
     "output_type": "execute_result"
    }
   ],
   "source": [
    "train_df.is_attributed.value_counts()"
   ]
  },
  {
   "cell_type": "code",
   "execution_count": 5,
   "metadata": {},
   "outputs": [
    {
     "data": {
      "text/plain": [
       "0.0    62679243\n",
       "1.0      153399\n",
       "Name: is_attributed, dtype: int64"
      ]
     },
     "execution_count": 5,
     "metadata": {},
     "output_type": "execute_result"
    }
   ],
   "source": [
    "val_df.is_attributed.value_counts()"
   ]
  },
  {
   "cell_type": "code",
   "execution_count": 4,
   "metadata": {},
   "outputs": [],
   "source": [
    "def lgb_modelfit_nocv(params, dtrain, dvalid, predictors, target='target', objective='binary', metrics='auc',\n",
    "                 feval=None, early_stopping_rounds=20, num_boost_round=3000, verbose_eval=10, categorical_features=None):\n",
    "    lgb_params = {\n",
    "        'boosting_type': 'gbdt',\n",
    "        'objective': objective,\n",
    "        'metric':metrics,\n",
    "        'learning_rate': 0.2,\n",
    "        #'is_unbalance': 'true',  #because training data is unbalance (replaced with scale_pos_weight)\n",
    "        'num_leaves': 31,  # we should let it be smaller than 2^(max_depth)\n",
    "        'max_depth': -1,  # -1 means no limit\n",
    "        'min_child_samples': 20,  # Minimum number of data need in a child(min_data_in_leaf)\n",
    "        'max_bin': 255,  # Number of bucketed bin for feature values\n",
    "        'subsample': 0.6,  # Subsample ratio of the training instance.\n",
    "        'subsample_freq': 0,  # frequence of subsample, <=0 means no enable\n",
    "        'colsample_bytree': 0.3,  # Subsample ratio of columns when constructing each tree.\n",
    "        'min_child_weight': 5,  # Minimum sum of instance weight(hessian) needed in a child(leaf)\n",
    "        'subsample_for_bin': 200000,  # Number of samples for constructing bin\n",
    "        'min_split_gain': 0,  # lambda_l1, lambda_l2 and min_gain_to_split to regularization\n",
    "        'reg_alpha': 0,  # L1 regularization term on weights\n",
    "        'reg_lambda': 0,  # L2 regularization term on weights\n",
    "        'nthread': 4,\n",
    "        'verbose': 0,\n",
    "        'metric':metrics\n",
    "    }\n",
    "\n",
    "    lgb_params.update(params)\n",
    "\n",
    "    print(\"preparing validation datasets\")\n",
    "\n",
    "    xgtrain = lgb.Dataset(dtrain[predictors].values, label=dtrain[target].values,\n",
    "                          feature_name=predictors,\n",
    "                          categorical_feature=categorical_features\n",
    "                          )\n",
    "    xgvalid = lgb.Dataset(dvalid[predictors].values, label=dvalid[target].values,\n",
    "                          feature_name=predictors,\n",
    "                          categorical_feature=categorical_features\n",
    "                          )\n",
    "\n",
    "    evals_results = {}\n",
    "\n",
    "    bst1 = lgb.train(lgb_params, \n",
    "                     xgtrain, \n",
    "                     valid_sets=[xgvalid], \n",
    "                     valid_names=['valid'], \n",
    "                     evals_result=evals_results, \n",
    "                     num_boost_round=num_boost_round,\n",
    "                     early_stopping_rounds=early_stopping_rounds,\n",
    "                     verbose_eval=10, \n",
    "                     feval=feval)\n",
    "\n",
    "    print(\"\\nModel Report\")\n",
    "    print(\"bst1.best_iteration: \", bst1.best_iteration)\n",
    "    print(metrics+\":\", evals_results['valid'][metrics][bst1.best_iteration-1])\n",
    "\n",
    "    return (bst1,bst1.best_iteration)"
   ]
  },
  {
   "cell_type": "code",
   "execution_count": 5,
   "metadata": {},
   "outputs": [],
   "source": [
    "# train_df = train_df.append(val_df.head(40000000))\n",
    "# val_df = val_df.iloc[40000000:]\n",
    "val_df = val_df[val_df.ip< 126420]\n",
    "# gc.collect()"
   ]
  },
  {
   "cell_type": "code",
   "execution_count": 6,
   "metadata": {},
   "outputs": [
    {
     "name": "stdout",
     "output_type": "stream",
     "text": [
      "shape of train:(62360949, 28)\n",
      "shape of val  :(51222594, 28)\n",
      "shape of test :(18790469, 28)\n"
     ]
    }
   ],
   "source": [
    "print('shape of train:{}'.format(train_df.shape))\n",
    "print('shape of val  :{}'.format(val_df.shape))\n",
    "print('shape of test :{}'.format(test_df.shape))"
   ]
  },
  {
   "cell_type": "code",
   "execution_count": 7,
   "metadata": {},
   "outputs": [
    {
     "data": {
      "text/plain": [
       "Index(['app', 'app_cumcnt_ip_device_os', 'app_mean_target',\n",
       "       'app_nunique_channel', 'app_nunique_ip', 'app_nunique_ip_device_os',\n",
       "       'channel', 'channel_cnt_ip_app', 'channel_cnt_ip_day_hour',\n",
       "       'channel_mean_target', 'channel_nunique_ip', 'click_id', 'click_time',\n",
       "       'day', 'device', 'device_mean_target', 'hour', 'hour_nunique_ip_day',\n",
       "       'ip', 'ip_mean_target', 'is_attributed', 'next_click_dt', 'os',\n",
       "       'ip_nunique_channel', 'ip_app_mean_target', 'app_channel_mean_target',\n",
       "       'os_mean_target', 'hour_mean_target'],\n",
       "      dtype='object')"
      ]
     },
     "execution_count": 7,
     "metadata": {},
     "output_type": "execute_result"
    }
   ],
   "source": [
    "train_df.columns"
   ]
  },
  {
   "cell_type": "code",
   "execution_count": 8,
   "metadata": {},
   "outputs": [],
   "source": [
    "# print(\"Training...\")\n",
    "start_time = time.time()\n",
    "\n",
    "params = {\n",
    "    'learning_rate': 0.20,\n",
    "    #'is_unbalance': 'true', # replaced with scale_pos_weight argument\n",
    "    'num_leaves': 7,  # 2^max_depth - 1\n",
    "    'max_depth': 3,  # -1 means no limit\n",
    "    'min_child_samples': 100,  # Minimum number of data need in a child(min_data_in_leaf)\n",
    "    'max_bin': 100,  # Number of bucketed bin for feature values\n",
    "    'subsample': 0.7,  # Subsample ratio of the training instance.\n",
    "    'subsample_freq': 1,  # frequence of subsample, <=0 means no enable\n",
    "    'colsample_bytree': 0.9,  # Subsample ratio of columns when constructing each tree.\n",
    "    'min_child_weight': 0,  # Minimum sum of instance weight(hessian) needed in a child(leaf)\n",
    "    'scale_pos_weight':200 # because training data is extremely unbalanced \n",
    "}\n",
    "\n",
    "target = 'is_attributed'\n",
    "categorical = ['app', 'device', 'os', 'channel', 'hour','day']\n",
    "\n",
    "predictors = list(val_df.columns)\n",
    "remove_col = ['click_id','click_time','is_attributed']\n",
    "predictors = [e for e in predictors if e not in remove_col]"
   ]
  },
  {
   "cell_type": "code",
   "execution_count": 10,
   "metadata": {},
   "outputs": [
    {
     "name": "stdout",
     "output_type": "stream",
     "text": [
      "numbers of features 25\n"
     ]
    },
    {
     "data": {
      "text/plain": [
       "['app',\n",
       " 'app_cumcnt_ip_device_os',\n",
       " 'app_mean_target',\n",
       " 'app_nunique_channel',\n",
       " 'app_nunique_ip',\n",
       " 'app_nunique_ip_device_os',\n",
       " 'channel',\n",
       " 'channel_cnt_ip_app',\n",
       " 'channel_cnt_ip_day_hour',\n",
       " 'channel_mean_target',\n",
       " 'channel_nunique_ip',\n",
       " 'day',\n",
       " 'device',\n",
       " 'device_mean_target',\n",
       " 'hour',\n",
       " 'hour_nunique_ip_day',\n",
       " 'ip',\n",
       " 'ip_mean_target',\n",
       " 'next_click_dt',\n",
       " 'os',\n",
       " 'ip_nunique_channel',\n",
       " 'ip_app_mean_target',\n",
       " 'app_channel_mean_target',\n",
       " 'os_mean_target',\n",
       " 'hour_mean_target']"
      ]
     },
     "execution_count": 10,
     "metadata": {},
     "output_type": "execute_result"
    }
   ],
   "source": [
    "print('numbers of features', len(predictors))\n",
    "predictors"
   ]
  },
  {
   "cell_type": "code",
   "execution_count": 11,
   "metadata": {},
   "outputs": [
    {
     "name": "stdout",
     "output_type": "stream",
     "text": [
      "preparing validation datasets\n"
     ]
    },
    {
     "name": "stderr",
     "output_type": "stream",
     "text": [
      "C:\\Program Files\\Anaconda3\\envs\\py36\\lib\\site-packages\\lightgbm\\basic.py:1036: UserWarning: Using categorical_feature in Dataset.\n",
      "  warnings.warn('Using categorical_feature in Dataset.')\n",
      "C:\\Program Files\\Anaconda3\\envs\\py36\\lib\\site-packages\\lightgbm\\basic.py:681: UserWarning: categorical_feature in param dict is overrided.\n",
      "  warnings.warn('categorical_feature in param dict is overrided.')\n"
     ]
    },
    {
     "name": "stdout",
     "output_type": "stream",
     "text": [
      "Training until validation scores don't improve for 30 rounds.\n",
      "[10]\tvalid's auc: 0.945351\n",
      "[20]\tvalid's auc: 0.954338\n",
      "[30]\tvalid's auc: 0.958494\n",
      "[40]\tvalid's auc: 0.960996\n",
      "[50]\tvalid's auc: 0.962435\n",
      "[60]\tvalid's auc: 0.963415\n",
      "[70]\tvalid's auc: 0.963939\n",
      "[80]\tvalid's auc: 0.964547\n",
      "[90]\tvalid's auc: 0.964995\n",
      "[100]\tvalid's auc: 0.965459\n",
      "[110]\tvalid's auc: 0.965773\n",
      "[120]\tvalid's auc: 0.965982\n",
      "[130]\tvalid's auc: 0.966186\n",
      "[140]\tvalid's auc: 0.966363\n",
      "[150]\tvalid's auc: 0.96646\n",
      "[160]\tvalid's auc: 0.966528\n",
      "[170]\tvalid's auc: 0.966621\n",
      "[180]\tvalid's auc: 0.96672\n",
      "[190]\tvalid's auc: 0.966697\n",
      "[200]\tvalid's auc: 0.966759\n",
      "[210]\tvalid's auc: 0.966803\n",
      "[220]\tvalid's auc: 0.966823\n",
      "[230]\tvalid's auc: 0.966927\n",
      "[240]\tvalid's auc: 0.966905\n",
      "[250]\tvalid's auc: 0.96691\n",
      "[260]\tvalid's auc: 0.966954\n",
      "[270]\tvalid's auc: 0.966942\n",
      "[280]\tvalid's auc: 0.966917\n",
      "Early stopping, best iteration is:\n",
      "[255]\tvalid's auc: 0.96697\n",
      "\n",
      "Model Report\n",
      "bst1.best_iteration:  255\n",
      "auc: 0.966969582954\n"
     ]
    }
   ],
   "source": [
    "(bst,best_iteration) = lgb_modelfit_nocv(params, \n",
    "                        train_df, \n",
    "                        val_df, \n",
    "                        predictors, \n",
    "                        target, \n",
    "                        objective='binary', \n",
    "                        metrics='auc',\n",
    "                        early_stopping_rounds=30, \n",
    "                        verbose_eval=True, \n",
    "                        num_boost_round=1000,  \n",
    "                        categorical_features=categorical)"
   ]
  },
  {
   "cell_type": "markdown",
   "metadata": {},
   "source": [
    "# explore"
   ]
  },
  {
   "cell_type": "code",
   "execution_count": 20,
   "metadata": {},
   "outputs": [
    {
     "data": {
      "text/plain": [
       "0.0    62209584\n",
       "1.0      151365\n",
       "Name: is_attributed, dtype: int64"
      ]
     },
     "execution_count": 20,
     "metadata": {},
     "output_type": "execute_result"
    }
   ],
   "source": [
    "train_df.is_attributed.value_counts()"
   ]
  },
  {
   "cell_type": "code",
   "execution_count": 21,
   "metadata": {},
   "outputs": [
    {
     "data": {
      "text/plain": [
       "0.0    51160958\n",
       "1.0       61636\n",
       "Name: is_attributed, dtype: int64"
      ]
     },
     "execution_count": 21,
     "metadata": {},
     "output_type": "execute_result"
    }
   ],
   "source": [
    "val_df.is_attributed.value_counts()"
   ]
  },
  {
   "cell_type": "markdown",
   "metadata": {},
   "source": [
    "# Sub \n",
    " "
   ]
  },
  {
   "cell_type": "code",
   "execution_count": 12,
   "metadata": {},
   "outputs": [
    {
     "name": "stdout",
     "output_type": "stream",
     "text": [
      "Plot feature importances...\n"
     ]
    },
    {
     "data": {
      "image/png": "[encoded data removed]",
      "text/plain": [
       "<matplotlib.figure.Figure at 0x20a3630c18>"
      ]
     },
     "metadata": {},
     "output_type": "display_data"
    }
   ],
   "source": [
    "print('Plot feature importances...')\n",
    "ax = lgb.plot_importance(bst, max_num_features=100,importance_type='gain')"
   ]
  },
  {
   "cell_type": "code",
   "execution_count": 13,
   "metadata": {},
   "outputs": [],
   "source": [
    "feat_imp = pd.DataFrame({'f':bst.feature_name(),\n",
    "                         'split':bst.feature_importance(importance_type='split'),\n",
    "                         'gain':bst.feature_importance(importance_type='gain')}).sort_values(by='split',ascending=False)\n",
    "feat_imp.to_csv('../find/feat_impact05_1.csv',index=False)"
   ]
  },
  {
   "cell_type": "code",
   "execution_count": 14,
   "metadata": {},
   "outputs": [],
   "source": [
    "bst.save_model('../output/model/lgb_val_9669_on_day9.txt')"
   ]
  },
  {
   "cell_type": "code",
   "execution_count": 15,
   "metadata": {},
   "outputs": [
    {
     "name": "stdout",
     "output_type": "stream",
     "text": [
      "Predicting...\n",
      "complete\n"
     ]
    }
   ],
   "source": [
    "sub = pd.DataFrame()\n",
    "sub['click_id'] = test_df['click_id'].astype(int)\n",
    "\n",
    "print(\"Predicting...\")\n",
    "sub['is_attributed'] = bst.predict(test_df[predictors],num_iteration=best_iteration)\n",
    "print('complete')    "
   ]
  },
  {
   "cell_type": "code",
   "execution_count": 16,
   "metadata": {},
   "outputs": [
    {
     "data": {
      "text/plain": [
       "click_id           int32\n",
       "is_attributed    float64\n",
       "dtype: object"
      ]
     },
     "execution_count": 16,
     "metadata": {},
     "output_type": "execute_result"
    }
   ],
   "source": [
    "sub.dtypes"
   ]
  },
  {
   "cell_type": "code",
   "execution_count": 17,
   "metadata": {},
   "outputs": [
    {
     "data": {
      "text/html": [
       "<div>\n",
       "<style>\n",
       "    .dataframe thead tr:only-child th {\n",
       "        text-align: right;\n",
       "    }\n",
       "\n",
       "    .dataframe thead th {\n",
       "        text-align: left;\n",
       "    }\n",
       "\n",
       "    .dataframe tbody tr th {\n",
       "        vertical-align: top;\n",
       "    }\n",
       "</style>\n",
       "<table border=\"1\" class=\"dataframe\">\n",
       "  <thead>\n",
       "    <tr style=\"text-align: right;\">\n",
       "      <th></th>\n",
       "      <th>click_id</th>\n",
       "      <th>is_attributed</th>\n",
       "    </tr>\n",
       "  </thead>\n",
       "  <tbody>\n",
       "    <tr>\n",
       "      <th>0</th>\n",
       "      <td>0</td>\n",
       "      <td>0.225147</td>\n",
       "    </tr>\n",
       "    <tr>\n",
       "      <th>1</th>\n",
       "      <td>1</td>\n",
       "      <td>0.047203</td>\n",
       "    </tr>\n",
       "    <tr>\n",
       "      <th>2</th>\n",
       "      <td>2</td>\n",
       "      <td>0.007243</td>\n",
       "    </tr>\n",
       "    <tr>\n",
       "      <th>3</th>\n",
       "      <td>3</td>\n",
       "      <td>0.049137</td>\n",
       "    </tr>\n",
       "    <tr>\n",
       "      <th>4</th>\n",
       "      <td>4</td>\n",
       "      <td>0.049039</td>\n",
       "    </tr>\n",
       "  </tbody>\n",
       "</table>\n",
       "</div>"
      ],
      "text/plain": [
       "   click_id  is_attributed\n",
       "0         0       0.225147\n",
       "1         1       0.047203\n",
       "2         2       0.007243\n",
       "3         3       0.049137\n",
       "4         4       0.049039"
      ]
     },
     "execution_count": 17,
     "metadata": {},
     "output_type": "execute_result"
    }
   ],
   "source": [
    "sub.head()"
   ]
  },
  {
   "cell_type": "code",
   "execution_count": 18,
   "metadata": {},
   "outputs": [],
   "source": [
    "sub['click_id'] = sub.click_id.astype('uint32')\n",
    "sub['is_attributed'] = sub.is_attributed.astype('float16')"
   ]
  },
  {
   "cell_type": "code",
   "execution_count": 19,
   "metadata": {},
   "outputs": [
    {
     "name": "stdout",
     "output_type": "stream",
     "text": [
      "writing...\n",
      "finished\n"
     ]
    }
   ],
   "source": [
    "print('writing...')\n",
    "fileno = 8\n",
    "sub.to_csv('../output/sub_it{}.csv.gz'.format(fileno),index=False,compression='gzip')\n",
    "print('finished')"
   ]
  },
  {
   "cell_type": "markdown",
   "metadata": {},
   "source": [
    "_____"
   ]
  }
 ],
 "metadata": {
  "anaconda-cloud": {},
  "kernelspec": {
   "display_name": "Python [conda env:py36]",
   "language": "python",
   "name": "conda-env-py36-py"
  },
  "language_info": {
   "codemirror_mode": {
    "name": "ipython",
    "version": 3
   },
   "file_extension": ".py",
   "mimetype": "text/x-python",
   "name": "python",
   "nbconvert_exporter": "python",
   "pygments_lexer": "ipython3",
   "version": "3.6.3"
  }
 },
 "nbformat": 4,
 "nbformat_minor": 1
}
