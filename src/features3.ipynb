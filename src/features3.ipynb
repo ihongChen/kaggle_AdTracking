{
 "cells": [
  {
   "cell_type": "markdown",
   "metadata": {},
   "source": [
    "This script do:\n",
    "- preprocess:\n",
    "    - reset time zone to Asia/Shanghei \n",
    "    \n",
    "- add features\n",
    "    - new_ip by day7,8,9, assign before day7(include) as `-1`\n",
    "    - potetial_fraud (ip<12620)    \n",
    "- reduce features\n",
    "    - use only (according model2_lgbm gain importance)\n",
    "        - app_mean_target\n",
    "        - app\n",
    "        - channel_mean_target\n",
    "        - next_click_dt\n",
    "        - channel_nunique_ip\n",
    "        - os\n",
    "        - channel\n",
    "        - hour\n",
    "        - app_nunique_channel\n",
    "        - channel_cnt_ip_app\n",
    "        - hour_nunique_day_ip\n",
    "        - app_nunique_ip\n",
    "        - app_nunique_ip_device_os\n",
    "        - ip        \n",
    "        \n",
    "compare to features1.ipynb"
   ]
  },
  {
   "cell_type": "code",
   "execution_count": 2,
   "metadata": {},
   "outputs": [],
   "source": [
    "import pandas as pd \n",
    "import numpy as np \n",
    "import matplotlib.pyplot as plt \n",
    "import pytz\n",
    "%matplotlib inline \n",
    "import gc,time"
   ]
  },
  {
   "cell_type": "code",
   "execution_count": 2,
   "metadata": {},
   "outputs": [
    {
     "name": "stdout",
     "output_type": "stream",
     "text": [
      "['/test_df', '/train_df']\n"
     ]
    }
   ],
   "source": [
    "with pd.HDFStore('../input/raw_data.h5') as store:\n",
    "    print(store.keys())\n",
    "    test_df = store['test_df']\n",
    "    train_df = store['train_df']"
   ]
  },
  {
   "cell_type": "markdown",
   "metadata": {},
   "source": [
    "* add highly potential fraud ip <-- ip<126420"
   ]
  },
  {
   "cell_type": "code",
   "execution_count": 72,
   "metadata": {},
   "outputs": [],
   "source": [
    "train_df['potential_fraud'] = (train_df.ip<126420)"
   ]
  },
  {
   "cell_type": "code",
   "execution_count": 73,
   "metadata": {},
   "outputs": [
    {
     "data": {
      "text/plain": [
       "potential_fraud\n",
       "False    12878129\n",
       "True     46831240\n",
       "Name: ip, dtype: int64"
      ]
     },
     "execution_count": 73,
     "metadata": {},
     "output_type": "execute_result"
    }
   ],
   "source": [
    "mask = train_df.day==7\n",
    "train_df[mask].groupby('potential_fraud')['ip'].count()"
   ]
  },
  {
   "cell_type": "code",
   "execution_count": 17,
   "metadata": {},
   "outputs": [
    {
     "data": {
      "text/plain": [
       "potential_fraud\n",
       "False    12195663\n",
       "True     50165286\n",
       "Name: ip, dtype: int64"
      ]
     },
     "execution_count": 17,
     "metadata": {},
     "output_type": "execute_result"
    }
   ],
   "source": [
    "mask = train_df.day==8 \n",
    "train_df[mask].groupby('potential_fraud')['ip'].count()"
   ]
  },
  {
   "cell_type": "code",
   "execution_count": 18,
   "metadata": {},
   "outputs": [
    {
     "data": {
      "text/plain": [
       "potential_fraud\n",
       "False    11610048\n",
       "True     51222594\n",
       "Name: ip, dtype: int64"
      ]
     },
     "execution_count": 18,
     "metadata": {},
     "output_type": "execute_result"
    }
   ],
   "source": [
    "mask = train_df.day==9\n",
    "train_df[mask].groupby('potential_fraud')['ip'].count()"
   ]
  },
  {
   "cell_type": "markdown",
   "metadata": {},
   "source": [
    "- add new_ip : ip is not shown in previous day"
   ]
  },
  {
   "cell_type": "code",
   "execution_count": 3,
   "metadata": {},
   "outputs": [],
   "source": [
    "mask6 = train_df.day==6\n",
    "ip_day6 = train_df[mask6].ip.unique()\n",
    "\n",
    "mask7 = train_df.day==7\n",
    "mask8 = train_df.day==8\n",
    "mask9 = train_df.day==9\n",
    "mask10 = train_df.day ==10\n",
    "ip_day7 = train_df[mask7].ip.unique()\n",
    "ip_day8 = train_df[mask8].ip.unique()\n",
    "ip_day9 = train_df[mask9].ip.unique()"
   ]
  },
  {
   "cell_type": "code",
   "execution_count": 4,
   "metadata": {},
   "outputs": [
    {
     "data": {
      "text/plain": [
       "0"
      ]
     },
     "execution_count": 4,
     "metadata": {},
     "output_type": "execute_result"
    }
   ],
   "source": [
    "prev_ip_day8 = np.unique(np.append(ip_day6,ip_day7))\n",
    "prev_ip_day9 = np.unique(np.append(prev_ip_day8,ip_day8))\n",
    "# prev_ip_day9 = np.append(ip_day7,ip_day8)\n",
    "del ip_day7,ip_day8,ip_day9;gc.collect()"
   ]
  },
  {
   "cell_type": "code",
   "execution_count": 11,
   "metadata": {},
   "outputs": [
    {
     "data": {
      "text/html": [
       "<div>\n",
       "<style>\n",
       "    .dataframe thead tr:only-child th {\n",
       "        text-align: right;\n",
       "    }\n",
       "\n",
       "    .dataframe thead th {\n",
       "        text-align: left;\n",
       "    }\n",
       "\n",
       "    .dataframe tbody tr th {\n",
       "        vertical-align: top;\n",
       "    }\n",
       "</style>\n",
       "<table border=\"1\" class=\"dataframe\">\n",
       "  <thead>\n",
       "    <tr style=\"text-align: right;\">\n",
       "      <th></th>\n",
       "      <th>ip</th>\n",
       "      <th>app</th>\n",
       "      <th>device</th>\n",
       "      <th>os</th>\n",
       "      <th>channel</th>\n",
       "      <th>click_time</th>\n",
       "      <th>is_attributed</th>\n",
       "      <th>hour</th>\n",
       "      <th>day</th>\n",
       "    </tr>\n",
       "  </thead>\n",
       "  <tbody>\n",
       "    <tr>\n",
       "      <th>59709847</th>\n",
       "      <td>40056</td>\n",
       "      <td>15</td>\n",
       "      <td>1</td>\n",
       "      <td>19</td>\n",
       "      <td>3</td>\n",
       "      <td>2017-11-07 23:59:59+08:00</td>\n",
       "      <td>0</td>\n",
       "      <td>23</td>\n",
       "      <td>7</td>\n",
       "    </tr>\n",
       "    <tr>\n",
       "      <th>59709848</th>\n",
       "      <td>26995</td>\n",
       "      <td>6</td>\n",
       "      <td>2</td>\n",
       "      <td>16</td>\n",
       "      <td>459</td>\n",
       "      <td>2017-11-07 23:59:59+08:00</td>\n",
       "      <td>0</td>\n",
       "      <td>23</td>\n",
       "      <td>7</td>\n",
       "    </tr>\n",
       "    <tr>\n",
       "      <th>59709849</th>\n",
       "      <td>157011</td>\n",
       "      <td>18</td>\n",
       "      <td>1</td>\n",
       "      <td>1</td>\n",
       "      <td>107</td>\n",
       "      <td>2017-11-07 23:59:59+08:00</td>\n",
       "      <td>0</td>\n",
       "      <td>23</td>\n",
       "      <td>7</td>\n",
       "    </tr>\n",
       "    <tr>\n",
       "      <th>59709850</th>\n",
       "      <td>89946</td>\n",
       "      <td>2</td>\n",
       "      <td>1</td>\n",
       "      <td>19</td>\n",
       "      <td>435</td>\n",
       "      <td>2017-11-07 23:59:59+08:00</td>\n",
       "      <td>0</td>\n",
       "      <td>23</td>\n",
       "      <td>7</td>\n",
       "    </tr>\n",
       "    <tr>\n",
       "      <th>59709851</th>\n",
       "      <td>48615</td>\n",
       "      <td>24</td>\n",
       "      <td>1</td>\n",
       "      <td>22</td>\n",
       "      <td>178</td>\n",
       "      <td>2017-11-07 23:59:59+08:00</td>\n",
       "      <td>0</td>\n",
       "      <td>23</td>\n",
       "      <td>7</td>\n",
       "    </tr>\n",
       "  </tbody>\n",
       "</table>\n",
       "</div>"
      ],
      "text/plain": [
       "              ip  app  device  os  channel                click_time  \\\n",
       "59709847   40056   15       1  19        3 2017-11-07 23:59:59+08:00   \n",
       "59709848   26995    6       2  16      459 2017-11-07 23:59:59+08:00   \n",
       "59709849  157011   18       1   1      107 2017-11-07 23:59:59+08:00   \n",
       "59709850   89946    2       1  19      435 2017-11-07 23:59:59+08:00   \n",
       "59709851   48615   24       1  22      178 2017-11-07 23:59:59+08:00   \n",
       "\n",
       "          is_attributed  hour  day  \n",
       "59709847              0    23    7  \n",
       "59709848              0    23    7  \n",
       "59709849              0    23    7  \n",
       "59709850              0    23    7  \n",
       "59709851              0    23    7  "
      ]
     },
     "execution_count": 11,
     "metadata": {},
     "output_type": "execute_result"
    }
   ],
   "source": [
    "train_df[mask7].tail()"
   ]
  },
  {
   "cell_type": "code",
   "execution_count": 10,
   "metadata": {},
   "outputs": [
    {
     "data": {
      "text/plain": [
       "59709852"
      ]
     },
     "execution_count": 10,
     "metadata": {},
     "output_type": "execute_result"
    }
   ],
   "source": [
    "newip_prev8.index[0]"
   ]
  },
  {
   "cell_type": "code",
   "execution_count": 38,
   "metadata": {},
   "outputs": [
    {
     "data": {
      "text/plain": [
       "(59709852, 9)"
      ]
     },
     "execution_count": 38,
     "metadata": {},
     "output_type": "execute_result"
    }
   ],
   "source": [
    "train_df[train_df.day<=7].shape"
   ]
  },
  {
   "cell_type": "code",
   "execution_count": 12,
   "metadata": {},
   "outputs": [],
   "source": [
    "not_valid = np.full(newip_prev8.index[0],-1) ## nparray"
   ]
  },
  {
   "cell_type": "code",
   "execution_count": 5,
   "metadata": {},
   "outputs": [
    {
     "data": {
      "text/plain": [
       "False    52412023\n",
       "True      9948926\n",
       "Name: ip, dtype: int64"
      ]
     },
     "execution_count": 5,
     "metadata": {},
     "output_type": "execute_result"
    }
   ],
   "source": [
    "newip_prev8 = ~train_df[mask8].ip.isin(prev_ip_day8)\n",
    "\n",
    "newip_prev8.value_counts()"
   ]
  },
  {
   "cell_type": "code",
   "execution_count": 20,
   "metadata": {},
   "outputs": [],
   "source": [
    "newip_prev8 = np.array(newip_prev8).astype('uint8') ## change to numpy array"
   ]
  },
  {
   "cell_type": "code",
   "execution_count": 6,
   "metadata": {},
   "outputs": [
    {
     "data": {
      "text/plain": [
       "False    56367324\n",
       "True      6465318\n",
       "Name: ip, dtype: int64"
      ]
     },
     "execution_count": 6,
     "metadata": {},
     "output_type": "execute_result"
    }
   ],
   "source": [
    "newip_prev9 = ~train_df[mask9].ip.isin(prev_ip_day9)\n",
    "\n",
    "newip_prev9.value_counts()"
   ]
  },
  {
   "cell_type": "code",
   "execution_count": 22,
   "metadata": {},
   "outputs": [],
   "source": [
    "newip_prev9 = np.array(newip_prev9).astype('uint8')"
   ]
  },
  {
   "cell_type": "code",
   "execution_count": 25,
   "metadata": {},
   "outputs": [],
   "source": [
    "ip_day9 = train_df[mask9].ip.unique();\n",
    "prev_ip_day10 = np.unique(np.append(prev_ip_day9,ip_day9))\n",
    "newip_prev10 = ~train_df[mask10].ip.isin(prev_ip_day10)\n"
   ]
  },
  {
   "cell_type": "code",
   "execution_count": 43,
   "metadata": {},
   "outputs": [
    {
     "data": {
      "text/plain": [
       "(62832642,)"
      ]
     },
     "execution_count": 43,
     "metadata": {},
     "output_type": "execute_result"
    }
   ],
   "source": [
    "newip_prev9.shape"
   ]
  },
  {
   "cell_type": "code",
   "execution_count": 27,
   "metadata": {},
   "outputs": [],
   "source": [
    "newip_prev10 = np.array(newip_prev10).astype('uint8')"
   ]
  },
  {
   "cell_type": "code",
   "execution_count": 50,
   "metadata": {},
   "outputs": [],
   "source": [
    "newip_tr = np.concatenate((not_valid,newip_prev8,newip_prev9,newip_prev10))"
   ]
  },
  {
   "cell_type": "code",
   "execution_count": 51,
   "metadata": {},
   "outputs": [],
   "source": [
    "train_df['newip'] = newip_tr"
   ]
  },
  {
   "cell_type": "code",
   "execution_count": 52,
   "metadata": {},
   "outputs": [
    {
     "data": {
      "text/plain": [
       "1238"
      ]
     },
     "execution_count": 52,
     "metadata": {},
     "output_type": "execute_result"
    }
   ],
   "source": [
    "gc.collect()"
   ]
  },
  {
   "cell_type": "code",
   "execution_count": 74,
   "metadata": {},
   "outputs": [
    {
     "data": {
      "text/html": [
       "<div>\n",
       "<style>\n",
       "    .dataframe thead tr:only-child th {\n",
       "        text-align: right;\n",
       "    }\n",
       "\n",
       "    .dataframe thead th {\n",
       "        text-align: left;\n",
       "    }\n",
       "\n",
       "    .dataframe tbody tr th {\n",
       "        vertical-align: top;\n",
       "    }\n",
       "</style>\n",
       "<table border=\"1\" class=\"dataframe\">\n",
       "  <thead>\n",
       "    <tr style=\"text-align: right;\">\n",
       "      <th></th>\n",
       "      <th>ip</th>\n",
       "      <th>app</th>\n",
       "      <th>device</th>\n",
       "      <th>os</th>\n",
       "      <th>channel</th>\n",
       "      <th>click_time</th>\n",
       "      <th>is_attributed</th>\n",
       "      <th>hour</th>\n",
       "      <th>day</th>\n",
       "      <th>newip</th>\n",
       "      <th>potential_fraud</th>\n",
       "    </tr>\n",
       "  </thead>\n",
       "  <tbody>\n",
       "    <tr>\n",
       "      <th>0</th>\n",
       "      <td>83230</td>\n",
       "      <td>3</td>\n",
       "      <td>1</td>\n",
       "      <td>13</td>\n",
       "      <td>379</td>\n",
       "      <td>2017-11-06 22:32:21+08:00</td>\n",
       "      <td>0</td>\n",
       "      <td>22</td>\n",
       "      <td>6</td>\n",
       "      <td>-1</td>\n",
       "      <td>True</td>\n",
       "    </tr>\n",
       "    <tr>\n",
       "      <th>1</th>\n",
       "      <td>17357</td>\n",
       "      <td>3</td>\n",
       "      <td>1</td>\n",
       "      <td>19</td>\n",
       "      <td>379</td>\n",
       "      <td>2017-11-06 22:33:34+08:00</td>\n",
       "      <td>0</td>\n",
       "      <td>22</td>\n",
       "      <td>6</td>\n",
       "      <td>-1</td>\n",
       "      <td>True</td>\n",
       "    </tr>\n",
       "    <tr>\n",
       "      <th>2</th>\n",
       "      <td>35810</td>\n",
       "      <td>3</td>\n",
       "      <td>1</td>\n",
       "      <td>13</td>\n",
       "      <td>379</td>\n",
       "      <td>2017-11-06 22:34:12+08:00</td>\n",
       "      <td>0</td>\n",
       "      <td>22</td>\n",
       "      <td>6</td>\n",
       "      <td>-1</td>\n",
       "      <td>True</td>\n",
       "    </tr>\n",
       "    <tr>\n",
       "      <th>3</th>\n",
       "      <td>45745</td>\n",
       "      <td>14</td>\n",
       "      <td>1</td>\n",
       "      <td>13</td>\n",
       "      <td>478</td>\n",
       "      <td>2017-11-06 22:34:52+08:00</td>\n",
       "      <td>0</td>\n",
       "      <td>22</td>\n",
       "      <td>6</td>\n",
       "      <td>-1</td>\n",
       "      <td>True</td>\n",
       "    </tr>\n",
       "    <tr>\n",
       "      <th>4</th>\n",
       "      <td>161007</td>\n",
       "      <td>3</td>\n",
       "      <td>1</td>\n",
       "      <td>13</td>\n",
       "      <td>379</td>\n",
       "      <td>2017-11-06 22:35:08+08:00</td>\n",
       "      <td>0</td>\n",
       "      <td>22</td>\n",
       "      <td>6</td>\n",
       "      <td>-1</td>\n",
       "      <td>False</td>\n",
       "    </tr>\n",
       "  </tbody>\n",
       "</table>\n",
       "</div>"
      ],
      "text/plain": [
       "       ip  app  device  os  channel                click_time  is_attributed  \\\n",
       "0   83230    3       1  13      379 2017-11-06 22:32:21+08:00              0   \n",
       "1   17357    3       1  19      379 2017-11-06 22:33:34+08:00              0   \n",
       "2   35810    3       1  13      379 2017-11-06 22:34:12+08:00              0   \n",
       "3   45745   14       1  13      478 2017-11-06 22:34:52+08:00              0   \n",
       "4  161007    3       1  13      379 2017-11-06 22:35:08+08:00              0   \n",
       "\n",
       "   hour  day  newip  potential_fraud  \n",
       "0    22    6     -1             True  \n",
       "1    22    6     -1             True  \n",
       "2    22    6     -1             True  \n",
       "3    22    6     -1             True  \n",
       "4    22    6     -1            False  "
      ]
     },
     "execution_count": 74,
     "metadata": {},
     "output_type": "execute_result"
    }
   ],
   "source": [
    "train_df.head()"
   ]
  },
  {
   "cell_type": "code",
   "execution_count": 57,
   "metadata": {},
   "outputs": [],
   "source": [
    "trn_ip = train_df.ip.unique()"
   ]
  },
  {
   "cell_type": "markdown",
   "metadata": {},
   "source": [
    "for test newip ?"
   ]
  },
  {
   "cell_type": "code",
   "execution_count": 66,
   "metadata": {},
   "outputs": [],
   "source": [
    "newip_test = ~test_df.ip.isin(trn_ip)\n",
    "test_df['newip'] = newip_test.astype('uint8')"
   ]
  },
  {
   "cell_type": "code",
   "execution_count": 68,
   "metadata": {},
   "outputs": [
    {
     "data": {
      "text/html": [
       "<div>\n",
       "<style>\n",
       "    .dataframe thead tr:only-child th {\n",
       "        text-align: right;\n",
       "    }\n",
       "\n",
       "    .dataframe thead th {\n",
       "        text-align: left;\n",
       "    }\n",
       "\n",
       "    .dataframe tbody tr th {\n",
       "        vertical-align: top;\n",
       "    }\n",
       "</style>\n",
       "<table border=\"1\" class=\"dataframe\">\n",
       "  <thead>\n",
       "    <tr style=\"text-align: right;\">\n",
       "      <th></th>\n",
       "      <th>click_id</th>\n",
       "      <th>ip</th>\n",
       "      <th>app</th>\n",
       "      <th>device</th>\n",
       "      <th>os</th>\n",
       "      <th>channel</th>\n",
       "      <th>click_time</th>\n",
       "      <th>hour</th>\n",
       "      <th>day</th>\n",
       "      <th>newip</th>\n",
       "    </tr>\n",
       "  </thead>\n",
       "  <tbody>\n",
       "    <tr>\n",
       "      <th>0</th>\n",
       "      <td>0</td>\n",
       "      <td>5744</td>\n",
       "      <td>9</td>\n",
       "      <td>1</td>\n",
       "      <td>3</td>\n",
       "      <td>107</td>\n",
       "      <td>2017-11-10 12:00:00+08:00</td>\n",
       "      <td>12</td>\n",
       "      <td>10</td>\n",
       "      <td>0</td>\n",
       "    </tr>\n",
       "    <tr>\n",
       "      <th>1</th>\n",
       "      <td>1</td>\n",
       "      <td>119901</td>\n",
       "      <td>9</td>\n",
       "      <td>1</td>\n",
       "      <td>3</td>\n",
       "      <td>466</td>\n",
       "      <td>2017-11-10 12:00:00+08:00</td>\n",
       "      <td>12</td>\n",
       "      <td>10</td>\n",
       "      <td>0</td>\n",
       "    </tr>\n",
       "    <tr>\n",
       "      <th>2</th>\n",
       "      <td>2</td>\n",
       "      <td>72287</td>\n",
       "      <td>21</td>\n",
       "      <td>1</td>\n",
       "      <td>19</td>\n",
       "      <td>128</td>\n",
       "      <td>2017-11-10 12:00:00+08:00</td>\n",
       "      <td>12</td>\n",
       "      <td>10</td>\n",
       "      <td>0</td>\n",
       "    </tr>\n",
       "    <tr>\n",
       "      <th>3</th>\n",
       "      <td>3</td>\n",
       "      <td>78477</td>\n",
       "      <td>15</td>\n",
       "      <td>1</td>\n",
       "      <td>13</td>\n",
       "      <td>111</td>\n",
       "      <td>2017-11-10 12:00:00+08:00</td>\n",
       "      <td>12</td>\n",
       "      <td>10</td>\n",
       "      <td>0</td>\n",
       "    </tr>\n",
       "    <tr>\n",
       "      <th>4</th>\n",
       "      <td>4</td>\n",
       "      <td>123080</td>\n",
       "      <td>12</td>\n",
       "      <td>1</td>\n",
       "      <td>13</td>\n",
       "      <td>328</td>\n",
       "      <td>2017-11-10 12:00:00+08:00</td>\n",
       "      <td>12</td>\n",
       "      <td>10</td>\n",
       "      <td>0</td>\n",
       "    </tr>\n",
       "  </tbody>\n",
       "</table>\n",
       "</div>"
      ],
      "text/plain": [
       "   click_id      ip  app  device  os  channel                click_time  hour  \\\n",
       "0         0    5744    9       1   3      107 2017-11-10 12:00:00+08:00    12   \n",
       "1         1  119901    9       1   3      466 2017-11-10 12:00:00+08:00    12   \n",
       "2         2   72287   21       1  19      128 2017-11-10 12:00:00+08:00    12   \n",
       "3         3   78477   15       1  13      111 2017-11-10 12:00:00+08:00    12   \n",
       "4         4  123080   12       1  13      328 2017-11-10 12:00:00+08:00    12   \n",
       "\n",
       "   day  newip  \n",
       "0   10      0  \n",
       "1   10      0  \n",
       "2   10      0  \n",
       "3   10      0  \n",
       "4   10      0  "
      ]
     },
     "execution_count": 68,
     "metadata": {},
     "output_type": "execute_result"
    }
   ],
   "source": [
    "test_df.head()"
   ]
  },
  {
   "cell_type": "markdown",
   "metadata": {},
   "source": [
    "____"
   ]
  },
  {
   "cell_type": "code",
   "execution_count": 70,
   "metadata": {},
   "outputs": [],
   "source": [
    "mask = (train_df.day>7) & (train_df.day<10)\n",
    "trn_df = train_df[mask]"
   ]
  },
  {
   "cell_type": "code",
   "execution_count": 75,
   "metadata": {},
   "outputs": [
    {
     "data": {
      "text/plain": [
       "1288"
      ]
     },
     "execution_count": 75,
     "metadata": {},
     "output_type": "execute_result"
    }
   ],
   "source": [
    "len_trn = len(trn_df)\n",
    "trn_df = trn_df.append(test_df)\n",
    "\n",
    "del train_df;gc.collect()"
   ]
  },
  {
   "cell_type": "code",
   "execution_count": 76,
   "metadata": {},
   "outputs": [
    {
     "name": "stdout",
     "output_type": "stream",
     "text": [
      "trn_df :(143984060, 11)\n"
     ]
    }
   ],
   "source": [
    "print('trn_df :{}'.format(trn_df.shape)) # \n",
    "# print('test_df:{}'.format(test_df.shape))\n",
    "del test_df"
   ]
  },
  {
   "cell_type": "markdown",
   "metadata": {},
   "source": [
    "save temporary "
   ]
  },
  {
   "cell_type": "markdown",
   "metadata": {},
   "source": [
    "- len_trn  : 125193591 \n",
    "\n",
    "- len_tst  : 18790469"
   ]
  },
  {
   "cell_type": "code",
   "execution_count": 86,
   "metadata": {},
   "outputs": [],
   "source": [
    "store = pd.HDFStore('../input/feat/feat3_partial2.h5')\n",
    "store['trn_df'] = trn_df\n",
    "store.close()\n",
    "    "
   ]
  },
  {
   "cell_type": "markdown",
   "metadata": {},
   "source": [
    "load "
   ]
  },
  {
   "cell_type": "code",
   "execution_count": 3,
   "metadata": {},
   "outputs": [],
   "source": [
    "with pd.HDFStore('../input/feat/feat3_partial2.h5') as store:\n",
    "    trn_df = store['trn_df']"
   ]
  },
  {
   "cell_type": "markdown",
   "metadata": {},
   "source": [
    "# helper func"
   ]
  },
  {
   "cell_type": "code",
   "execution_count": 8,
   "metadata": {},
   "outputs": [],
   "source": [
    "def encode_agg_feature(train_df, selcols, groupby, aggregator = 'nunique'):\n",
    "    usecols = [e for e in selcols if e not in  groupby]    \n",
    "    \n",
    "    if aggregator == 'nunique':  \n",
    "        colname= usecols[-1] + '_nunique_' + '_'.join(groupby)\n",
    "        if colname in train_df.columns:\n",
    "            train_df.drop(colname,axis=1,inplace=True)\n",
    "            \n",
    "        gp = train_df[selcols].groupby(groupby)[usecols].nunique().reset_index().\\\n",
    "            rename(columns = {\n",
    "                usecols[-1] : usecols[-1] + '_nunique_' + '_'.join(groupby)\n",
    "            })\n",
    "        train_df = train_df.merge(gp, how='left', on=groupby)\n",
    "\n",
    "    elif aggregator == 'cumcount':\n",
    "        colname = usecols[-1] + '_cumcnt_' + '_'.join(groupby)\n",
    "        if colname in train_df.columns:\n",
    "            train_df.drop(colname,axis=1,inplace=True)\n",
    "            \n",
    "        gp = train_df[selcols].groupby(groupby)[usecols].cumcount()        \n",
    "        train_df[colname] = gp.values\n",
    "    \n",
    "    elif aggregator == 'count':\n",
    "        colname = usecols[-1] + '_cnt_' + '_'.join(groupby)\n",
    "        if colname in train_df.columns:\n",
    "            train_df.drop(colname,axis=1,inplace=True)\n",
    "        gp = train_df[selcols].groupby(groupby)[usecols].count().reset_index().\\\n",
    "            rename(columns = {\n",
    "                usecols[-1] : colname\n",
    "            })\n",
    "        train_df = train_df.merge(gp, how='left', on=groupby)\n",
    "        \n",
    "    elif aggregator in ['var','mean']:\n",
    "        agg=np.var if aggregator == 'var' else np.mean\n",
    "        \n",
    "        colname = usecols[-1] + '_'+ str(aggregator) +'_' + '_'.join(groupby)\n",
    "        \n",
    "        if colname in train_df.columns:\n",
    "            train_df.drop(colname,axis=1, inplace=True)\n",
    "            \n",
    "        gp = train_df[selcols].groupby(groupby).agg(agg).reset_index().\\\n",
    "            rename(columns = {\n",
    "                usecols[-1] : colname\n",
    "            })\n",
    "        train_df = train_df.merge(gp, how='left', on=groupby)\n",
    "    \n",
    "    return train_df.iloc[:,-1]"
   ]
  },
  {
   "cell_type": "markdown",
   "metadata": {},
   "source": [
    "#### feat_base\n",
    "- channel nunique by ip\n",
    "- app nunique by channel\n",
    "- channel cnt by (ip,app)\n",
    "- hour nunique by (ip,day)\n",
    "- app nunique by ip\n",
    "- app nunique by (ip,device,os)"
   ]
  },
  {
   "cell_type": "code",
   "execution_count": 9,
   "metadata": {},
   "outputs": [
    {
     "name": "stdout",
     "output_type": "stream",
     "text": [
      "feature1 : number of unique \"channel\" by ip\tchannel_nunique_ip\n",
      "feature3 : number of unique \"hour\" by (ip, day)\thour_nunique_ip_day\n",
      "feature4 : number of unique \"app\" by ip\tapp_nunique_ip\n",
      "feature7 : number of unique \"app\" by channel\tapp_nunique_channel\n",
      "feature9 : number of unique \"app\" by (ip,device,os)\tapp_nunique_ip_device_os\n",
      "feature 11 : count by (ip,app)\tchannel_cnt_ip_app\n",
      "complete\n"
     ]
    }
   ],
   "source": [
    "print('feature1 : number of unique \"channel\" by ip',end='\\t')\n",
    "f1 = encode_agg_feature(trn_df,groupby=['ip'], selcols=['ip','channel'],aggregator='nunique')\n",
    "print(f1.name)\n",
    "trn_df[f1.name] = f1.values.astype('uint8') ; del f1;gc.collect()\n",
    "\n",
    "print('feature3 : number of unique \"hour\" by (ip, day)',end='\\t')\n",
    "f3 = encode_agg_feature(trn_df,selcols=['hour','ip','day'], groupby=['ip','day'], aggregator='nunique')\n",
    "print(f3.name)\n",
    "trn_df[f3.name] = f3.values.astype('uint8'); del f3;gc.collect()\n",
    "\n",
    "\n",
    "print('feature4 : number of unique \"app\" by ip', end='\\t')\n",
    "f4 = encode_agg_feature(trn_df,selcols=['app', 'ip'], groupby=['ip'])\n",
    "print(f4.name)\n",
    "trn_df[f4.name] = f4.values.astype('uint8'); del f4; gc.collect()\n",
    "\n",
    "\n",
    "\n",
    "print('feature7 : number of unique \"app\" by channel',end='\\t')\n",
    "f7 = encode_agg_feature(trn_df,selcols=['app', 'channel'], groupby=['channel'])\n",
    "print(f7.name)\n",
    "trn_df[f7.name] = f7.values.astype('uint8'); del f7; gc.collect()\n",
    "\n",
    "\n",
    "print('feature9 : number of unique \"app\" by (ip,device,os)',end='\\t')\n",
    "f9 = encode_agg_feature(trn_df,selcols=['app', 'ip','device','os'], groupby=['ip','device','os'])\n",
    "print(f9.name)\n",
    "trn_df[f9.name] = f9.values.astype('uint8'); del f9;gc.collect()\n",
    "\n",
    "\n",
    "#### count #####\n",
    "\n",
    "print('feature 11 : count by (ip,app)', end='\\t')\n",
    "f11 = encode_agg_feature(trn_df,selcols=['ip','app','channel'],groupby=['ip','app'],aggregator='count')\n",
    "print(f11.name)\n",
    "trn_df[f11.name]= f11.values.astype('uint16'); del f11;gc.collect()\n",
    "\n",
    "\n",
    "\n",
    "\n",
    "print('complete')"
   ]
  },
  {
   "cell_type": "markdown",
   "metadata": {},
   "source": [
    "importanta feature \n",
    "\n",
    "#### next click\n",
    "\n",
    "- next click time by ('ip','app','os','device')"
   ]
  },
  {
   "cell_type": "code",
   "execution_count": 10,
   "metadata": {},
   "outputs": [
    {
     "name": "stdout",
     "output_type": "stream",
     "text": [
      "next click time by(ip,app,os,device)...\n",
      "shift 1...\n",
      "next_click_dt added\n",
      "gc...\n",
      "complete\n"
     ]
    }
   ],
   "source": [
    "print('next click time by(ip,app,os,device)...')\n",
    "gp = trn_df.groupby(['ip','app','os','device'])\n",
    "print('shift 1...')\n",
    "\n",
    "trn_df['shift_1'] = gp.click_time.shift(-1)\n",
    "cst = pytz.timezone('Asia/Shanghai')\n",
    "trn_df['shift_1'] = pd.to_datetime(trn_df['shift_1']).dt.tz_localize(pytz.utc).dt.tz_convert(cst) \n",
    "trn_df['next_click_dt'] = ((trn_df.shift_1 - trn_df.click_time) / np.timedelta64(1,'s')).fillna(50000).astype('uint16')\n",
    "print('next_click_dt added')\n",
    "\n",
    "print('gc...')\n",
    "trn_df.drop(['shift_1'],axis=1,inplace=True)\n",
    "gc.collect()\n",
    "print('complete')"
   ]
  },
  {
   "cell_type": "markdown",
   "metadata": {},
   "source": [
    "save temp"
   ]
  },
  {
   "cell_type": "code",
   "execution_count": 11,
   "metadata": {},
   "outputs": [],
   "source": [
    "store = pd.HDFStore('../input/feat/feat3_partial3.h5')\n",
    "store['trn_df'] = trn_df\n",
    "store.close()\n",
    "    "
   ]
  },
  {
   "cell_type": "markdown",
   "metadata": {},
   "source": [
    "load "
   ]
  },
  {
   "cell_type": "code",
   "execution_count": 5,
   "metadata": {},
   "outputs": [],
   "source": [
    "with pd.HDFStore('../input/feat/feat3_partial3.h5') as store:\n",
    "    trn_df = store['trn_df']"
   ]
  },
  {
   "cell_type": "code",
   "execution_count": 6,
   "metadata": {},
   "outputs": [],
   "source": [
    "len_tst = 18790469\n",
    "len_trn = 143984060 - 18790469"
   ]
  },
  {
   "cell_type": "markdown",
   "metadata": {},
   "source": [
    "#### mean encode ON TRAINNING ONLY NOT ON TEST ###\n",
    "- ip mean target\n",
    "- app mean target \n",
    "- channel mean target \n",
    "- os mean target\n",
    "- device mean target\n",
    "\n",
    "NEED DATA COPY ---> may memory consuming"
   ]
  },
  {
   "cell_type": "code",
   "execution_count": 7,
   "metadata": {},
   "outputs": [],
   "source": [
    "test_df = trn_df.iloc[len_trn:,]\n",
    "trn_df  = trn_df.iloc[:len_trn,]"
   ]
  },
  {
   "cell_type": "code",
   "execution_count": 11,
   "metadata": {},
   "outputs": [
    {
     "name": "stdout",
     "output_type": "stream",
     "text": [
      "copy trn_df to make new features\n",
      "fold:0 mean encoding...\n",
      "\tip\t"
     ]
    },
    {
     "name": "stderr",
     "output_type": "stream",
     "text": [
      "C:\\Program Files\\Anaconda3\\envs\\py36\\lib\\site-packages\\ipykernel\\__main__.py:25: SettingWithCopyWarning: \n",
      "A value is trying to be set on a copy of a slice from a DataFrame.\n",
      "Try using .loc[row_indexer,col_indexer] = value instead\n",
      "\n",
      "See the caveats in the documentation: http://pandas.pydata.org/pandas-docs/stable/indexing.html#indexing-view-versus-copy\n"
     ]
    },
    {
     "name": "stdout",
     "output_type": "stream",
     "text": [
      "app\tchannel\tos\tdevice\t\n",
      "fold:1 mean encoding...\n",
      "\tip\tapp\tchannel\tos\tdevice\t\n",
      "fold:2 mean encoding...\n",
      "\tip\tapp\tchannel\tos\tdevice\t\n",
      "fold:3 mean encoding...\n",
      "\tip\tapp\tchannel\tos\tdevice\t\n",
      "complete\n"
     ]
    }
   ],
   "source": [
    "from sklearn.model_selection import StratifiedKFold\n",
    "print('copy trn_df to make new features')\n",
    "train_new = trn_df.copy()\n",
    "\n",
    "cols = ['ip','app','channel','os','device']\n",
    "for col in cols :\n",
    "    train_new[col+'_mean_target'] = 0\n",
    "    \n",
    "y_tr = trn_df.is_attributed.values.astype(np.int8) # target \n",
    "skf = StratifiedKFold(4, random_state=0)\n",
    "skf.get_n_splits(X=trn_df,y=y_tr)\n",
    "\n",
    "\n",
    "for fold, (tr_idx, val_idx) in enumerate(skf.split(train_new,y_tr)):\n",
    "    \n",
    "    ## generate features \n",
    "    \n",
    "    X_tr ,X_val = trn_df.iloc[tr_idx], trn_df.iloc[val_idx]\n",
    "    \n",
    "    print('fold:{} mean encoding...'.format(fold),end='\\n\\t')\n",
    "#     print('tr_idx:{}'.format(tr_idx))\n",
    "    for col in cols:        \n",
    "        print(col,end='\\t')\n",
    "        means = X_val[col].map(X_tr.groupby(col).is_attributed.mean()) ## map mean encoding in X_tr to X_val\n",
    "        X_val[col + '_mean_target'] = means.astype('float16')\n",
    "        \n",
    "    train_new.iloc[val_idx] = X_val\n",
    "    print('')    \n",
    "    del X_tr,X_val;gc.collect()\n",
    "            \n",
    "prior = trn_df.is_attributed.mean()\n",
    "train_new[[col+'_mean_target' for col in cols]] = train_new[[col+'_mean_target' for col in cols]].fillna(prior)\n",
    "\n",
    "trn_df = train_new\n",
    "del train_new;gc.collect()\n",
    "print('complete')"
   ]
  },
  {
   "cell_type": "code",
   "execution_count": 12,
   "metadata": {},
   "outputs": [
    {
     "name": "stdout",
     "output_type": "stream",
     "text": [
      "<class 'pandas.core.frame.DataFrame'>\n",
      "Int64Index: 125193591 entries, 59709852 to 184903442\n",
      "Data columns (total 23 columns):\n",
      "app                         uint16\n",
      "channel                     uint16\n",
      "click_id                    float64\n",
      "click_time                  datetime64[ns, Asia/Shanghai]\n",
      "day                         uint8\n",
      "device                      uint16\n",
      "hour                        uint8\n",
      "ip                          uint32\n",
      "is_attributed               float64\n",
      "newip                       int32\n",
      "os                          uint16\n",
      "channel_nunique_ip          uint8\n",
      "hour_nunique_ip_day         uint8\n",
      "app_nunique_ip              uint8\n",
      "app_nunique_channel         uint8\n",
      "app_nunique_ip_device_os    uint8\n",
      "channel_cnt_ip_app          uint16\n",
      "next_click_dt               uint16\n",
      "ip_mean_target              float16\n",
      "app_mean_target             float16\n",
      "channel_mean_target         float16\n",
      "os_mean_target              float16\n",
      "device_mean_target          float16\n",
      "dtypes: datetime64[ns, Asia/Shanghai](1), float16(5), float64(2), int32(1), uint16(6), uint32(1), uint8(7)\n",
      "memory usage: 8.0 GB\n"
     ]
    }
   ],
   "source": [
    "trn_df.info()"
   ]
  },
  {
   "cell_type": "markdown",
   "metadata": {},
   "source": [
    "___ "
   ]
  },
  {
   "cell_type": "markdown",
   "metadata": {},
   "source": [
    "#### mean encode on TEST"
   ]
  },
  {
   "cell_type": "code",
   "execution_count": 14,
   "metadata": {},
   "outputs": [
    {
     "name": "stdout",
     "output_type": "stream",
     "text": [
      "target_mean col:ip...\n",
      "target_mean col:os...\n",
      "target_mean col:app...\n",
      "target_mean col:device...\n",
      "target_mean col:channel...\n",
      "complete\n"
     ]
    }
   ],
   "source": [
    "cols = ['ip','os','app','device','channel']\n",
    "selcols = cols + ['is_attributed']\n",
    "\n",
    "for col in cols:\n",
    "    print('target_mean col:{}...'.format(col))\n",
    "    gp = trn_df[selcols].groupby(col)\n",
    "    test_df[col+'_mean_target'] = test_df[col].map(gp.is_attributed.mean()).astype('float16')\n",
    "    \n",
    "prior = trn_df.is_attributed.mean()\n",
    "test_df[[col+'_mean_target' for col in cols]] = test_df[[col+'_mean_target' for col in cols]].fillna(prior)\n",
    "\n",
    "gc.collect()\n",
    "print('complete')"
   ]
  },
  {
   "cell_type": "code",
   "execution_count": 16,
   "metadata": {},
   "outputs": [
    {
     "data": {
      "text/plain": [
       "(18790469, 23)"
      ]
     },
     "execution_count": 16,
     "metadata": {},
     "output_type": "execute_result"
    }
   ],
   "source": [
    "test_df.shape"
   ]
  },
  {
   "cell_type": "code",
   "execution_count": 17,
   "metadata": {},
   "outputs": [
    {
     "name": "stdout",
     "output_type": "stream",
     "text": [
      "<class 'pandas.core.frame.DataFrame'>\n",
      "Int64Index: 18790469 entries, 0 to 18790468\n",
      "Data columns (total 23 columns):\n",
      "app                         uint16\n",
      "channel                     uint16\n",
      "click_id                    float64\n",
      "click_time                  datetime64[ns, Asia/Shanghai]\n",
      "day                         uint8\n",
      "device                      uint16\n",
      "hour                        uint8\n",
      "ip                          uint32\n",
      "is_attributed               float64\n",
      "newip                       int32\n",
      "os                          uint16\n",
      "channel_nunique_ip          uint8\n",
      "hour_nunique_ip_day         uint8\n",
      "app_nunique_ip              uint8\n",
      "app_nunique_channel         uint8\n",
      "app_nunique_ip_device_os    uint8\n",
      "channel_cnt_ip_app          uint16\n",
      "next_click_dt               uint16\n",
      "ip_mean_target              float16\n",
      "os_mean_target              float16\n",
      "app_mean_target             float16\n",
      "device_mean_target          float16\n",
      "channel_mean_target         float16\n",
      "dtypes: datetime64[ns, Asia/Shanghai](1), float16(5), float64(2), int32(1), uint16(6), uint32(1), uint8(7)\n",
      "memory usage: 1.2 GB\n"
     ]
    }
   ],
   "source": [
    "test_df.info()"
   ]
  },
  {
   "cell_type": "markdown",
   "metadata": {},
   "source": [
    "___"
   ]
  },
  {
   "cell_type": "markdown",
   "metadata": {},
   "source": [
    "# Save \n",
    "\n"
   ]
  },
  {
   "cell_type": "code",
   "execution_count": 18,
   "metadata": {},
   "outputs": [
    {
     "data": {
      "text/plain": [
       "(37500000, 34)"
      ]
     },
     "execution_count": 18,
     "metadata": {},
     "output_type": "execute_result"
    }
   ],
   "source": [
    "train_df.shape"
   ]
  },
  {
   "cell_type": "code",
   "execution_count": 18,
   "metadata": {},
   "outputs": [],
   "source": [
    "## day8 train_sets\n",
    "train_df = trn_df[trn_df.day==8]\n",
    "## day9 valid sets \n",
    "val_df = trn_df[trn_df.day==9]\n"
   ]
  },
  {
   "cell_type": "code",
   "execution_count": 19,
   "metadata": {},
   "outputs": [
    {
     "name": "stdout",
     "output_type": "stream",
     "text": [
      "train shape:  (62360949, 23)\n",
      "valid shape:  (62832642, 23)\n",
      "test shape :  (18790469, 23)\n"
     ]
    }
   ],
   "source": [
    "print(\"train shape: \", train_df.shape)\n",
    "print(\"valid shape: \", val_df.shape)\n",
    "print(\"test shape : \", test_df.shape)\n"
   ]
  },
  {
   "cell_type": "code",
   "execution_count": 11,
   "metadata": {},
   "outputs": [
    {
     "name": "stdout",
     "output_type": "stream",
     "text": [
      "../../feat3_trn_day8_val_day9\n"
     ]
    }
   ],
   "source": [
    "trn_day = 'day8'\n",
    "val_day = 'day9'\n",
    "print('../../feat3_trn_{}_val_{}'.format(trn_day,val_day))\n",
    "store = pd.HDFStore('../input/feat/feat3_trn_{}_val_{}.h5'.format(trn_day,val_day))\n",
    "store['train_df'] = train_df\n",
    "store['valid_df'] = val_df\n",
    "store['test_df'] = test_df\n",
    "store.close()"
   ]
  },
  {
   "cell_type": "markdown",
   "metadata": {},
   "source": [
    "load"
   ]
  },
  {
   "cell_type": "code",
   "execution_count": 2,
   "metadata": {},
   "outputs": [],
   "source": [
    "import pandas as pd"
   ]
  },
  {
   "cell_type": "code",
   "execution_count": 3,
   "metadata": {},
   "outputs": [],
   "source": [
    "with pd.HDFStore('../input/feat/feat3_trn_day8_val_day9.h5') as store:\n",
    "    train_df = store['train_df']\n",
    "    val_df   = store['valid_df']\n",
    "    test_df  = store['test_df']"
   ]
  },
  {
   "cell_type": "code",
   "execution_count": 5,
   "metadata": {},
   "outputs": [
    {
     "data": {
      "text/plain": [
       "0    56367324\n",
       "1     6465318\n",
       "Name: newip, dtype: int64"
      ]
     },
     "execution_count": 5,
     "metadata": {},
     "output_type": "execute_result"
    }
   ],
   "source": [
    "val_df.newip.value_counts()"
   ]
  },
  {
   "cell_type": "code",
   "execution_count": 6,
   "metadata": {},
   "outputs": [
    {
     "data": {
      "text/plain": [
       "0    52412023\n",
       "1     9948926\n",
       "Name: newip, dtype: int64"
      ]
     },
     "execution_count": 6,
     "metadata": {},
     "output_type": "execute_result"
    }
   ],
   "source": [
    "train_df.newip.value_counts()"
   ]
  },
  {
   "cell_type": "code",
   "execution_count": 4,
   "metadata": {},
   "outputs": [],
   "source": [
    "train_df['ip_lt126420'] = (train_df.ip<126420).astype('uint8')\n",
    "test_df['ip_lt126420'] = (test_df.ip<126420).astype('uint8')\n",
    "val_df['ip_lt126420'] = (val_df.ip<126420).astype('uint8')"
   ]
  },
  {
   "cell_type": "code",
   "execution_count": 6,
   "metadata": {},
   "outputs": [
    {
     "data": {
      "text/plain": [
       "1    50165286\n",
       "0    12195663\n",
       "Name: ip_lt126420, dtype: int64"
      ]
     },
     "execution_count": 6,
     "metadata": {},
     "output_type": "execute_result"
    }
   ],
   "source": [
    "train_df.ip_lt126420.value_counts()"
   ]
  },
  {
   "cell_type": "code",
   "execution_count": 7,
   "metadata": {},
   "outputs": [
    {
     "data": {
      "text/plain": [
       "1    51222594\n",
       "0    11610048\n",
       "Name: ip_lt126420, dtype: int64"
      ]
     },
     "execution_count": 7,
     "metadata": {},
     "output_type": "execute_result"
    }
   ],
   "source": [
    "val_df.ip_lt126420.value_counts()"
   ]
  },
  {
   "cell_type": "code",
   "execution_count": 9,
   "metadata": {},
   "outputs": [
    {
     "data": {
      "text/plain": [
       "1    18790469\n",
       "Name: ip_lt126420, dtype: int64"
      ]
     },
     "execution_count": 9,
     "metadata": {},
     "output_type": "execute_result"
    }
   ],
   "source": [
    "test_df.ip_lt126420.value_counts()"
   ]
  }
 ],
 "metadata": {
  "anaconda-cloud": {},
  "kernelspec": {
   "display_name": "Python [conda env:py36]",
   "language": "python",
   "name": "conda-env-py36-py"
  },
  "language_info": {
   "codemirror_mode": {
    "name": "ipython",
    "version": 3
   },
   "file_extension": ".py",
   "mimetype": "text/x-python",
   "name": "python",
   "nbconvert_exporter": "python",
   "pygments_lexer": "ipython3",
   "version": "3.6.3"
  }
 },
 "nbformat": 4,
 "nbformat_minor": 1
}
