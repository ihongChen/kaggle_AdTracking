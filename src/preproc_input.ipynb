{
 "cells": [
  {
   "cell_type": "code",
   "execution_count": 1,
   "metadata": {},
   "outputs": [],
   "source": [
    "import pandas as pd \n",
    "import numpy as np \n",
    "import gc \n",
    "import time \n",
    "import pytz"
   ]
  },
  {
   "cell_type": "code",
   "execution_count": null,
   "metadata": {},
   "outputs": [
    {
     "name": "stdout",
     "output_type": "stream",
     "text": [
      "loading train data...\n"
     ]
    }
   ],
   "source": [
    "dtypes = {\n",
    "        'ip'            : 'uint32',\n",
    "        'app'           : 'uint16',\n",
    "        'device'        : 'uint16',\n",
    "        'os'            : 'uint16',\n",
    "        'channel'       : 'uint16',\n",
    "        'is_attributed' : 'uint8',\n",
    "        'click_id'      : 'uint32',\n",
    "        }\n",
    "print('loading train data...')\n",
    "train_df = pd.read_csv(\"../input/train.csv.zip\",\n",
    "                       parse_dates=['click_time'], \n",
    "#                        skiprows=range(1,frm), \n",
    "#                        nrows=to-frm, \n",
    "                       dtype=dtypes, \n",
    "                       usecols=['ip','app','device','os', 'channel', 'click_time', 'is_attributed'])\n",
    "print('complete')"
   ]
  },
  {
   "cell_type": "code",
   "execution_count": 4,
   "metadata": {},
   "outputs": [],
   "source": [
    "cst = pytz.timezone('Asia/Shanghai')\n",
    "train_df['click_time'] = pd.to_datetime(train_df['click_time']).dt.tz_localize(pytz.utc).dt.tz_convert(cst)\n",
    "train_df['day']  = train_df.click_time.dt.day.astype('uint8')\n",
    "train_df['hour'] = train_df.click_time.dt.hour.astype('uint8')"
   ]
  },
  {
   "cell_type": "code",
   "execution_count": 5,
   "metadata": {},
   "outputs": [
    {
     "name": "stdout",
     "output_type": "stream",
     "text": [
      "loading test data...\n",
      "complete\n"
     ]
    }
   ],
   "source": [
    "print('loading test data...')\n",
    "test_df = pd.read_csv(\"../input/test.csv.zip\", \n",
    "                      parse_dates=['click_time'], \n",
    "                      dtype=dtypes, \n",
    "                      usecols=['ip','app','device','os', 'channel', 'click_time', 'click_id'])\n",
    "print('complete')"
   ]
  },
  {
   "cell_type": "code",
   "execution_count": 8,
   "metadata": {},
   "outputs": [],
   "source": [
    "test_df['click_timtest_df.click_time.dt.tz_localize['click_time']).dt.tz_localize(pytz.utc).dt.tz_convert(cst)\n",
    "test_df['day']  = test_df.click_time.dt.day.astype('uint8')\n",
    "test_df['hour'] = test_df.click_time.dt.hour.astype('uint8')"
   ]
  },
  {
   "cell_type": "markdown",
   "metadata": {},
   "source": [
    "train data start :\n",
    "* day6 -- 22:00\n",
    "\n",
    "end\n",
    "* day10 -- 00:00"
   ]
  },
  {
   "cell_type": "code",
   "execution_count": 19,
   "metadata": {},
   "outputs": [
    {
     "data": {
      "text/html": [
       "<div>\n",
       "<style>\n",
       "    .dataframe thead tr:only-child th {\n",
       "        text-align: right;\n",
       "    }\n",
       "\n",
       "    .dataframe thead th {\n",
       "        text-align: left;\n",
       "    }\n",
       "\n",
       "    .dataframe tbody tr th {\n",
       "        vertical-align: top;\n",
       "    }\n",
       "</style>\n",
       "<table border=\"1\" class=\"dataframe\">\n",
       "  <thead>\n",
       "    <tr style=\"text-align: right;\">\n",
       "      <th></th>\n",
       "      <th>ip</th>\n",
       "      <th>app</th>\n",
       "      <th>device</th>\n",
       "      <th>os</th>\n",
       "      <th>channel</th>\n",
       "      <th>click_time</th>\n",
       "      <th>is_attributed</th>\n",
       "      <th>hour</th>\n",
       "      <th>day</th>\n",
       "    </tr>\n",
       "  </thead>\n",
       "  <tbody>\n",
       "    <tr>\n",
       "      <th>0</th>\n",
       "      <td>83230</td>\n",
       "      <td>3</td>\n",
       "      <td>1</td>\n",
       "      <td>13</td>\n",
       "      <td>379</td>\n",
       "      <td>2017-11-06 22:32:21+08:00</td>\n",
       "      <td>0</td>\n",
       "      <td>22</td>\n",
       "      <td>6</td>\n",
       "    </tr>\n",
       "    <tr>\n",
       "      <th>1</th>\n",
       "      <td>17357</td>\n",
       "      <td>3</td>\n",
       "      <td>1</td>\n",
       "      <td>19</td>\n",
       "      <td>379</td>\n",
       "      <td>2017-11-06 22:33:34+08:00</td>\n",
       "      <td>0</td>\n",
       "      <td>22</td>\n",
       "      <td>6</td>\n",
       "    </tr>\n",
       "    <tr>\n",
       "      <th>2</th>\n",
       "      <td>35810</td>\n",
       "      <td>3</td>\n",
       "      <td>1</td>\n",
       "      <td>13</td>\n",
       "      <td>379</td>\n",
       "      <td>2017-11-06 22:34:12+08:00</td>\n",
       "      <td>0</td>\n",
       "      <td>22</td>\n",
       "      <td>6</td>\n",
       "    </tr>\n",
       "    <tr>\n",
       "      <th>3</th>\n",
       "      <td>45745</td>\n",
       "      <td>14</td>\n",
       "      <td>1</td>\n",
       "      <td>13</td>\n",
       "      <td>478</td>\n",
       "      <td>2017-11-06 22:34:52+08:00</td>\n",
       "      <td>0</td>\n",
       "      <td>22</td>\n",
       "      <td>6</td>\n",
       "    </tr>\n",
       "    <tr>\n",
       "      <th>4</th>\n",
       "      <td>161007</td>\n",
       "      <td>3</td>\n",
       "      <td>1</td>\n",
       "      <td>13</td>\n",
       "      <td>379</td>\n",
       "      <td>2017-11-06 22:35:08+08:00</td>\n",
       "      <td>0</td>\n",
       "      <td>22</td>\n",
       "      <td>6</td>\n",
       "    </tr>\n",
       "  </tbody>\n",
       "</table>\n",
       "</div>"
      ],
      "text/plain": [
       "       ip  app  device  os  channel                click_time  is_attributed  \\\n",
       "0   83230    3       1  13      379 2017-11-06 22:32:21+08:00              0   \n",
       "1   17357    3       1  19      379 2017-11-06 22:33:34+08:00              0   \n",
       "2   35810    3       1  13      379 2017-11-06 22:34:12+08:00              0   \n",
       "3   45745   14       1  13      478 2017-11-06 22:34:52+08:00              0   \n",
       "4  161007    3       1  13      379 2017-11-06 22:35:08+08:00              0   \n",
       "\n",
       "   hour  day  \n",
       "0    22    6  \n",
       "1    22    6  \n",
       "2    22    6  \n",
       "3    22    6  \n",
       "4    22    6  "
      ]
     },
     "execution_count": 19,
     "metadata": {},
     "output_type": "execute_result"
    }
   ],
   "source": [
    "train_df.head()"
   ]
  },
  {
   "cell_type": "code",
   "execution_count": 20,
   "metadata": {},
   "outputs": [
    {
     "name": "stdout",
     "output_type": "stream",
     "text": [
      "<class 'pandas.core.frame.DataFrame'>\n",
      "Int64Index: 184903890 entries, 0 to 184903889\n",
      "Data columns (total 9 columns):\n",
      "ip               uint32\n",
      "app              uint16\n",
      "device           uint16\n",
      "os               uint16\n",
      "channel          uint16\n",
      "click_time       datetime64[ns, Asia/Shanghai]\n",
      "is_attributed    uint8\n",
      "hour             uint8\n",
      "day              uint8\n",
      "dtypes: datetime64[ns, Asia/Shanghai](1), uint16(4), uint32(1), uint8(3)\n",
      "memory usage: 5.3 GB\n"
     ]
    }
   ],
   "source": [
    "train_df.info()"
   ]
  },
  {
   "cell_type": "code",
   "execution_count": 21,
   "metadata": {},
   "outputs": [
    {
     "name": "stdout",
     "output_type": "stream",
     "text": [
      "<class 'pandas.core.frame.DataFrame'>\n",
      "Int64Index: 18790469 entries, 0 to 18790468\n",
      "Data columns (total 9 columns):\n",
      "click_id      uint32\n",
      "ip            uint32\n",
      "app           uint16\n",
      "device        uint16\n",
      "os            uint16\n",
      "channel       uint16\n",
      "click_time    datetime64[ns, Asia/Shanghai]\n",
      "hour          uint8\n",
      "day           uint8\n",
      "dtypes: datetime64[ns, Asia/Shanghai](1), uint16(4), uint32(2), uint8(2)\n",
      "memory usage: 1.2 GB\n"
     ]
    }
   ],
   "source": [
    "test_df.info()"
   ]
  },
  {
   "cell_type": "code",
   "execution_count": 22,
   "metadata": {},
   "outputs": [],
   "source": [
    "store = pd.HDFStore('../input/raw_data.h5')\n",
    "store['test_df'] = test_df\n",
    "store['train_df'] = train_df\n",
    "store.close()"
   ]
  },
  {
   "cell_type": "code",
   "execution_count": 2,
   "metadata": {},
   "outputs": [
    {
     "name": "stdout",
     "output_type": "stream",
     "text": [
      "['/test_df', '/train_df']\n",
      "time cost:10.6 sec\n"
     ]
    }
   ],
   "source": [
    "t1 = time.time()\n",
    "with pd.HDFStore('../input/raw_data.h5') as store:\n",
    "    print(store.keys())\n",
    "    train_df = store['train_df']\n",
    "    test_df  = store['test_df']\n",
    "t2 = time.time()\n",
    "print('time cost:{:.1f} sec'.format(t2-t1))"
   ]
  }
 ],
 "metadata": {
  "anaconda-cloud": {},
  "kernelspec": {
   "display_name": "Python [conda env:py36]",
   "language": "python",
   "name": "conda-env-py36-py"
  },
  "language_info": {
   "codemirror_mode": {
    "name": "ipython",
    "version": 3
   },
   "file_extension": ".py",
   "mimetype": "text/x-python",
   "name": "python",
   "nbconvert_exporter": "python",
   "pygments_lexer": "ipython3",
   "version": "3.6.3"
  }
 },
 "nbformat": 4,
 "nbformat_minor": 1
}
