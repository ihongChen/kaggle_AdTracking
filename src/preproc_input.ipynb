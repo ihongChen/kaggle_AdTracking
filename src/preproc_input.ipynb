{
 "cells": [
  {
   "cell_type": "code",
   "execution_count": 10,
   "metadata": {},
   "outputs": [],
   "source": [
    "import pandas as pd \n",
    "import numpy as np \n",
    "import gc \n",
    "import time "
   ]
  },
  {
   "cell_type": "code",
   "execution_count": 3,
   "metadata": {},
   "outputs": [
    {
     "name": "stdout",
     "output_type": "stream",
     "text": [
      "loading train data...\n",
      "complete\n"
     ]
    }
   ],
   "source": [
    "dtypes = {\n",
    "        'ip'            : 'uint32',\n",
    "        'app'           : 'uint16',\n",
    "        'device'        : 'uint16',\n",
    "        'os'            : 'uint16',\n",
    "        'channel'       : 'uint16',\n",
    "        'is_attributed' : 'uint8',\n",
    "        'click_id'      : 'uint32',\n",
    "        }\n",
    "print('loading train data...')\n",
    "train_df = pd.read_csv(\"../input/train.csv.zip\",\n",
    "                       parse_dates=['click_time'], \n",
    "#                        skiprows=range(1,frm), \n",
    "#                        nrows=to-frm, \n",
    "                       dtype=dtypes, \n",
    "                       usecols=['ip','app','device','os', 'channel', 'click_time', 'is_attributed'])\n",
    "print('complete')"
   ]
  },
  {
   "cell_type": "code",
   "execution_count": 4,
   "metadata": {},
   "outputs": [
    {
     "name": "stdout",
     "output_type": "stream",
     "text": [
      "<class 'pandas.core.frame.DataFrame'>\n",
      "RangeIndex: 184903890 entries, 0 to 184903889\n",
      "Data columns (total 7 columns):\n",
      "ip               uint32\n",
      "app              uint16\n",
      "device           uint16\n",
      "os               uint16\n",
      "channel          uint16\n",
      "click_time       datetime64[ns]\n",
      "is_attributed    uint8\n",
      "dtypes: datetime64[ns](1), uint16(4), uint32(1), uint8(1)\n",
      "memory usage: 3.6 GB\n"
     ]
    }
   ],
   "source": [
    "train_df.info()"
   ]
  },
  {
   "cell_type": "code",
   "execution_count": 5,
   "metadata": {},
   "outputs": [
    {
     "name": "stdout",
     "output_type": "stream",
     "text": [
      "loading test data...\n",
      "complete\n"
     ]
    }
   ],
   "source": [
    "print('loading test data...')\n",
    "test_df = pd.read_csv(\"../input/test.csv.zip\", \n",
    "                      parse_dates=['click_time'], \n",
    "                      dtype=dtypes, \n",
    "                      usecols=['ip','app','device','os', 'channel', 'click_time', 'click_id'])\n",
    "print('complete')"
   ]
  },
  {
   "cell_type": "code",
   "execution_count": 6,
   "metadata": {},
   "outputs": [
    {
     "name": "stdout",
     "output_type": "stream",
     "text": [
      "<class 'pandas.core.frame.DataFrame'>\n",
      "RangeIndex: 18790469 entries, 0 to 18790468\n",
      "Data columns (total 7 columns):\n",
      "click_id      uint32\n",
      "ip            uint32\n",
      "app           uint16\n",
      "device        uint16\n",
      "os            uint16\n",
      "channel       uint16\n",
      "click_time    datetime64[ns]\n",
      "dtypes: datetime64[ns](1), uint16(4), uint32(2)\n",
      "memory usage: 430.1 MB\n"
     ]
    }
   ],
   "source": [
    "test_df.info()"
   ]
  },
  {
   "cell_type": "code",
   "execution_count": 8,
   "metadata": {},
   "outputs": [],
   "source": [
    "store = pd.HDFStore('../input/raw_data.h5')\n",
    "store['test_df'] = test_df\n",
    "store['train_df'] = train_df\n",
    "store.close()"
   ]
  },
  {
   "cell_type": "code",
   "execution_count": 12,
   "metadata": {},
   "outputs": [
    {
     "name": "stdout",
     "output_type": "stream",
     "text": [
      "['/test_df', '/train_df']\n",
      "time cost:5.0 sec\n"
     ]
    }
   ],
   "source": [
    "t1 = time.time()\n",
    "with pd.HDFStore('../input/raw_data.h5') as store:\n",
    "    print(store.keys())\n",
    "    train_df = store['train_df']\n",
    "    test_df  = store['test_df']\n",
    "t2 = time.time()\n",
    "print('time cost:{:.1f} sec'.format(t2-t1))"
   ]
  }
 ],
 "metadata": {
  "anaconda-cloud": {},
  "kernelspec": {
   "display_name": "Python [conda env:py36]",
   "language": "python",
   "name": "conda-env-py36-py"
  },
  "language_info": {
   "codemirror_mode": {
    "name": "ipython",
    "version": 3
   },
   "file_extension": ".py",
   "mimetype": "text/x-python",
   "name": "python",
   "nbconvert_exporter": "python",
   "pygments_lexer": "ipython3",
   "version": "3.6.3"
  }
 },
 "nbformat": 4,
 "nbformat_minor": 1
}
