{
 "cells": [
  {
   "cell_type": "markdown",
   "metadata": {},
   "source": [
    "This script do:\n",
    "\n",
    "- add features\n",
    "   - mean encode \n",
    "       - by (ip,app)\n",
    "       - by (app,channel)\n",
    "       - os_mean_target\n",
    "       - hour_mean_target       \n",
    "   - base\n",
    "       - ip_unicnt_channel\n",
    "       \n",
    "- features base\n",
    "    - use only (gain importance)\n",
    "        - app_mean_target\n",
    "        - app\n",
    "        - channel_mean_target\n",
    "        - next_click_dt\n",
    "        - channel_nunique_ip\n",
    "        - os\n",
    "        - channel\n",
    "        - hour        \n",
    "        - app_nunique_channel\n",
    "        - channel_cnt_ip_app\n",
    "        - hour_nunique_day_ip\n",
    "        - app_nunique_ip\n",
    "        - app_nunique_ip_device_os\n",
    "        - device_mean_target \t\n",
    "        - channel_cnt_ip_day_hour\n",
    "        - app_cumcnt_ip_device_os\n",
    "        - ip_mean_target        \n",
    "        - device"
   ]
  },
  {
   "cell_type": "code",
   "execution_count": 1,
   "metadata": {},
   "outputs": [],
   "source": [
    "import pandas as pd \n",
    "import numpy as np \n",
    "import matplotlib.pyplot as plt \n",
    "import pytz\n",
    "%matplotlib inline \n",
    "import gc,time"
   ]
  },
  {
   "cell_type": "code",
   "execution_count": 3,
   "metadata": {},
   "outputs": [
    {
     "name": "stdout",
     "output_type": "stream",
     "text": [
      "['/test_df', '/train_df', '/valid_df']\n"
     ]
    }
   ],
   "source": [
    "with pd.HDFStore('../input/feat/feat4_trn_day8_val_day9.h5') as store:\n",
    "    print(store.keys())\n",
    "    test_df = store['test_df']\n",
    "    train_df = store['train_df']\n",
    "    val_df = store['valid_df']"
   ]
  },
  {
   "cell_type": "code",
   "execution_count": 8,
   "metadata": {},
   "outputs": [
    {
     "data": {
      "text/plain": [
       "7"
      ]
     },
     "execution_count": 8,
     "metadata": {},
     "output_type": "execute_result"
    }
   ],
   "source": [
    "trn_df = train_df.append(val_df)\n",
    "trn_df = trn_df.append(test_df)\n",
    "del train_df,test_df,val_df;gc.collect()"
   ]
  },
  {
   "cell_type": "markdown",
   "metadata": {},
   "source": [
    "____"
   ]
  },
  {
   "cell_type": "code",
   "execution_count": 10,
   "metadata": {},
   "outputs": [
    {
     "data": {
      "text/plain": [
       "Index(['app', 'app_cumcnt_ip_device_os', 'app_mean_target',\n",
       "       'app_nunique_channel', 'app_nunique_ip', 'app_nunique_ip_device_os',\n",
       "       'channel', 'channel_cnt_ip_app', 'channel_cnt_ip_day_hour',\n",
       "       'channel_mean_target', 'channel_nunique_ip', 'click_id', 'click_time',\n",
       "       'day', 'device', 'device_mean_target', 'hour', 'hour_nunique_ip_day',\n",
       "       'ip', 'ip_app_os_device_mean_target', 'ip_mean_target', 'is_attributed',\n",
       "       'next_click_dt', 'os'],\n",
       "      dtype='object')"
      ]
     },
     "execution_count": 10,
     "metadata": {},
     "output_type": "execute_result"
    }
   ],
   "source": [
    "trn_df.columns"
   ]
  },
  {
   "cell_type": "code",
   "execution_count": 11,
   "metadata": {},
   "outputs": [],
   "source": [
    "trn_df.drop(['ip_app_os_device_mean_target'],axis=1,inplace=True)"
   ]
  },
  {
   "cell_type": "code",
   "execution_count": 13,
   "metadata": {},
   "outputs": [
    {
     "name": "stdout",
     "output_type": "stream",
     "text": [
      "trn_df :(143984060, 23)\n"
     ]
    }
   ],
   "source": [
    "gc.collect()\n",
    "\n",
    "print('trn_df :{}'.format(trn_df.shape)) # \n",
    "# print('test_df:{}'.format(test_df.shape))\n",
    "# del test_df"
   ]
  },
  {
   "cell_type": "markdown",
   "metadata": {},
   "source": [
    "- len_trn  : 125193591 \n",
    "\n",
    "- len_tst  : 18790469"
   ]
  },
  {
   "cell_type": "markdown",
   "metadata": {},
   "source": [
    "# helper func"
   ]
  },
  {
   "cell_type": "code",
   "execution_count": 14,
   "metadata": {},
   "outputs": [],
   "source": [
    "def encode_agg_feature(train_df, selcols, groupby, aggregator = 'nunique'):\n",
    "    usecols = [e for e in selcols if e not in  groupby]    \n",
    "    \n",
    "    if aggregator == 'nunique':  \n",
    "        colname= usecols[-1] + '_nunique_' + '_'.join(groupby)\n",
    "        if colname in train_df.columns:\n",
    "            train_df.drop(colname,axis=1,inplace=True)\n",
    "            \n",
    "        gp = train_df[selcols].groupby(groupby)[usecols].nunique().reset_index().\\\n",
    "            rename(columns = {\n",
    "                usecols[-1] : usecols[-1] + '_nunique_' + '_'.join(groupby)\n",
    "            })\n",
    "        train_df = train_df.merge(gp, how='left', on=groupby)\n",
    "\n",
    "    elif aggregator == 'cumcount':\n",
    "        colname = usecols[-1] + '_cumcnt_' + '_'.join(groupby)\n",
    "        if colname in train_df.columns:\n",
    "            train_df.drop(colname,axis=1,inplace=True)\n",
    "            \n",
    "        gp = train_df[selcols].groupby(groupby)[usecols].cumcount()        \n",
    "        train_df[colname] = gp.values\n",
    "    \n",
    "    elif aggregator == 'count':\n",
    "        colname = usecols[-1] + '_cnt_' + '_'.join(groupby)\n",
    "        if colname in train_df.columns:\n",
    "            train_df.drop(colname,axis=1,inplace=True)\n",
    "        gp = train_df[selcols].groupby(groupby)[usecols].count().reset_index().\\\n",
    "            rename(columns = {\n",
    "                usecols[-1] : colname\n",
    "            })\n",
    "        train_df = train_df.merge(gp, how='left', on=groupby)\n",
    "        \n",
    "    elif aggregator in ['var','mean']:\n",
    "        agg=np.var if aggregator == 'var' else np.mean\n",
    "        \n",
    "        colname = usecols[-1] + '_'+ str(aggregator) +'_' + '_'.join(groupby)\n",
    "        \n",
    "        if colname in train_df.columns:\n",
    "            train_df.drop(colname,axis=1, inplace=True)\n",
    "            \n",
    "        gp = train_df[selcols].groupby(groupby).agg(agg).reset_index().\\\n",
    "            rename(columns = {\n",
    "                usecols[-1] : colname\n",
    "            })\n",
    "        train_df = train_df.merge(gp, how='left', on=groupby)\n",
    "    \n",
    "    return train_df.iloc[:,-1]"
   ]
  },
  {
   "cell_type": "markdown",
   "metadata": {},
   "source": [
    "#### feat_base                     \n",
    "\n",
    "        - [o] ip_unicnt_channel"
   ]
  },
  {
   "cell_type": "code",
   "execution_count": 16,
   "metadata": {},
   "outputs": [
    {
     "name": "stdout",
     "output_type": "stream",
     "text": [
      "num of nunique \"IP\" by \"channel\"...\tip_nunique_channel\n"
     ]
    },
    {
     "data": {
      "text/plain": [
       "1219"
      ]
     },
     "execution_count": 16,
     "metadata": {},
     "output_type": "execute_result"
    }
   ],
   "source": [
    "print('num of nunique \"IP\" by \"channel\"...',end='\\t')\n",
    "\n",
    "ip_unicnt_channel_df = encode_agg_feature(trn_df, groupby=['channel'],selcols=['ip','channel'],aggregator='nunique')\n",
    "print(ip_unicnt_channel_df.name)\n",
    "trn_df[ip_unicnt_channel_df.name] = ip_unicnt_channel_df.values.astype('uint16'); del ip_unicnt_channel_df;gc.collect()\n"
   ]
  },
  {
   "cell_type": "code",
   "execution_count": 17,
   "metadata": {},
   "outputs": [],
   "source": [
    "len_tst = 18790469\n",
    "len_trn = 143984060 - 18790469"
   ]
  },
  {
   "cell_type": "markdown",
   "metadata": {},
   "source": [
    "#### mean encode ON TRAINNING ONLY NOT ON TEST ###\n",
    "- (app,channel)\n",
    "- (ip, app)\n",
    "- os\n",
    "- hour"
   ]
  },
  {
   "cell_type": "code",
   "execution_count": 4,
   "metadata": {},
   "outputs": [],
   "source": [
    "# test_df = trn_df.iloc[len_trn:,]\n",
    "# trn_df  = trn_df.iloc[:len_trn,]"
   ]
  },
  {
   "cell_type": "code",
   "execution_count": 18,
   "metadata": {},
   "outputs": [],
   "source": [
    "debug = 0\n",
    "if debug:\n",
    "    len_tst = 10000\n",
    "    len_trn = 10000\n",
    "else:\n",
    "    len_tst = 18790469\n",
    "    len_trn = 143984060 - 18790469\n",
    "test_df = trn_df.iloc[len_trn:,]\n",
    "trn_df = trn_df.iloc[:len_trn,]"
   ]
  },
  {
   "cell_type": "code",
   "execution_count": 19,
   "metadata": {},
   "outputs": [
    {
     "name": "stdout",
     "output_type": "stream",
     "text": [
      "trn_df shape : (125193591, 24)\n",
      "test_df shape: (18790469, 24)\n"
     ]
    }
   ],
   "source": [
    "print('trn_df shape :',trn_df.shape)\n",
    "print('test_df shape:',test_df.shape)"
   ]
  },
  {
   "cell_type": "code",
   "execution_count": 20,
   "metadata": {},
   "outputs": [
    {
     "data": {
      "text/plain": [
       "Index(['app', 'app_cumcnt_ip_device_os', 'app_mean_target',\n",
       "       'app_nunique_channel', 'app_nunique_ip', 'app_nunique_ip_device_os',\n",
       "       'channel', 'channel_cnt_ip_app', 'channel_cnt_ip_day_hour',\n",
       "       'channel_mean_target', 'channel_nunique_ip', 'click_id', 'click_time',\n",
       "       'day', 'device', 'device_mean_target', 'hour', 'hour_nunique_ip_day',\n",
       "       'ip', 'ip_mean_target', 'is_attributed', 'next_click_dt', 'os',\n",
       "       'ip_nunique_channel'],\n",
       "      dtype='object')"
      ]
     },
     "execution_count": 20,
     "metadata": {},
     "output_type": "execute_result"
    }
   ],
   "source": [
    "trn_df.columns"
   ]
  },
  {
   "cell_type": "code",
   "execution_count": 21,
   "metadata": {},
   "outputs": [
    {
     "name": "stdout",
     "output_type": "stream",
     "text": [
      "copy trn_df to make new features\n",
      "create new cols\n",
      "StratifiedKFold...\n",
      "fold:0 mean encoding...\n",
      "\t['ip', 'app']\t"
     ]
    },
    {
     "name": "stderr",
     "output_type": "stream",
     "text": [
      "C:\\Program Files\\Anaconda3\\envs\\py36\\lib\\site-packages\\ipykernel\\__main__.py:40: SettingWithCopyWarning: \n",
      "A value is trying to be set on a copy of a slice from a DataFrame.\n",
      "Try using .loc[row_indexer,col_indexer] = value instead\n",
      "\n",
      "See the caveats in the documentation: http://pandas.pydata.org/pandas-docs/stable/indexing.html#indexing-view-versus-copy\n"
     ]
    },
    {
     "name": "stdout",
     "output_type": "stream",
     "text": [
      "['app', 'channel']\tos\thour\t\n",
      "fold:1 mean encoding...\n",
      "\t['ip', 'app']\t['app', 'channel']\tos\thour\t\n",
      "fold:2 mean encoding...\n",
      "\t['ip', 'app']\t['app', 'channel']\tos\thour\t\n",
      "fold:3 mean encoding...\n",
      "\t['ip', 'app']\t['app', 'channel']\tos\thour\t\n",
      "complete\n"
     ]
    }
   ],
   "source": [
    "from sklearn.model_selection import StratifiedKFold\n",
    "print('copy trn_df to make new features')\n",
    "train_new = trn_df.copy()\n",
    "\n",
    "print('create new cols')\n",
    "cols = [['ip','app'],['app','channel'], 'os','hour']\n",
    "for col in cols :\n",
    "    if isinstance(col,list):\n",
    "        col_str = '_'.join(col)\n",
    "    else:\n",
    "        col_str = col\n",
    "    train_new[col_str + '_mean_target'] = 0\n",
    "\n",
    "print('StratifiedKFold...')\n",
    "y_tr = trn_df.is_attributed.values.astype(np.int8) # target \n",
    "skf = StratifiedKFold(4, random_state=0)\n",
    "skf.get_n_splits(X=trn_df,y=y_tr)\n",
    "\n",
    "gc.collect()\n",
    "for fold, (tr_idx, val_idx) in enumerate(skf.split(train_new,y_tr)):\n",
    "    \n",
    "    ## generate features \n",
    "    \n",
    "    X_tr ,X_val = trn_df.iloc[tr_idx], trn_df.iloc[val_idx]\n",
    "    \n",
    "    print('fold:{} mean encoding...'.format(fold),end='\\n\\t')\n",
    "#     print('tr_idx:{}'.format(tr_idx))\n",
    "    for col in cols:        \n",
    "        print(col,end='\\t')\n",
    "        if isinstance(col,str):\n",
    "            means = X_val[col].map(X_tr.groupby(col).is_attributed.mean()) ## map mean encoding in X_tr to X_val\n",
    "            col_str = col\n",
    "            \n",
    "        elif isinstance(col,list):\n",
    "            col_str = '_'.join(col)\n",
    "            gp = X_tr.groupby(col).is_attributed.mean().reset_index().rename(columns={'is_attributed':col_str+'_mean_target'})\n",
    "            means = X_val[col].merge(gp,how='left',on=col)[col_str+'_mean_target']\n",
    "            del gp;\n",
    "            \n",
    "        X_val[col_str + '_mean_target'] = means.astype('float16')\n",
    "        del means;gc.collect()\n",
    "        \n",
    "        \n",
    "        \n",
    "    train_new.iloc[val_idx] = X_val\n",
    "    print('')    \n",
    "    del X_tr,X_val;gc.collect()\n",
    "            \n",
    "prior = trn_df.is_attributed.mean()\n",
    "\n",
    "col_used = [ '_'.join(col) + '_mean_target' if isinstance(col,list) else col for col in cols]\n",
    "train_new[col_used] = train_new[col_used].fillna(prior)\n",
    "\n",
    "trn_df = train_new\n",
    "del train_new;gc.collect()\n",
    "print('complete')"
   ]
  },
  {
   "cell_type": "code",
   "execution_count": 22,
   "metadata": {},
   "outputs": [
    {
     "name": "stdout",
     "output_type": "stream",
     "text": [
      "<class 'pandas.core.frame.DataFrame'>\n",
      "Int64Index: 125193591 entries, 59709852 to 184903442\n",
      "Data columns (total 28 columns):\n",
      "app                         uint16\n",
      "app_cumcnt_ip_device_os     uint16\n",
      "app_mean_target             float16\n",
      "app_nunique_channel         uint8\n",
      "app_nunique_ip              uint8\n",
      "app_nunique_ip_device_os    uint8\n",
      "channel                     uint16\n",
      "channel_cnt_ip_app          uint16\n",
      "channel_cnt_ip_day_hour     uint16\n",
      "channel_mean_target         float16\n",
      "channel_nunique_ip          uint8\n",
      "click_id                    float64\n",
      "click_time                  datetime64[ns, Asia/Shanghai]\n",
      "day                         uint8\n",
      "device                      uint16\n",
      "device_mean_target          float16\n",
      "hour                        uint8\n",
      "hour_nunique_ip_day         uint8\n",
      "ip                          uint32\n",
      "ip_mean_target              float16\n",
      "is_attributed               float64\n",
      "next_click_dt               uint16\n",
      "os                          uint16\n",
      "ip_nunique_channel          uint16\n",
      "ip_app_mean_target          float16\n",
      "app_channel_mean_target     float16\n",
      "os_mean_target              float16\n",
      "hour_mean_target            float16\n",
      "dtypes: datetime64[ns, Asia/Shanghai](1), float16(8), float64(2), uint16(9), uint32(1), uint8(7)\n",
      "memory usage: 9.0 GB\n"
     ]
    }
   ],
   "source": [
    "trn_df.info()"
   ]
  },
  {
   "cell_type": "markdown",
   "metadata": {},
   "source": [
    "___ "
   ]
  },
  {
   "cell_type": "markdown",
   "metadata": {},
   "source": [
    "#### mean encode on TEST"
   ]
  },
  {
   "cell_type": "code",
   "execution_count": 43,
   "metadata": {},
   "outputs": [
    {
     "name": "stdout",
     "output_type": "stream",
     "text": [
      "target_mean col:['app', 'channel']...\n",
      "target_mean col:['ip', 'app']...\n",
      "target_mean col:os...\n",
      "target_mean col:hour...\n",
      "complete\n"
     ]
    }
   ],
   "source": [
    "cols = [['app','channel'],['ip','app'],'os','hour']\n",
    "\n",
    "selcols = ['ip','app','os','channel','hour','is_attributed']\n",
    "\n",
    "for col in cols:\n",
    "    print('target_mean col:{}...'.format(col))\n",
    "    gp = trn_df[selcols].groupby(col)\n",
    "    if isinstance(col,list):\n",
    "        col_str = '_'.join(col)\n",
    "        gp = gp.is_attributed.mean().reset_index().rename(columns={'is_attributed':col_str+'_mean_target'})\n",
    "        means = test_df.merge(gp,how='left',on=col)[col_str+'_mean_target'].astype('float16')\n",
    "    else:\n",
    "        col_str = col\n",
    "        means = test_df[col].map(gp.is_attributed.mean()).astype('float16')\n",
    "        \n",
    "    test_df[col_str +'_mean_target'] = means\n",
    "    del means,gp;gc.collect()\n",
    "    \n",
    "prior = trn_df.is_attributed.mean()\n",
    "\n",
    "\n",
    "col_used = [ '_'.join(col) + '_mean_target' if isinstance(col,list) else col for col in cols]\n",
    "test_df[col_used].fillna(prior)\n",
    "\n",
    "gc.collect()\n",
    "print('complete')"
   ]
  },
  {
   "cell_type": "code",
   "execution_count": 44,
   "metadata": {},
   "outputs": [
    {
     "data": {
      "text/plain": [
       "(18790469, 28)"
      ]
     },
     "execution_count": 44,
     "metadata": {},
     "output_type": "execute_result"
    }
   ],
   "source": [
    "test_df.shape"
   ]
  },
  {
   "cell_type": "code",
   "execution_count": 46,
   "metadata": {},
   "outputs": [
    {
     "data": {
      "text/html": [
       "<div>\n",
       "<style>\n",
       "    .dataframe thead tr:only-child th {\n",
       "        text-align: right;\n",
       "    }\n",
       "\n",
       "    .dataframe thead th {\n",
       "        text-align: left;\n",
       "    }\n",
       "\n",
       "    .dataframe tbody tr th {\n",
       "        vertical-align: top;\n",
       "    }\n",
       "</style>\n",
       "<table border=\"1\" class=\"dataframe\">\n",
       "  <thead>\n",
       "    <tr style=\"text-align: right;\">\n",
       "      <th></th>\n",
       "      <th>app</th>\n",
       "      <th>app_cumcnt_ip_device_os</th>\n",
       "      <th>app_mean_target</th>\n",
       "      <th>app_nunique_channel</th>\n",
       "      <th>app_nunique_ip</th>\n",
       "      <th>app_nunique_ip_device_os</th>\n",
       "      <th>channel</th>\n",
       "      <th>channel_cnt_ip_app</th>\n",
       "      <th>channel_cnt_ip_day_hour</th>\n",
       "      <th>channel_mean_target</th>\n",
       "      <th>...</th>\n",
       "      <th>ip</th>\n",
       "      <th>ip_mean_target</th>\n",
       "      <th>is_attributed</th>\n",
       "      <th>next_click_dt</th>\n",
       "      <th>os</th>\n",
       "      <th>ip_nunique_channel</th>\n",
       "      <th>app_channel_mean_target</th>\n",
       "      <th>ip_app_mean_target</th>\n",
       "      <th>os_mean_target</th>\n",
       "      <th>hour_mean_target</th>\n",
       "    </tr>\n",
       "  </thead>\n",
       "  <tbody>\n",
       "    <tr>\n",
       "      <th>0</th>\n",
       "      <td>9</td>\n",
       "      <td>3</td>\n",
       "      <td>0.001114</td>\n",
       "      <td>4</td>\n",
       "      <td>31</td>\n",
       "      <td>4</td>\n",
       "      <td>107</td>\n",
       "      <td>104</td>\n",
       "      <td>34</td>\n",
       "      <td>0.000529</td>\n",
       "      <td>...</td>\n",
       "      <td>5744</td>\n",
       "      <td>0.001394</td>\n",
       "      <td>NaN</td>\n",
       "      <td>50000</td>\n",
       "      <td>3</td>\n",
       "      <td>48100</td>\n",
       "      <td>0.001152</td>\n",
       "      <td>0.000000</td>\n",
       "      <td>0.000798</td>\n",
       "      <td>0.00276</td>\n",
       "    </tr>\n",
       "    <tr>\n",
       "      <th>1</th>\n",
       "      <td>9</td>\n",
       "      <td>187</td>\n",
       "      <td>0.001114</td>\n",
       "      <td>2</td>\n",
       "      <td>74</td>\n",
       "      <td>22</td>\n",
       "      <td>466</td>\n",
       "      <td>1791</td>\n",
       "      <td>403</td>\n",
       "      <td>0.001122</td>\n",
       "      <td>...</td>\n",
       "      <td>119901</td>\n",
       "      <td>0.001630</td>\n",
       "      <td>NaN</td>\n",
       "      <td>399</td>\n",
       "      <td>3</td>\n",
       "      <td>32606</td>\n",
       "      <td>0.001239</td>\n",
       "      <td>0.000666</td>\n",
       "      <td>0.000798</td>\n",
       "      <td>0.00276</td>\n",
       "    </tr>\n",
       "    <tr>\n",
       "      <th>2</th>\n",
       "      <td>21</td>\n",
       "      <td>2408</td>\n",
       "      <td>0.000134</td>\n",
       "      <td>10</td>\n",
       "      <td>61</td>\n",
       "      <td>37</td>\n",
       "      <td>128</td>\n",
       "      <td>592</td>\n",
       "      <td>229</td>\n",
       "      <td>0.000214</td>\n",
       "      <td>...</td>\n",
       "      <td>72287</td>\n",
       "      <td>0.000984</td>\n",
       "      <td>NaN</td>\n",
       "      <td>88</td>\n",
       "      <td>19</td>\n",
       "      <td>21156</td>\n",
       "      <td>0.000101</td>\n",
       "      <td>0.000000</td>\n",
       "      <td>0.001735</td>\n",
       "      <td>0.00276</td>\n",
       "    </tr>\n",
       "    <tr>\n",
       "      <th>3</th>\n",
       "      <td>15</td>\n",
       "      <td>1679</td>\n",
       "      <td>0.000223</td>\n",
       "      <td>1</td>\n",
       "      <td>59</td>\n",
       "      <td>37</td>\n",
       "      <td>111</td>\n",
       "      <td>493</td>\n",
       "      <td>239</td>\n",
       "      <td>0.000265</td>\n",
       "      <td>...</td>\n",
       "      <td>78477</td>\n",
       "      <td>0.002548</td>\n",
       "      <td>NaN</td>\n",
       "      <td>425</td>\n",
       "      <td>13</td>\n",
       "      <td>57203</td>\n",
       "      <td>0.000265</td>\n",
       "      <td>0.000000</td>\n",
       "      <td>0.001463</td>\n",
       "      <td>0.00276</td>\n",
       "    </tr>\n",
       "    <tr>\n",
       "      <th>4</th>\n",
       "      <td>12</td>\n",
       "      <td>114</td>\n",
       "      <td>0.000107</td>\n",
       "      <td>1</td>\n",
       "      <td>29</td>\n",
       "      <td>22</td>\n",
       "      <td>328</td>\n",
       "      <td>90</td>\n",
       "      <td>60</td>\n",
       "      <td>0.000097</td>\n",
       "      <td>...</td>\n",
       "      <td>123080</td>\n",
       "      <td>0.002213</td>\n",
       "      <td>NaN</td>\n",
       "      <td>1208</td>\n",
       "      <td>13</td>\n",
       "      <td>3214</td>\n",
       "      <td>0.000097</td>\n",
       "      <td>0.000000</td>\n",
       "      <td>0.001463</td>\n",
       "      <td>0.00276</td>\n",
       "    </tr>\n",
       "  </tbody>\n",
       "</table>\n",
       "<p>5 rows × 28 columns</p>\n",
       "</div>"
      ],
      "text/plain": [
       "   app  app_cumcnt_ip_device_os  app_mean_target  app_nunique_channel  \\\n",
       "0    9                        3         0.001114                    4   \n",
       "1    9                      187         0.001114                    2   \n",
       "2   21                     2408         0.000134                   10   \n",
       "3   15                     1679         0.000223                    1   \n",
       "4   12                      114         0.000107                    1   \n",
       "\n",
       "   app_nunique_ip  app_nunique_ip_device_os  channel  channel_cnt_ip_app  \\\n",
       "0              31                         4      107                 104   \n",
       "1              74                        22      466                1791   \n",
       "2              61                        37      128                 592   \n",
       "3              59                        37      111                 493   \n",
       "4              29                        22      328                  90   \n",
       "\n",
       "   channel_cnt_ip_day_hour  channel_mean_target        ...             ip  \\\n",
       "0                       34             0.000529        ...           5744   \n",
       "1                      403             0.001122        ...         119901   \n",
       "2                      229             0.000214        ...          72287   \n",
       "3                      239             0.000265        ...          78477   \n",
       "4                       60             0.000097        ...         123080   \n",
       "\n",
       "   ip_mean_target is_attributed  next_click_dt  os  ip_nunique_channel  \\\n",
       "0        0.001394           NaN          50000   3               48100   \n",
       "1        0.001630           NaN            399   3               32606   \n",
       "2        0.000984           NaN             88  19               21156   \n",
       "3        0.002548           NaN            425  13               57203   \n",
       "4        0.002213           NaN           1208  13                3214   \n",
       "\n",
       "   app_channel_mean_target  ip_app_mean_target  os_mean_target  \\\n",
       "0                 0.001152            0.000000        0.000798   \n",
       "1                 0.001239            0.000666        0.000798   \n",
       "2                 0.000101            0.000000        0.001735   \n",
       "3                 0.000265            0.000000        0.001463   \n",
       "4                 0.000097            0.000000        0.001463   \n",
       "\n",
       "   hour_mean_target  \n",
       "0           0.00276  \n",
       "1           0.00276  \n",
       "2           0.00276  \n",
       "3           0.00276  \n",
       "4           0.00276  \n",
       "\n",
       "[5 rows x 28 columns]"
      ]
     },
     "execution_count": 46,
     "metadata": {},
     "output_type": "execute_result"
    }
   ],
   "source": [
    "test_df.head()"
   ]
  },
  {
   "cell_type": "code",
   "execution_count": 45,
   "metadata": {},
   "outputs": [
    {
     "name": "stdout",
     "output_type": "stream",
     "text": [
      "<class 'pandas.core.frame.DataFrame'>\n",
      "Int64Index: 18790469 entries, 0 to 18790468\n",
      "Data columns (total 28 columns):\n",
      "app                         uint16\n",
      "app_cumcnt_ip_device_os     uint16\n",
      "app_mean_target             float16\n",
      "app_nunique_channel         uint8\n",
      "app_nunique_ip              uint8\n",
      "app_nunique_ip_device_os    uint8\n",
      "channel                     uint16\n",
      "channel_cnt_ip_app          uint16\n",
      "channel_cnt_ip_day_hour     uint16\n",
      "channel_mean_target         float16\n",
      "channel_nunique_ip          uint8\n",
      "click_id                    float64\n",
      "click_time                  datetime64[ns, Asia/Shanghai]\n",
      "day                         uint8\n",
      "device                      uint16\n",
      "device_mean_target          float16\n",
      "hour                        uint8\n",
      "hour_nunique_ip_day         uint8\n",
      "ip                          uint32\n",
      "ip_mean_target              float16\n",
      "is_attributed               float64\n",
      "next_click_dt               uint16\n",
      "os                          uint16\n",
      "ip_nunique_channel          uint16\n",
      "app_channel_mean_target     float16\n",
      "ip_app_mean_target          float16\n",
      "os_mean_target              float16\n",
      "hour_mean_target            float16\n",
      "dtypes: datetime64[ns, Asia/Shanghai](1), float16(8), float64(2), uint16(9), uint32(1), uint8(7)\n",
      "memory usage: 1.3 GB\n"
     ]
    }
   ],
   "source": [
    "test_df.info()"
   ]
  },
  {
   "cell_type": "markdown",
   "metadata": {},
   "source": [
    "___"
   ]
  },
  {
   "cell_type": "markdown",
   "metadata": {},
   "source": [
    "# Save \n",
    "\n"
   ]
  },
  {
   "cell_type": "code",
   "execution_count": 48,
   "metadata": {},
   "outputs": [],
   "source": [
    "## day8 train_sets\n",
    "train_df = trn_df[trn_df.day==8]\n",
    "## day9 valid sets \n",
    "val_df = trn_df[trn_df.day==9]\n"
   ]
  },
  {
   "cell_type": "code",
   "execution_count": 49,
   "metadata": {},
   "outputs": [
    {
     "name": "stdout",
     "output_type": "stream",
     "text": [
      "train shape:  (62360949, 28)\n",
      "valid shape:  (62832642, 28)\n",
      "test shape :  (18790469, 28)\n"
     ]
    }
   ],
   "source": [
    "print(\"train shape: \", train_df.shape)\n",
    "print(\"valid shape: \", val_df.shape)\n",
    "print(\"test shape : \", test_df.shape)\n"
   ]
  },
  {
   "cell_type": "code",
   "execution_count": 50,
   "metadata": {},
   "outputs": [
    {
     "name": "stdout",
     "output_type": "stream",
     "text": [
      "../../feat5_trn_day8_val_day9\n"
     ]
    }
   ],
   "source": [
    "fileno = 5\n",
    "trn_day = 'day8'\n",
    "val_day = 'day9'\n",
    "print('../../feat{}_trn_{}_val_{}'.format(fileno,trn_day,val_day))\n",
    "store = pd.HDFStore('../input/feat/feat{}_trn_{}_val_{}.h5'.format(fileno,trn_day,val_day))\n",
    "store['train_df'] = train_df\n",
    "store['valid_df'] = val_df\n",
    "store['test_df'] = test_df\n",
    "store.close()"
   ]
  },
  {
   "cell_type": "markdown",
   "metadata": {},
   "source": [
    "load"
   ]
  },
  {
   "cell_type": "code",
   "execution_count": 1,
   "metadata": {},
   "outputs": [],
   "source": [
    "import pandas as pd"
   ]
  },
  {
   "cell_type": "code",
   "execution_count": 2,
   "metadata": {},
   "outputs": [],
   "source": [
    "with pd.HDFStore('../input/feat/feat4_trn_day8_val_day9.h5') as store:\n",
    "    train_df = store['train_df']\n",
    "    val_df   = store['valid_df']\n",
    "    test_df  = store['test_df']"
   ]
  }
 ],
 "metadata": {
  "anaconda-cloud": {},
  "kernelspec": {
   "display_name": "Python [conda env:py36]",
   "language": "python",
   "name": "conda-env-py36-py"
  },
  "language_info": {
   "codemirror_mode": {
    "name": "ipython",
    "version": 3
   },
   "file_extension": ".py",
   "mimetype": "text/x-python",
   "name": "python",
   "nbconvert_exporter": "python",
   "pygments_lexer": "ipython3",
   "version": "3.6.3"
  }
 },
 "nbformat": 4,
 "nbformat_minor": 1
}
