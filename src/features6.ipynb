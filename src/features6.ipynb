{
 "cells": [
  {
   "cell_type": "markdown",
   "metadata": {},
   "source": [
    "This script do:\n",
    "\n",
    "- add features\n",
    "   - test data info\n",
    "       - category in most_freq_hours_in_test_data = `[4,5,9,10,13,14]` , least_freq_hours_in_test_data = `[6,11,15]` or others\n",
    "   - mean encode \n",
    "       - ~~by (ip,app)~~\n",
    "       - ~~by (app,channel)~~\n",
    "       - ~~os_mean_target~~\n",
    "       - ~~device_mean_target~~\n",
    "          \n",
    "   - base\n",
    "       \n",
    "       - cnt\n",
    "           - count by (ip,app,os,channel,day,hour) : device_cnt_ip_app_os_channel_day_hour\n",
    "           - cnt by (ip,app,os) : channel_cnt_ip_app_os\n",
    "           \n",
    "           - **cnt by (ip,device) : channel_cnt_ip_device **\n",
    "           - **cnt by (app,channel) : device_cnt_app_channel **\n",
    "           - **cnt by (ip) : channel_cnt_ip **\n",
    "       - cumcnt\n",
    "           - ~~cumcnt os by (ip) : os_cumcnt_ip~~\n",
    "       - unique\n",
    "           - hour by (ip,day) : hour_nunique_ip_day\n",
    "           - os by (ip,app) : os_nunique_ip_app\n",
    "           - device by (ip) : device_nunique_ip\n",
    "           - ~~app_nunique_channel~~\n",
    "           - ~~ip_nunique_channel~~\n",
    "   - shift \n",
    "       - shift_iptcnt \n",
    "       - (mean of device_cnt_ip_app_os_channel by hour)\n",
    "   - next click\n",
    "       - ~~by ip,os,device (iod)~~\n",
    "       - ~~by ip,os,device,channel (iodc)~~\n",
    "       - ~~by app,device,channel (adc)~~\n",
    "       - ~~by device,channel (dc)~~\n",
    "       - by ip,app (ia)\n",
    "       - by ip,app,device,os,channel (iadoc)\n",
    "- features base\n",
    "    - use only (gain importance)\n",
    "        - os_mean_target\n",
    "        - hour_mean_target    \n",
    "        - ip_unicnt_channel\n",
    "        \n",
    "        - app_mean_target\n",
    "        - app\n",
    "        - channel_mean_target\n",
    "        - next_click_dt\n",
    "        - channel_nunique_ip\n",
    "        - os\n",
    "        - channel\n",
    "        - hour        \n",
    "        - app_nunique_channel\n",
    "        - channel_cnt_ip_app\n",
    "        - hour_nunique_day_ip\n",
    "        - app_nunique_ip\n",
    "        - app_nunique_ip_device_os\n",
    "        - device_mean_target \t\n",
    "        - channel_cnt_ip_day_hour\n",
    "        - app_cumcnt_ip_device_os\n",
    "        - ip_mean_target        \n",
    "        - device"
   ]
  },
  {
   "cell_type": "code",
   "execution_count": 1,
   "metadata": {},
   "outputs": [],
   "source": [
    "import pandas as pd \n",
    "import numpy as np \n",
    "import matplotlib.pyplot as plt \n",
    "import pytz\n",
    "%matplotlib inline \n",
    "import gc,time"
   ]
  },
  {
   "cell_type": "code",
   "execution_count": 2,
   "metadata": {},
   "outputs": [
    {
     "name": "stdout",
     "output_type": "stream",
     "text": [
      "['/test_df', '/train_df', '/valid_df']\n"
     ]
    }
   ],
   "source": [
    "with pd.HDFStore('../input/feat/feat65_trn_day8_val_day9.h5') as store:\n",
    "    print(store.keys())\n",
    "    test_df = store['test_df']\n",
    "    train_df = store['train_df']\n",
    "    val_df = store['valid_df']"
   ]
  },
  {
   "cell_type": "code",
   "execution_count": 3,
   "metadata": {},
   "outputs": [
    {
     "data": {
      "text/plain": [
       "14"
      ]
     },
     "execution_count": 3,
     "metadata": {},
     "output_type": "execute_result"
    }
   ],
   "source": [
    "trn_df = train_df.append(val_df)\n",
    "trn_df = trn_df.append(test_df)\n",
    "del train_df,test_df,val_df;gc.collect()"
   ]
  },
  {
   "cell_type": "markdown",
   "metadata": {},
   "source": [
    "drop \n",
    "- ~~app_nunique_channel~~\n",
    "- ~~os_mean_target~~\n",
    "- ~~ip_nunique_channel~~\n",
    "- ~~device_mean_target~~"
   ]
  },
  {
   "cell_type": "code",
   "execution_count": 5,
   "metadata": {},
   "outputs": [],
   "source": [
    "trn_df.drop(['next_click_iodc','next_click_dt_iod','next_click_dt_adc'],axis=1,inplace=True)"
   ]
  },
  {
   "cell_type": "code",
   "execution_count": 4,
   "metadata": {},
   "outputs": [],
   "source": [
    "# trn_df.drop(['ip_app_mean_target','app_channel_mean_target'],inplace=True,axis=1)"
   ]
  },
  {
   "cell_type": "code",
   "execution_count": 4,
   "metadata": {},
   "outputs": [],
   "source": [
    "# trn_df.drop(['next_click_dt_dc','os_cumcnt_ip'],axis=1,inplace=True) #  drop in 64"
   ]
  },
  {
   "cell_type": "code",
   "execution_count": 4,
   "metadata": {},
   "outputs": [],
   "source": [
    "# trn_df.drop(['app_nunique_channel','os_mean_target','ip_nunique_channel','device_mean_target'],inplace=True,axis=1)"
   ]
  },
  {
   "cell_type": "code",
   "execution_count": 6,
   "metadata": {},
   "outputs": [
    {
     "data": {
      "text/plain": [
       "Index(['app', 'app_cumcnt_ip_device_os', 'app_mean_target', 'app_nunique_ip',\n",
       "       'app_nunique_ip_device_os', 'channel', 'channel_cnt_ip_app',\n",
       "       'channel_cnt_ip_day_hour', 'channel_mean_target', 'channel_nunique_ip',\n",
       "       'click_id', 'click_time', 'day', 'device', 'hour', 'hour_mean_target',\n",
       "       'ip', 'ip_mean_target', 'is_attributed', 'next_click_dt', 'os',\n",
       "       'device_cnt_ip_app_os_channel_day_hour', 'channel_cnt_ip_app_os',\n",
       "       'hour_nunique_ip_day', 'os_nunique_ip_app', 'device_nunique_ip',\n",
       "       'shift_iptcnt', 'next_click_dt_ia', 'next_click_iodac'],\n",
       "      dtype='object')"
      ]
     },
     "execution_count": 6,
     "metadata": {},
     "output_type": "execute_result"
    }
   ],
   "source": [
    "trn_df.columns"
   ]
  },
  {
   "cell_type": "code",
   "execution_count": 7,
   "metadata": {},
   "outputs": [
    {
     "data": {
      "text/plain": [
       "7"
      ]
     },
     "execution_count": 7,
     "metadata": {},
     "output_type": "execute_result"
    }
   ],
   "source": [
    "gc.collect()"
   ]
  },
  {
   "cell_type": "markdown",
   "metadata": {},
   "source": [
    "____"
   ]
  },
  {
   "cell_type": "markdown",
   "metadata": {},
   "source": [
    "- len_trn  : 125193591 \n",
    "\n",
    "- len_tst  : 18790469"
   ]
  },
  {
   "cell_type": "markdown",
   "metadata": {},
   "source": [
    "## do shift\n",
    "- previous count by hour \n",
    "    - (ip,day,hour)\n",
    "    - "
   ]
  },
  {
   "cell_type": "code",
   "execution_count": 7,
   "metadata": {},
   "outputs": [
    {
     "data": {
      "text/html": [
       "<div>\n",
       "<style>\n",
       "    .dataframe thead tr:only-child th {\n",
       "        text-align: right;\n",
       "    }\n",
       "\n",
       "    .dataframe thead th {\n",
       "        text-align: left;\n",
       "    }\n",
       "\n",
       "    .dataframe tbody tr th {\n",
       "        vertical-align: top;\n",
       "    }\n",
       "</style>\n",
       "<table border=\"1\" class=\"dataframe\">\n",
       "  <thead>\n",
       "    <tr style=\"text-align: right;\">\n",
       "      <th></th>\n",
       "      <th>ip</th>\n",
       "      <th>day</th>\n",
       "      <th>hour</th>\n",
       "      <th>ip_tcnt</th>\n",
       "      <th>shift_iptcnt</th>\n",
       "    </tr>\n",
       "  </thead>\n",
       "  <tbody>\n",
       "    <tr>\n",
       "      <th>0</th>\n",
       "      <td>0</td>\n",
       "      <td>10</td>\n",
       "      <td>12</td>\n",
       "      <td>2</td>\n",
       "      <td>NaN</td>\n",
       "    </tr>\n",
       "    <tr>\n",
       "      <th>1</th>\n",
       "      <td>1</td>\n",
       "      <td>9</td>\n",
       "      <td>1</td>\n",
       "      <td>5</td>\n",
       "      <td>NaN</td>\n",
       "    </tr>\n",
       "    <tr>\n",
       "      <th>2</th>\n",
       "      <td>1</td>\n",
       "      <td>9</td>\n",
       "      <td>3</td>\n",
       "      <td>2</td>\n",
       "      <td>5.0</td>\n",
       "    </tr>\n",
       "    <tr>\n",
       "      <th>3</th>\n",
       "      <td>1</td>\n",
       "      <td>9</td>\n",
       "      <td>4</td>\n",
       "      <td>4</td>\n",
       "      <td>2.0</td>\n",
       "    </tr>\n",
       "    <tr>\n",
       "      <th>4</th>\n",
       "      <td>1</td>\n",
       "      <td>9</td>\n",
       "      <td>6</td>\n",
       "      <td>4</td>\n",
       "      <td>4.0</td>\n",
       "    </tr>\n",
       "  </tbody>\n",
       "</table>\n",
       "</div>"
      ],
      "text/plain": [
       "   ip  day  hour  ip_tcnt  shift_iptcnt\n",
       "0   0   10    12        2           NaN\n",
       "1   1    9     1        5           NaN\n",
       "2   1    9     3        2           5.0\n",
       "3   1    9     4        4           2.0\n",
       "4   1    9     6        4           4.0"
      ]
     },
     "execution_count": 7,
     "metadata": {},
     "output_type": "execute_result"
    }
   ],
   "source": [
    "# trn_df[['ip','day','hour','channel_cnt_ip_day_hour']]\n",
    "gp = trn_df.groupby(['ip','day','hour']).size().rename('ip_tcnt').reset_index()\n",
    "gp['shift_iptcnt'] = gp.groupby(['ip','day']).shift(1).ip_tcnt\n",
    "gp.head()\n"
   ]
  },
  {
   "cell_type": "code",
   "execution_count": 15,
   "metadata": {},
   "outputs": [
    {
     "data": {
      "text/html": [
       "<div>\n",
       "<style>\n",
       "    .dataframe thead tr:only-child th {\n",
       "        text-align: right;\n",
       "    }\n",
       "\n",
       "    .dataframe thead th {\n",
       "        text-align: left;\n",
       "    }\n",
       "\n",
       "    .dataframe tbody tr th {\n",
       "        vertical-align: top;\n",
       "    }\n",
       "</style>\n",
       "<table border=\"1\" class=\"dataframe\">\n",
       "  <thead>\n",
       "    <tr style=\"text-align: right;\">\n",
       "      <th></th>\n",
       "      <th>ip</th>\n",
       "      <th>day</th>\n",
       "      <th>hour</th>\n",
       "      <th>ip_tcnt</th>\n",
       "      <th>shift_iptcnt</th>\n",
       "    </tr>\n",
       "  </thead>\n",
       "  <tbody>\n",
       "    <tr>\n",
       "      <th>62654</th>\n",
       "      <td>5348</td>\n",
       "      <td>8</td>\n",
       "      <td>0</td>\n",
       "      <td>22808</td>\n",
       "      <td>NaN</td>\n",
       "    </tr>\n",
       "    <tr>\n",
       "      <th>62655</th>\n",
       "      <td>5348</td>\n",
       "      <td>8</td>\n",
       "      <td>1</td>\n",
       "      <td>11422</td>\n",
       "      <td>22808.0</td>\n",
       "    </tr>\n",
       "    <tr>\n",
       "      <th>62656</th>\n",
       "      <td>5348</td>\n",
       "      <td>8</td>\n",
       "      <td>2</td>\n",
       "      <td>6530</td>\n",
       "      <td>11422.0</td>\n",
       "    </tr>\n",
       "    <tr>\n",
       "      <th>62657</th>\n",
       "      <td>5348</td>\n",
       "      <td>8</td>\n",
       "      <td>3</td>\n",
       "      <td>5108</td>\n",
       "      <td>6530.0</td>\n",
       "    </tr>\n",
       "    <tr>\n",
       "      <th>62658</th>\n",
       "      <td>5348</td>\n",
       "      <td>8</td>\n",
       "      <td>4</td>\n",
       "      <td>4814</td>\n",
       "      <td>5108.0</td>\n",
       "    </tr>\n",
       "  </tbody>\n",
       "</table>\n",
       "</div>"
      ],
      "text/plain": [
       "         ip  day  hour  ip_tcnt  shift_iptcnt\n",
       "62654  5348    8     0    22808           NaN\n",
       "62655  5348    8     1    11422       22808.0\n",
       "62656  5348    8     2     6530       11422.0\n",
       "62657  5348    8     3     5108        6530.0\n",
       "62658  5348    8     4     4814        5108.0"
      ]
     },
     "execution_count": 15,
     "metadata": {},
     "output_type": "execute_result"
    }
   ],
   "source": [
    "mask = (gp.ip == 5348) & (gp.day==8)\n",
    "gp[mask].head()"
   ]
  },
  {
   "cell_type": "code",
   "execution_count": 16,
   "metadata": {},
   "outputs": [],
   "source": [
    "trn_df = trn_df.merge(gp[['ip','day','hour','shift_iptcnt']],how='left',on=['ip','day','hour'])"
   ]
  },
  {
   "cell_type": "code",
   "execution_count": 38,
   "metadata": {},
   "outputs": [],
   "source": [
    "trn_df['shift_iptcnt'] = trn_df.shift_iptcnt.fillna(0).astype('uint16')"
   ]
  },
  {
   "cell_type": "code",
   "execution_count": 39,
   "metadata": {},
   "outputs": [
    {
     "data": {
      "text/plain": [
       "120"
      ]
     },
     "execution_count": 39,
     "metadata": {},
     "output_type": "execute_result"
    }
   ],
   "source": [
    "gc.collect()"
   ]
  },
  {
   "cell_type": "code",
   "execution_count": 40,
   "metadata": {},
   "outputs": [
    {
     "data": {
      "text/plain": [
       "Index(['app', 'app_cumcnt_ip_device_os', 'app_mean_target', 'app_nunique_ip',\n",
       "       'app_nunique_ip_device_os', 'channel', 'channel_cnt_ip_app',\n",
       "       'channel_cnt_ip_day_hour', 'channel_mean_target', 'channel_nunique_ip',\n",
       "       'click_id', 'click_time', 'day', 'device', 'hour', 'hour_mean_target',\n",
       "       'ip', 'ip_mean_target', 'is_attributed', 'next_click_dt', 'os',\n",
       "       'device_cnt_ip_app_os_channel_day_hour', 'channel_cnt_ip_app_os',\n",
       "       'os_cumcnt_ip', 'hour_nunique_ip_day', 'os_nunique_ip_app',\n",
       "       'device_nunique_ip', 'shift_iptcnt'],\n",
       "      dtype='object')"
      ]
     },
     "execution_count": 40,
     "metadata": {},
     "output_type": "execute_result"
    }
   ],
   "source": [
    "trn_df.columns"
   ]
  },
  {
   "cell_type": "markdown",
   "metadata": {},
   "source": [
    "## Next click \n",
    "- ~~by (ip,os,device)~~\n",
    "- ~~by (app,device,channel)~~\n",
    "- ~~by (device, channel)~~\n",
    "- by (ip,app)\n",
    "\n",
    "- ~~by ip,os,device,channel (iodc)~~\n",
    "- by ip,device,app,os,channel (iodac)"
   ]
  },
  {
   "cell_type": "code",
   "execution_count": 25,
   "metadata": {},
   "outputs": [],
   "source": [
    "def do_next_click(data, gb):\n",
    "    buffer = pd.DataFrame()\n",
    "#     buffer['click_time'] = data.click_time\n",
    "    \n",
    "    print('groupby: ',gb)\n",
    "    gp = data.groupby(gb)\n",
    "    print('doing shift1...')    \n",
    "    buffer['shift_1'] = gp.click_time.shift(-1)\n",
    "    cst = pytz.timezone('Asia/Shanghai')\n",
    "    buffer['shift_1'] = pd.to_datetime(buffer['shift_1']).dt.tz_localize(pytz.utc).dt.tz_convert(cst) \n",
    "    buffer['next_click_'+''.join([e[0] for e in gb])] = ((buffer.shift_1 - data.click_time) / np.timedelta64(1,'s')).fillna(50000).astype('uint16')\n",
    "    print('next_click_dt added')\n",
    "\n",
    "    print('gc...')\n",
    "    buffer.drop(['shift_1'],axis=1,inplace=True)\n",
    "    gc.collect()\n",
    "    print('complete')\n",
    "    \n",
    "    return buffer.values"
   ]
  },
  {
   "cell_type": "code",
   "execution_count": 24,
   "metadata": {},
   "outputs": [
    {
     "data": {
      "text/plain": [
       "Index(['app', 'app_cumcnt_ip_device_os', 'app_mean_target', 'app_nunique_ip',\n",
       "       'app_nunique_ip_device_os', 'channel', 'channel_cnt_ip_app',\n",
       "       'channel_cnt_ip_day_hour', 'channel_mean_target', 'channel_nunique_ip',\n",
       "       'click_id', 'click_time', 'day', 'device', 'hour', 'hour_mean_target',\n",
       "       'ip', 'ip_mean_target', 'is_attributed', 'next_click_dt', 'os',\n",
       "       'device_cnt_ip_app_os_channel_day_hour', 'channel_cnt_ip_app_os',\n",
       "       'hour_nunique_ip_day', 'os_nunique_ip_app', 'device_nunique_ip',\n",
       "       'shift_iptcnt', 'next_click_dt_iod', 'next_click_dt_adc',\n",
       "       'next_click_dt_ia'],\n",
       "      dtype='object')"
      ]
     },
     "execution_count": 24,
     "metadata": {},
     "output_type": "execute_result"
    }
   ],
   "source": [
    "trn_df.columns"
   ]
  },
  {
   "cell_type": "code",
   "execution_count": 33,
   "metadata": {},
   "outputs": [
    {
     "name": "stdout",
     "output_type": "stream",
     "text": [
      "groupby:  ['ip', 'device', 'os', 'channel']\n",
      "doing shift1...\n",
      "next_click_dt_iod added\n",
      "gc...\n",
      "complete\n"
     ]
    }
   ],
   "source": [
    "trn_df['next_click_iodc'] = do_next_click(trn_df,['ip','device','os','channel'])"
   ]
  },
  {
   "cell_type": "code",
   "execution_count": 34,
   "metadata": {},
   "outputs": [
    {
     "name": "stdout",
     "output_type": "stream",
     "text": [
      "groupby:  ['ip', 'os', 'device', 'app', 'channel']\n",
      "doing shift1...\n",
      "next_click_dt_iod added\n",
      "gc...\n",
      "complete\n"
     ]
    }
   ],
   "source": [
    "trn_df['next_click_iodac'] = do_next_click(trn_df,['ip','os','device','app','channel'])"
   ]
  },
  {
   "cell_type": "markdown",
   "metadata": {},
   "source": [
    "___ \n",
    "\n",
    "copy and paste to genreate next click time feat"
   ]
  },
  {
   "cell_type": "code",
   "execution_count": 45,
   "metadata": {},
   "outputs": [
    {
     "name": "stdout",
     "output_type": "stream",
     "text": [
      "next click time by(ip,os,device)...\n",
      "shift 1...\n",
      "next_click_dt_iod added\n",
      "gc...\n",
      "complete\n"
     ]
    }
   ],
   "source": [
    "# print('next click time by(ip,os,device)...')\n",
    "# gp = trn_df.groupby(['ip','os','device'])\n",
    "# print('shift 1...')\n",
    "\n",
    "# trn_df['shift_1'] = gp.click_time.shift(-1)\n",
    "# cst = pytz.timezone('Asia/Shanghai')\n",
    "# trn_df['shift_1'] = pd.to_datetime(trn_df['shift_1']).dt.tz_localize(pytz.utc).dt.tz_convert(cst) \n",
    "# trn_df['next_click_dt_iod'] = ((trn_df.shift_1 - trn_df.click_time) / np.timedelta64(1,'s')).fillna(50000).astype('uint16')\n",
    "# print('next_click_dt_iod added')\n",
    "\n",
    "# print('gc...')\n",
    "# trn_df.drop(['shift_1'],axis=1,inplace=True)\n",
    "# gc.collect()\n",
    "# print('complete')"
   ]
  },
  {
   "cell_type": "code",
   "execution_count": 7,
   "metadata": {},
   "outputs": [
    {
     "name": "stdout",
     "output_type": "stream",
     "text": [
      "next click time by(ip,os,device)...\n",
      "shift 1...\n",
      "next_click_dt_adc added\n",
      "gc...\n",
      "complete\n"
     ]
    }
   ],
   "source": [
    "# print('next click time by(app,device,channel)...')\n",
    "# gp = trn_df.groupby(['app','device','channel'])\n",
    "# print('shift 1...')\n",
    "\n",
    "# trn_df['shift_1'] = gp.click_time.shift(-1)\n",
    "# cst = pytz.timezone('Asia/Shanghai')\n",
    "# trn_df['shift_1'] = pd.to_datetime(trn_df['shift_1']).dt.tz_localize(pytz.utc).dt.tz_convert(cst) \n",
    "# trn_df['next_click_dt_adc'] = ((trn_df.shift_1 - trn_df.click_time) / np.timedelta64(1,'s')).fillna(50000).astype('uint16')\n",
    "# print('next_click_dt_adc added')\n",
    "\n",
    "# print('gc...')\n",
    "# trn_df.drop(['shift_1'],axis=1,inplace=True)\n",
    "# gc.collect()\n",
    "# print('complete')"
   ]
  },
  {
   "cell_type": "code",
   "execution_count": 8,
   "metadata": {},
   "outputs": [
    {
     "name": "stdout",
     "output_type": "stream",
     "text": [
      "next click time by(device,channel)...\n",
      "shift 1...\n",
      "next_click_dt_dc added\n",
      "gc...\n",
      "complete\n"
     ]
    }
   ],
   "source": [
    "# print('next click time by(device,channel)...')\n",
    "# gp = trn_df.groupby(['device','channel'])\n",
    "# print('shift 1...')\n",
    "\n",
    "# trn_df['shift_1'] = gp.click_time.shift(-1)\n",
    "# cst = pytz.timezone('Asia/Shanghai')\n",
    "# trn_df['shift_1'] = pd.to_datetime(trn_df['shift_1']).dt.tz_localize(pytz.utc).dt.tz_convert(cst) \n",
    "# trn_df['next_click_dt_dc'] = ((trn_df.shift_1 - trn_df.click_time) / np.timedelta64(1,'s')).fillna(50000).astype('uint16')\n",
    "# print('next_click_dt_dc added')\n",
    "\n",
    "# print('gc...')\n",
    "# trn_df.drop(['shift_1'],axis=1,inplace=True)\n",
    "# gc.collect()\n",
    "# print('complete')"
   ]
  },
  {
   "cell_type": "code",
   "execution_count": 9,
   "metadata": {},
   "outputs": [
    {
     "name": "stdout",
     "output_type": "stream",
     "text": [
      "next click time by (ip,app)...\n",
      "shift 1...\n",
      "next_click_dt_ia added\n",
      "gc...\n",
      "complete\n"
     ]
    }
   ],
   "source": [
    "# print('next click time by (ip,app)...')\n",
    "# gp = trn_df.groupby(['ip','app'])\n",
    "# print('shift 1...')\n",
    "\n",
    "# trn_df['shift_1'] = gp.click_time.shift(-1)\n",
    "# cst = pytz.timezone('Asia/Shanghai')\n",
    "# trn_df['shift_1'] = pd.to_datetime(trn_df['shift_1']).dt.tz_localize(pytz.utc).dt.tz_convert(cst) \n",
    "# trn_df['next_click_dt_ia'] = ((trn_df.shift_1 - trn_df.click_time) / np.timedelta64(1,'s')).fillna(50000).astype('uint16')\n",
    "# print('next_click_dt_ia added')\n",
    "\n",
    "# print('gc...')\n",
    "# trn_df.drop(['shift_1'],axis=1,inplace=True)\n",
    "# gc.collect()\n",
    "# print('complete')"
   ]
  },
  {
   "cell_type": "markdown",
   "metadata": {},
   "source": [
    "# helper func"
   ]
  },
  {
   "cell_type": "code",
   "execution_count": 4,
   "metadata": {},
   "outputs": [],
   "source": [
    "def encode_agg_feature(train_df, selcols, groupby, aggregator = 'nunique'):\n",
    "    usecols = [e for e in selcols if e not in  groupby]    \n",
    "    \n",
    "    if aggregator == 'nunique':  \n",
    "        colname= usecols[-1] + '_nunique_' + '_'.join(groupby)\n",
    "        if colname in train_df.columns:\n",
    "            train_df.drop(colname,axis=1,inplace=True)\n",
    "            \n",
    "        gp = train_df[selcols].groupby(groupby)[usecols].nunique().reset_index().\\\n",
    "            rename(columns = {\n",
    "                usecols[-1] : usecols[-1] + '_nunique_' + '_'.join(groupby)\n",
    "            })\n",
    "        train_df = train_df.merge(gp, how='left', on=groupby)\n",
    "\n",
    "    elif aggregator == 'cumcount':\n",
    "        colname = usecols[-1] + '_cumcnt_' + '_'.join(groupby)\n",
    "        if colname in train_df.columns:\n",
    "            train_df.drop(colname,axis=1,inplace=True)\n",
    "            \n",
    "        gp = train_df[selcols].groupby(groupby)[usecols].cumcount()        \n",
    "        train_df[colname] = gp.values\n",
    "    \n",
    "    elif aggregator == 'count':\n",
    "        colname = usecols[-1] + '_cnt_' + '_'.join(groupby)\n",
    "        if colname in train_df.columns:\n",
    "            train_df.drop(colname,axis=1,inplace=True)\n",
    "        gp = train_df[selcols].groupby(groupby)[usecols].count().reset_index().\\\n",
    "            rename(columns = {\n",
    "                usecols[-1] : colname\n",
    "            })\n",
    "        train_df = train_df.merge(gp, how='left', on=groupby)\n",
    "        \n",
    "    elif aggregator in ['var','mean']:\n",
    "        agg=np.var if aggregator == 'var' else np.mean\n",
    "        \n",
    "        colname = usecols[-1] + '_'+ str(aggregator) +'_' + '_'.join(groupby)\n",
    "        \n",
    "        if colname in train_df.columns:\n",
    "            train_df.drop(colname,axis=1, inplace=True)\n",
    "            \n",
    "        gp = train_df[selcols].groupby(groupby).agg(agg).reset_index().\\\n",
    "            rename(columns = {\n",
    "                usecols[-1] : colname\n",
    "            })\n",
    "        train_df = train_df.merge(gp, how='left', on=groupby)\n",
    "    \n",
    "    return train_df.iloc[:,-1]"
   ]
  },
  {
   "cell_type": "markdown",
   "metadata": {},
   "source": [
    "#### feat_base                     \n",
    "add\n",
    "   - cnt\n",
    "       - count by (ip,app,os,channel,day,hour) : device_cnt_ip_app_os_channel_day_hour\n",
    "       - cnt by (ip,app,os) : channel_cnt_ip_app_os\n",
    "       - **cnt by (ip,device) : channel_cnt_ip_device **\n",
    "       - **cnt by (app,channel) : device_cnt_app_channel **\n",
    "       - **cnt by (ip) : channel_cnt_ip **\n",
    "   - cumcnt\n",
    "       - ~~cumcnt os by (ip) : os_cumcnt_ip~~\n",
    "   - unique\n",
    "       - hour by (ip,day) : hour_nunique_ip_day\n",
    "       - os by (ip,app) : os_nunique_ip_app\n",
    "       - device by (ip) : device_nunique_ip"
   ]
  },
  {
   "cell_type": "code",
   "execution_count": 7,
   "metadata": {},
   "outputs": [
    {
     "name": "stdout",
     "output_type": "stream",
     "text": [
      "cnt by (ip,device)\n",
      "\tmax 878505\n",
      "cnt by (app,channel)\n",
      "\tmax 10621337\n",
      "cnt by (ip)\n",
      "\tmax 1021261\n"
     ]
    }
   ],
   "source": [
    "print('cnt by (ip,device)')\n",
    "ip_device_cnt_df = encode_agg_feature(trn_df, groupby= ['ip','device'],\n",
    "                                     selcols = ['ip','device','channel'],aggregator='count')\n",
    "print('\\tmax',ip_device_cnt_df.values.max())\n",
    "trn_df[ip_device_cnt_df.name] = ip_device_cnt_df.values.astype('uint16'); del ip_device_cnt_df;gc.collect()\n",
    "\n",
    "print('cnt by (app,channel)')\n",
    "app_channel_cnt_df = encode_agg_feature(trn_df, groupby=['app','channel'],\n",
    "                                       selcols=['app','channel','device'],aggregator='count')\n",
    "print('\\tmax',app_channel_cnt_df.values.max())\n",
    "trn_df[app_channel_cnt_df.name] = app_channel_cnt_df.values.astype('uint16'); del app_channel_cnt_df;gc.collect()\n",
    "\n",
    "print('cnt by (ip)')\n",
    "ip_cnt_df = encode_agg_feature(trn_df, groupby=['ip'], selcols=['channel','ip'],aggregator='count')\n",
    "print('\\tmax',ip_cnt_df.values.max())"
   ]
  },
  {
   "cell_type": "code",
   "execution_count": 17,
   "metadata": {},
   "outputs": [
    {
     "name": "stdout",
     "output_type": "stream",
     "text": [
      "cnt...by(ip,app,os)\tchannel_cnt_ip_app_os\n",
      "\tmax: 38622\n",
      "cumcnt os... by (ip)\n",
      "os_cumcnt_ip\n",
      "\tmax: 1021260\n",
      "# of unique hour by(ip,day)\n",
      "hour_nunique_ip_day\n",
      "\tmax: 24\n",
      "# of unique os by (ip,app)\n",
      "os_nunique_ip_app\n",
      "\tmax: 142\n",
      "# of unique device by (ip)\n",
      "device_nunique_ip\n",
      "\tmax: 472\n",
      "complete\n"
     ]
    }
   ],
   "source": [
    "# # print('count by \"ip_app_os_channel_day_hour\"...',end='\\t')\n",
    "\n",
    "# # ip_app_os_channel_day_hour_df = encode_agg_feature(trn_df, groupby=['ip','app','os','channel','day','hour'],\n",
    "# #                                                    selcols=['device','ip','app','os','channel','day','hour'],aggregator='count')\n",
    "# # print(ip_app_os_channel_day_hour_df.name)\n",
    "# # print('max:',ip_app_os_channel_day_hour_df.values.max())\n",
    "# # trn_df[ip_app_os_channel_day_hour_df.name] = ip_app_os_channel_day_hour_df.values.astype('uint16'); del ip_app_os_channel_day_hour_df;gc.collect()\n",
    "\n",
    "# print('cnt...by(ip,app,os)', end='\\t')\n",
    "# ip_app_os_cnt_df = encode_agg_feature(trn_df,groupby=['ip','app','os'],selcols=['ip','app','os','channel'],aggregator='count')\n",
    "# print(ip_app_os_cnt_df.name)\n",
    "# print('\\tmax:',ip_app_os_cnt_df.values.max())\n",
    "# trn_df[ip_app_os_cnt_df.name] = ip_app_os_cnt_df.values.astype('uint16'); del ip_app_os_cnt_df;gc.collect()\n",
    "\n",
    "\n",
    "# print('cumcnt os... by (ip)')\n",
    "# os_cumcnt_ip_df = encode_agg_feature(trn_df,groupby=['ip'],selcols=['ip','os'],aggregator='cumcount')\n",
    "# print(os_cumcnt_ip_df.name)\n",
    "# print('\\tmax:',os_cumcnt_ip_df.values.max())\n",
    "# trn_df[os_cumcnt_ip_df.name] = os_cumcnt_ip_df.values.astype('uint16'); del os_cumcnt_ip_df;gc.collect()\n",
    "\n",
    "# print('# of unique hour by(ip,day)')\n",
    "# hour_nunique_ip_day_df = encode_agg_feature(trn_df,groupby=['ip','day'],selcols=['ip','day','hour'], aggregator='nunique')\n",
    "# print(hour_nunique_ip_day_df.name)\n",
    "# print('\\tmax:',hour_nunique_ip_day_df.values.max())\n",
    "# trn_df[hour_nunique_ip_day_df.name] = hour_nunique_ip_day_df.values.astype('uint16'); del hour_nunique_ip_day_df; gc.collect()\n",
    "\n",
    "# print('# of unique os by (ip,app)')\n",
    "# os_nunique_ip_app_df = encode_agg_feature(trn_df, groupby=['ip','app'],selcols=['ip','app','os'], aggregator='nunique')\n",
    "# print(os_nunique_ip_app_df.name)\n",
    "# print('\\tmax:',os_nunique_ip_app_df.values.max())\n",
    "# trn_df[os_nunique_ip_app_df.name] = os_nunique_ip_app_df.values.astype('uint16'); del os_nunique_ip_app_df;gc.collect()\n",
    "\n",
    "# print('# of unique device by (ip)')\n",
    "# device_nunique_ip_df = encode_agg_feature(trn_df, groupby=['ip'], selcols=['ip','device'], aggregator='nunique')\n",
    "# print(device_nunique_ip_df.name)\n",
    "# print('\\tmax:',device_nunique_ip_df.values.max())\n",
    "# trn_df[device_nunique_ip_df.name] = device_nunique_ip_df.values.astype('uint16'); del device_nunique_ip_df;gc.collect()\n",
    "\n",
    "# print('complete')\n"
   ]
  },
  {
   "cell_type": "code",
   "execution_count": 8,
   "metadata": {},
   "outputs": [
    {
     "data": {
      "text/plain": [
       "Index(['app', 'app_cumcnt_ip_device_os', 'app_mean_target', 'app_nunique_ip',\n",
       "       'app_nunique_ip_device_os', 'channel', 'channel_cnt_ip_app',\n",
       "       'channel_cnt_ip_day_hour', 'channel_mean_target', 'channel_nunique_ip',\n",
       "       'click_id', 'click_time', 'day', 'device', 'hour', 'hour_mean_target',\n",
       "       'ip', 'ip_mean_target', 'is_attributed', 'next_click_dt', 'os',\n",
       "       'device_cnt_ip_app_os_channel_day_hour', 'channel_cnt_ip_app_os',\n",
       "       'hour_nunique_ip_day', 'os_nunique_ip_app', 'device_nunique_ip',\n",
       "       'shift_iptcnt', 'next_click_dt_ia', 'next_click_iodac',\n",
       "       'channel_cnt_ip_device', 'device_cnt_app_channel'],\n",
       "      dtype='object')"
      ]
     },
     "execution_count": 8,
     "metadata": {},
     "output_type": "execute_result"
    }
   ],
   "source": [
    "trn_df.columns"
   ]
  },
  {
   "cell_type": "code",
   "execution_count": 9,
   "metadata": {},
   "outputs": [],
   "source": [
    "len_tst = 18790469\n",
    "len_trn = 143984060 - 18790469"
   ]
  },
  {
   "cell_type": "code",
   "execution_count": 10,
   "metadata": {},
   "outputs": [],
   "source": [
    "debug = 0\n",
    "if debug:\n",
    "    len_tst = 10000\n",
    "    len_trn = 10000\n",
    "else:\n",
    "    len_tst = 18790469\n",
    "    len_trn = 143984060 - 18790469\n",
    "test_df = trn_df.iloc[len_trn:,]\n",
    "trn_df = trn_df.iloc[:len_trn,]"
   ]
  },
  {
   "cell_type": "code",
   "execution_count": 11,
   "metadata": {},
   "outputs": [
    {
     "name": "stdout",
     "output_type": "stream",
     "text": [
      "trn_df shape : (125193591, 31)\n",
      "test_df shape: (18790469, 31)\n"
     ]
    }
   ],
   "source": [
    "print('trn_df shape :',trn_df.shape)\n",
    "print('test_df shape:',test_df.shape)"
   ]
  },
  {
   "cell_type": "code",
   "execution_count": 11,
   "metadata": {},
   "outputs": [
    {
     "data": {
      "text/plain": [
       "Index(['app', 'app_cumcnt_ip_device_os', 'app_mean_target', 'app_nunique_ip',\n",
       "       'app_nunique_ip_device_os', 'channel', 'channel_cnt_ip_app',\n",
       "       'channel_cnt_ip_day_hour', 'channel_mean_target', 'channel_nunique_ip',\n",
       "       'click_id', 'click_time', 'day', 'device', 'hour', 'hour_mean_target',\n",
       "       'ip', 'ip_mean_target', 'is_attributed', 'next_click_dt', 'os',\n",
       "       'device_cnt_ip_app_os_channel_day_hour', 'channel_cnt_ip_app_os',\n",
       "       'hour_nunique_ip_day', 'os_nunique_ip_app', 'device_nunique_ip',\n",
       "       'shift_iptcnt', 'next_click_dt_ia', 'next_click_iodac'],\n",
       "      dtype='object')"
      ]
     },
     "execution_count": 11,
     "metadata": {},
     "output_type": "execute_result"
    }
   ],
   "source": [
    "trn_df.columns"
   ]
  },
  {
   "cell_type": "code",
   "execution_count": 12,
   "metadata": {},
   "outputs": [
    {
     "name": "stdout",
     "output_type": "stream",
     "text": [
      "<class 'pandas.core.frame.DataFrame'>\n",
      "Int64Index: 125193591 entries, 0 to 125193590\n",
      "Data columns (total 31 columns):\n",
      "app                                      uint16\n",
      "app_cumcnt_ip_device_os                  uint16\n",
      "app_mean_target                          float16\n",
      "app_nunique_ip                           uint8\n",
      "app_nunique_ip_device_os                 uint8\n",
      "channel                                  uint16\n",
      "channel_cnt_ip_app                       uint16\n",
      "channel_cnt_ip_day_hour                  uint16\n",
      "channel_mean_target                      float16\n",
      "channel_nunique_ip                       uint8\n",
      "click_id                                 float64\n",
      "click_time                               datetime64[ns, Asia/Shanghai]\n",
      "day                                      uint8\n",
      "device                                   uint16\n",
      "hour                                     uint8\n",
      "hour_mean_target                         float16\n",
      "ip                                       uint32\n",
      "ip_mean_target                           float16\n",
      "is_attributed                            float64\n",
      "next_click_dt                            uint16\n",
      "os                                       uint16\n",
      "device_cnt_ip_app_os_channel_day_hour    uint16\n",
      "channel_cnt_ip_app_os                    uint16\n",
      "hour_nunique_ip_day                      uint16\n",
      "os_nunique_ip_app                        uint16\n",
      "device_nunique_ip                        uint16\n",
      "shift_iptcnt                             uint16\n",
      "next_click_dt_ia                         uint16\n",
      "next_click_iodac                         uint16\n",
      "channel_cnt_ip_device                    uint16\n",
      "device_cnt_app_channel                   uint16\n",
      "dtypes: datetime64[ns, Asia/Shanghai](1), float16(4), float64(2), uint16(18), uint32(1), uint8(5)\n",
      "memory usage: 9.9 GB\n"
     ]
    }
   ],
   "source": [
    "trn_df.info()"
   ]
  },
  {
   "cell_type": "markdown",
   "metadata": {},
   "source": [
    "___ "
   ]
  },
  {
   "cell_type": "markdown",
   "metadata": {},
   "source": [
    "___"
   ]
  },
  {
   "cell_type": "markdown",
   "metadata": {},
   "source": [
    "# Save \n",
    "\n"
   ]
  },
  {
   "cell_type": "code",
   "execution_count": 13,
   "metadata": {},
   "outputs": [],
   "source": [
    "## day8 train_sets\n",
    "train_df = trn_df[trn_df.day==8]\n",
    "## day9 valid sets \n",
    "val_df = trn_df[trn_df.day==9]\n"
   ]
  },
  {
   "cell_type": "code",
   "execution_count": 14,
   "metadata": {},
   "outputs": [
    {
     "name": "stdout",
     "output_type": "stream",
     "text": [
      "train shape:  (62360949, 31)\n",
      "valid shape:  (62832642, 31)\n",
      "test shape :  (18790469, 31)\n"
     ]
    }
   ],
   "source": [
    "print(\"train shape: \", train_df.shape)\n",
    "print(\"valid shape: \", val_df.shape)\n",
    "print(\"test shape : \", test_df.shape)\n"
   ]
  },
  {
   "cell_type": "code",
   "execution_count": 15,
   "metadata": {},
   "outputs": [
    {
     "data": {
      "text/plain": [
       "45"
      ]
     },
     "execution_count": 15,
     "metadata": {},
     "output_type": "execute_result"
    }
   ],
   "source": [
    "gc.collect()"
   ]
  },
  {
   "cell_type": "code",
   "execution_count": 16,
   "metadata": {},
   "outputs": [
    {
     "name": "stdout",
     "output_type": "stream",
     "text": [
      "../../feat66_trn_day8_val_day9\n",
      "complete\n"
     ]
    }
   ],
   "source": [
    "fileno = 66\n",
    "trn_day = 'day8'\n",
    "val_day = 'day9'\n",
    "print('../../feat{}_trn_{}_val_{}'.format(fileno,trn_day,val_day))\n",
    "store = pd.HDFStore('../input/feat/feat{}_trn_{}_val_{}.h5'.format(fileno,trn_day,val_day))\n",
    "store['train_df'] = train_df\n",
    "store['valid_df'] = val_df\n",
    "store['test_df'] = test_df\n",
    "store.close()\n",
    "print('complete')"
   ]
  },
  {
   "cell_type": "markdown",
   "metadata": {},
   "source": [
    "load"
   ]
  },
  {
   "cell_type": "code",
   "execution_count": 1,
   "metadata": {},
   "outputs": [],
   "source": [
    "import pandas as pd"
   ]
  },
  {
   "cell_type": "code",
   "execution_count": 3,
   "metadata": {},
   "outputs": [],
   "source": [
    "with pd.HDFStore('../input/feat/feat64_trn_day8_val_day9.h5') as store:\n",
    "    \n",
    "    train_df = store['train_df']\n",
    "    val_df   = store['valid_df']\n",
    "    test_df  = store['test_df']"
   ]
  },
  {
   "cell_type": "markdown",
   "metadata": {},
   "source": [
    "______"
   ]
  },
  {
   "cell_type": "markdown",
   "metadata": {},
   "source": [
    "# eda"
   ]
  },
  {
   "cell_type": "markdown",
   "metadata": {},
   "source": [
    "number of next_click_dt (timedelta)  "
   ]
  },
  {
   "cell_type": "code",
   "execution_count": 9,
   "metadata": {},
   "outputs": [],
   "source": [
    "ctd = trn_df[['next_click_dt','is_attributed']] ## next time click dt to download"
   ]
  },
  {
   "cell_type": "code",
   "execution_count": 31,
   "metadata": {},
   "outputs": [],
   "source": [
    "ctd_part = ctd.head(10000000)"
   ]
  },
  {
   "cell_type": "code",
   "execution_count": 32,
   "metadata": {},
   "outputs": [
    {
     "data": {
      "text/plain": [
       "0.0    9981133\n",
       "1.0      18867\n",
       "Name: is_attributed, dtype: int64"
      ]
     },
     "execution_count": 32,
     "metadata": {},
     "output_type": "execute_result"
    }
   ],
   "source": [
    "ctd_part.is_attributed.value_counts()"
   ]
  },
  {
   "cell_type": "code",
   "execution_count": 82,
   "metadata": {},
   "outputs": [
    {
     "data": {
      "text/plain": [
       "(-0.001, 27.0]        2023119\n",
       "(19968.0, 65535.0]    1999974\n",
       "(1950.0, 19968.0]     1999859\n",
       "(216.0, 1950.0]       1999492\n",
       "(27.0, 216.0]         1977556\n",
       "Name: next_click_dt, dtype: int64"
      ]
     },
     "execution_count": 82,
     "metadata": {},
     "output_type": "execute_result"
    }
   ],
   "source": [
    "pd.qcut(ctd_part.next_click_dt,5).value_counts()"
   ]
  },
  {
   "cell_type": "code",
   "execution_count": 104,
   "metadata": {},
   "outputs": [
    {
     "name": "stderr",
     "output_type": "stream",
     "text": [
      "C:\\Program Files\\Anaconda3\\envs\\py36\\lib\\site-packages\\ipykernel\\__main__.py:1: SettingWithCopyWarning: \n",
      "A value is trying to be set on a copy of a slice from a DataFrame.\n",
      "Try using .loc[row_indexer,col_indexer] = value instead\n",
      "\n",
      "See the caveats in the documentation: http://pandas.pydata.org/pandas-docs/stable/indexing.html#indexing-view-versus-copy\n",
      "  if __name__ == '__main__':\n"
     ]
    },
    {
     "data": {
      "text/html": [
       "<div>\n",
       "<style>\n",
       "    .dataframe thead tr:only-child th {\n",
       "        text-align: right;\n",
       "    }\n",
       "\n",
       "    .dataframe thead th {\n",
       "        text-align: left;\n",
       "    }\n",
       "\n",
       "    .dataframe tbody tr th {\n",
       "        vertical-align: top;\n",
       "    }\n",
       "</style>\n",
       "<table border=\"1\" class=\"dataframe\">\n",
       "  <thead>\n",
       "    <tr style=\"text-align: right;\">\n",
       "      <th></th>\n",
       "      <th>next_click_dt</th>\n",
       "      <th>is_attributed</th>\n",
       "      <th>dt_qcut</th>\n",
       "    </tr>\n",
       "  </thead>\n",
       "  <tbody>\n",
       "    <tr>\n",
       "      <th>59709852</th>\n",
       "      <td>0</td>\n",
       "      <td>0.0</td>\n",
       "      <td>(-0.001, 27.0]</td>\n",
       "    </tr>\n",
       "    <tr>\n",
       "      <th>59709853</th>\n",
       "      <td>1</td>\n",
       "      <td>0.0</td>\n",
       "      <td>(-0.001, 27.0]</td>\n",
       "    </tr>\n",
       "    <tr>\n",
       "      <th>59709854</th>\n",
       "      <td>25041</td>\n",
       "      <td>0.0</td>\n",
       "      <td>(19968.0, 65535.0]</td>\n",
       "    </tr>\n",
       "    <tr>\n",
       "      <th>59709855</th>\n",
       "      <td>46</td>\n",
       "      <td>0.0</td>\n",
       "      <td>(27.0, 216.0]</td>\n",
       "    </tr>\n",
       "    <tr>\n",
       "      <th>59709856</th>\n",
       "      <td>0</td>\n",
       "      <td>0.0</td>\n",
       "      <td>(-0.001, 27.0]</td>\n",
       "    </tr>\n",
       "  </tbody>\n",
       "</table>\n",
       "</div>"
      ],
      "text/plain": [
       "          next_click_dt  is_attributed             dt_qcut\n",
       "59709852              0            0.0      (-0.001, 27.0]\n",
       "59709853              1            0.0      (-0.001, 27.0]\n",
       "59709854          25041            0.0  (19968.0, 65535.0]\n",
       "59709855             46            0.0       (27.0, 216.0]\n",
       "59709856              0            0.0      (-0.001, 27.0]"
      ]
     },
     "execution_count": 104,
     "metadata": {},
     "output_type": "execute_result"
    }
   ],
   "source": [
    "ctd_part['dt_qcut'] = pd.qcut(ctd_part.next_click_dt,5)\n",
    "ctd_part.head()"
   ]
  },
  {
   "cell_type": "code",
   "execution_count": 107,
   "metadata": {},
   "outputs": [
    {
     "data": {
      "text/html": [
       "<div>\n",
       "<style>\n",
       "    .dataframe thead tr:only-child th {\n",
       "        text-align: right;\n",
       "    }\n",
       "\n",
       "    .dataframe thead th {\n",
       "        text-align: left;\n",
       "    }\n",
       "\n",
       "    .dataframe tbody tr th {\n",
       "        vertical-align: top;\n",
       "    }\n",
       "</style>\n",
       "<table border=\"1\" class=\"dataframe\">\n",
       "  <thead>\n",
       "    <tr style=\"text-align: right;\">\n",
       "      <th></th>\n",
       "      <th></th>\n",
       "      <th>next_click_dt</th>\n",
       "    </tr>\n",
       "    <tr>\n",
       "      <th>dt_qcut</th>\n",
       "      <th>is_attributed</th>\n",
       "      <th></th>\n",
       "    </tr>\n",
       "  </thead>\n",
       "  <tbody>\n",
       "    <tr>\n",
       "      <th rowspan=\"2\" valign=\"top\">(-0.001, 27.0]</th>\n",
       "      <th>0.0</th>\n",
       "      <td>8.781581</td>\n",
       "    </tr>\n",
       "    <tr>\n",
       "      <th>1.0</th>\n",
       "      <td>1.795122</td>\n",
       "    </tr>\n",
       "    <tr>\n",
       "      <th rowspan=\"2\" valign=\"top\">(27.0, 216.0]</th>\n",
       "      <th>0.0</th>\n",
       "      <td>88.509163</td>\n",
       "    </tr>\n",
       "    <tr>\n",
       "      <th>1.0</th>\n",
       "      <td>123.352941</td>\n",
       "    </tr>\n",
       "    <tr>\n",
       "      <th rowspan=\"2\" valign=\"top\">(216.0, 1950.0]</th>\n",
       "      <th>0.0</th>\n",
       "      <td>733.201508</td>\n",
       "    </tr>\n",
       "    <tr>\n",
       "      <th>1.0</th>\n",
       "      <td>776.557243</td>\n",
       "    </tr>\n",
       "    <tr>\n",
       "      <th rowspan=\"2\" valign=\"top\">(1950.0, 19968.0]</th>\n",
       "      <th>0.0</th>\n",
       "      <td>8217.348919</td>\n",
       "    </tr>\n",
       "    <tr>\n",
       "      <th>1.0</th>\n",
       "      <td>9923.429719</td>\n",
       "    </tr>\n",
       "    <tr>\n",
       "      <th rowspan=\"2\" valign=\"top\">(19968.0, 65535.0]</th>\n",
       "      <th>0.0</th>\n",
       "      <td>40631.258684</td>\n",
       "    </tr>\n",
       "    <tr>\n",
       "      <th>1.0</th>\n",
       "      <td>48012.283061</td>\n",
       "    </tr>\n",
       "  </tbody>\n",
       "</table>\n",
       "</div>"
      ],
      "text/plain": [
       "                                  next_click_dt\n",
       "dt_qcut            is_attributed               \n",
       "(-0.001, 27.0]     0.0                 8.781581\n",
       "                   1.0                 1.795122\n",
       "(27.0, 216.0]      0.0                88.509163\n",
       "                   1.0               123.352941\n",
       "(216.0, 1950.0]    0.0               733.201508\n",
       "                   1.0               776.557243\n",
       "(1950.0, 19968.0]  0.0              8217.348919\n",
       "                   1.0              9923.429719\n",
       "(19968.0, 65535.0] 0.0             40631.258684\n",
       "                   1.0             48012.283061"
      ]
     },
     "execution_count": 107,
     "metadata": {},
     "output_type": "execute_result"
    }
   ],
   "source": [
    "ctd_part.groupby(['dt_qcut','is_attributed']).mean()"
   ]
  },
  {
   "cell_type": "code",
   "execution_count": 108,
   "metadata": {},
   "outputs": [
    {
     "data": {
      "text/plain": [
       "dt_qcut\n",
       "(-0.001, 27.0]        0.000203\n",
       "(27.0, 216.0]         0.000215\n",
       "(216.0, 1950.0]       0.000428\n",
       "(1950.0, 19968.0]     0.000996\n",
       "(19968.0, 65535.0]    0.007592\n",
       "Name: is_attributed, dtype: float64"
      ]
     },
     "execution_count": 108,
     "metadata": {},
     "output_type": "execute_result"
    }
   ],
   "source": [
    "ctd_part.groupby('dt_qcut').is_attributed.mean()"
   ]
  },
  {
   "cell_type": "code",
   "execution_count": 50,
   "metadata": {},
   "outputs": [
    {
     "data": {
      "text/plain": [
       "[<matplotlib.lines.Line2D at 0xeb769e52b0>]"
      ]
     },
     "execution_count": 50,
     "metadata": {},
     "output_type": "execute_result"
    },
    {
     "data": {
      "image/png": "[encoded data removed]",
      "text/plain": [
       "<matplotlib.figure.Figure at 0xeb73ed82e8>"
      ]
     },
     "metadata": {},
     "output_type": "display_data"
    }
   ],
   "source": [
    "# ctd_part = ctd\n",
    "# plt.plot()\n",
    "plt.plot(ctd_part.groupby('next_click_dt').size().rolling(1000).mean())"
   ]
  },
  {
   "cell_type": "code",
   "execution_count": 111,
   "metadata": {},
   "outputs": [
    {
     "data": {
      "text/plain": [
       "555"
      ]
     },
     "execution_count": 111,
     "metadata": {},
     "output_type": "execute_result"
    }
   ],
   "source": [
    "del ctd;gc.collect()"
   ]
  },
  {
   "cell_type": "markdown",
   "metadata": {},
   "source": [
    "rolling on ip,app,os,channel,day,hour by hour"
   ]
  },
  {
   "cell_type": "code",
   "execution_count": 8,
   "metadata": {},
   "outputs": [],
   "source": [
    "trn_part = trn_df.head(10000)"
   ]
  },
  {
   "cell_type": "code",
   "execution_count": 12,
   "metadata": {},
   "outputs": [
    {
     "data": {
      "text/plain": [
       "Index(['app', 'app_cumcnt_ip_device_os', 'app_mean_target',\n",
       "       'app_nunique_channel', 'app_nunique_ip', 'app_nunique_ip_device_os',\n",
       "       'channel', 'channel_cnt_ip_app', 'channel_cnt_ip_day_hour',\n",
       "       'channel_mean_target', 'channel_nunique_ip', 'click_id', 'click_time',\n",
       "       'day', 'device', 'device_mean_target', 'hour', 'hour_mean_target',\n",
       "       'hour_nunique_ip_day', 'ip', 'ip_mean_target', 'ip_nunique_channel',\n",
       "       'is_attributed', 'next_click_dt', 'os', 'os_mean_target'],\n",
       "      dtype='object')"
      ]
     },
     "execution_count": 12,
     "metadata": {},
     "output_type": "execute_result"
    }
   ],
   "source": [
    "trn_part.columns"
   ]
  },
  {
   "cell_type": "code",
   "execution_count": 11,
   "metadata": {},
   "outputs": [
    {
     "data": {
      "text/plain": [
       "59719842    0\n",
       "59719843    0\n",
       "59719844    0\n",
       "59719845    0\n",
       "59719846    0\n",
       "59719847    0\n",
       "59719848    0\n",
       "59719849    0\n",
       "59719850    0\n",
       "59719851    0\n",
       "Name: hour, dtype: uint8"
      ]
     },
     "execution_count": 11,
     "metadata": {},
     "output_type": "execute_result"
    }
   ],
   "source": [
    "gp = trn_part.groupby(['hour'])\n",
    "trn_part['rolling_mean'] = gp."
   ]
  },
  {
   "cell_type": "markdown",
   "metadata": {},
   "source": [
    "- count shift by hour with (ip,day,hour)"
   ]
  },
  {
   "cell_type": "code",
   "execution_count": 11,
   "metadata": {},
   "outputs": [
    {
     "data": {
      "text/html": [
       "<div>\n",
       "<style>\n",
       "    .dataframe thead tr:only-child th {\n",
       "        text-align: right;\n",
       "    }\n",
       "\n",
       "    .dataframe thead th {\n",
       "        text-align: left;\n",
       "    }\n",
       "\n",
       "    .dataframe tbody tr th {\n",
       "        vertical-align: top;\n",
       "    }\n",
       "</style>\n",
       "<table border=\"1\" class=\"dataframe\">\n",
       "  <thead>\n",
       "    <tr style=\"text-align: right;\">\n",
       "      <th></th>\n",
       "      <th>app</th>\n",
       "      <th>app_cumcnt_ip_device_os</th>\n",
       "      <th>app_mean_target</th>\n",
       "      <th>app_nunique_ip</th>\n",
       "      <th>app_nunique_ip_device_os</th>\n",
       "      <th>channel</th>\n",
       "      <th>channel_cnt_ip_app</th>\n",
       "      <th>channel_cnt_ip_day_hour</th>\n",
       "      <th>channel_mean_target</th>\n",
       "      <th>channel_nunique_ip</th>\n",
       "      <th>...</th>\n",
       "      <th>ip_mean_target</th>\n",
       "      <th>is_attributed</th>\n",
       "      <th>next_click_dt</th>\n",
       "      <th>os</th>\n",
       "      <th>device_cnt_ip_app_os_channel_day_hour</th>\n",
       "      <th>channel_cnt_ip_app_os</th>\n",
       "      <th>os_cumcnt_ip</th>\n",
       "      <th>hour_nunique_ip_day</th>\n",
       "      <th>os_nunique_ip_app</th>\n",
       "      <th>device_nunique_ip</th>\n",
       "    </tr>\n",
       "  </thead>\n",
       "  <tbody>\n",
       "    <tr>\n",
       "      <th>93396503</th>\n",
       "      <td>8</td>\n",
       "      <td>169</td>\n",
       "      <td>0.001901</td>\n",
       "      <td>46</td>\n",
       "      <td>11</td>\n",
       "      <td>145</td>\n",
       "      <td>155</td>\n",
       "      <td>266</td>\n",
       "      <td>0.001675</td>\n",
       "      <td>104</td>\n",
       "      <td>...</td>\n",
       "      <td>0.001652</td>\n",
       "      <td>0.0</td>\n",
       "      <td>1</td>\n",
       "      <td>28</td>\n",
       "      <td>88</td>\n",
       "      <td>88</td>\n",
       "      <td>813</td>\n",
       "      <td>24</td>\n",
       "      <td>13</td>\n",
       "      <td>10</td>\n",
       "    </tr>\n",
       "    <tr>\n",
       "      <th>147235110</th>\n",
       "      <td>2</td>\n",
       "      <td>415</td>\n",
       "      <td>0.000241</td>\n",
       "      <td>52</td>\n",
       "      <td>30</td>\n",
       "      <td>236</td>\n",
       "      <td>184</td>\n",
       "      <td>36</td>\n",
       "      <td>0.000278</td>\n",
       "      <td>104</td>\n",
       "      <td>...</td>\n",
       "      <td>0.000689</td>\n",
       "      <td>0.0</td>\n",
       "      <td>2110</td>\n",
       "      <td>13</td>\n",
       "      <td>2</td>\n",
       "      <td>44</td>\n",
       "      <td>1342</td>\n",
       "      <td>22</td>\n",
       "      <td>20</td>\n",
       "      <td>11</td>\n",
       "    </tr>\n",
       "    <tr>\n",
       "      <th>128465989</th>\n",
       "      <td>64</td>\n",
       "      <td>28</td>\n",
       "      <td>0.000259</td>\n",
       "      <td>43</td>\n",
       "      <td>22</td>\n",
       "      <td>459</td>\n",
       "      <td>37</td>\n",
       "      <td>72</td>\n",
       "      <td>0.000197</td>\n",
       "      <td>112</td>\n",
       "      <td>...</td>\n",
       "      <td>0.000732</td>\n",
       "      <td>0.0</td>\n",
       "      <td>108</td>\n",
       "      <td>17</td>\n",
       "      <td>11</td>\n",
       "      <td>11</td>\n",
       "      <td>1960</td>\n",
       "      <td>23</td>\n",
       "      <td>10</td>\n",
       "      <td>5</td>\n",
       "    </tr>\n",
       "    <tr>\n",
       "      <th>6099772</th>\n",
       "      <td>3</td>\n",
       "      <td>807</td>\n",
       "      <td>0.000286</td>\n",
       "      <td>44</td>\n",
       "      <td>28</td>\n",
       "      <td>442</td>\n",
       "      <td>627</td>\n",
       "      <td>156</td>\n",
       "      <td>0.000336</td>\n",
       "      <td>99</td>\n",
       "      <td>...</td>\n",
       "      <td>0.001680</td>\n",
       "      <td>NaN</td>\n",
       "      <td>17912</td>\n",
       "      <td>13</td>\n",
       "      <td>1</td>\n",
       "      <td>206</td>\n",
       "      <td>2655</td>\n",
       "      <td>6</td>\n",
       "      <td>35</td>\n",
       "      <td>7</td>\n",
       "    </tr>\n",
       "    <tr>\n",
       "      <th>119820875</th>\n",
       "      <td>25</td>\n",
       "      <td>211</td>\n",
       "      <td>0.000065</td>\n",
       "      <td>46</td>\n",
       "      <td>27</td>\n",
       "      <td>259</td>\n",
       "      <td>34</td>\n",
       "      <td>90</td>\n",
       "      <td>0.000436</td>\n",
       "      <td>108</td>\n",
       "      <td>...</td>\n",
       "      <td>0.001461</td>\n",
       "      <td>0.0</td>\n",
       "      <td>0</td>\n",
       "      <td>13</td>\n",
       "      <td>6</td>\n",
       "      <td>24</td>\n",
       "      <td>1369</td>\n",
       "      <td>22</td>\n",
       "      <td>4</td>\n",
       "      <td>7</td>\n",
       "    </tr>\n",
       "  </tbody>\n",
       "</table>\n",
       "<p>5 rows × 27 columns</p>\n",
       "</div>"
      ],
      "text/plain": [
       "           app  app_cumcnt_ip_device_os  app_mean_target  app_nunique_ip  \\\n",
       "93396503     8                      169         0.001901              46   \n",
       "147235110    2                      415         0.000241              52   \n",
       "128465989   64                       28         0.000259              43   \n",
       "6099772      3                      807         0.000286              44   \n",
       "119820875   25                      211         0.000065              46   \n",
       "\n",
       "           app_nunique_ip_device_os  channel  channel_cnt_ip_app  \\\n",
       "93396503                         11      145                 155   \n",
       "147235110                        30      236                 184   \n",
       "128465989                        22      459                  37   \n",
       "6099772                          28      442                 627   \n",
       "119820875                        27      259                  34   \n",
       "\n",
       "           channel_cnt_ip_day_hour  channel_mean_target  channel_nunique_ip  \\\n",
       "93396503                       266             0.001675                 104   \n",
       "147235110                       36             0.000278                 104   \n",
       "128465989                       72             0.000197                 112   \n",
       "6099772                        156             0.000336                  99   \n",
       "119820875                       90             0.000436                 108   \n",
       "\n",
       "                 ...          ip_mean_target is_attributed  next_click_dt  os  \\\n",
       "93396503         ...                0.001652           0.0              1  28   \n",
       "147235110        ...                0.000689           0.0           2110  13   \n",
       "128465989        ...                0.000732           0.0            108  17   \n",
       "6099772          ...                0.001680           NaN          17912  13   \n",
       "119820875        ...                0.001461           0.0              0  13   \n",
       "\n",
       "           device_cnt_ip_app_os_channel_day_hour  channel_cnt_ip_app_os  \\\n",
       "93396503                                      88                     88   \n",
       "147235110                                      2                     44   \n",
       "128465989                                     11                     11   \n",
       "6099772                                        1                    206   \n",
       "119820875                                      6                     24   \n",
       "\n",
       "           os_cumcnt_ip  hour_nunique_ip_day  os_nunique_ip_app  \\\n",
       "93396503            813                   24                 13   \n",
       "147235110          1342                   22                 20   \n",
       "128465989          1960                   23                 10   \n",
       "6099772            2655                    6                 35   \n",
       "119820875          1369                   22                  4   \n",
       "\n",
       "           device_nunique_ip  \n",
       "93396503                  10  \n",
       "147235110                 11  \n",
       "128465989                  5  \n",
       "6099772                    7  \n",
       "119820875                  7  \n",
       "\n",
       "[5 rows x 27 columns]"
      ]
     },
     "execution_count": 11,
     "metadata": {},
     "output_type": "execute_result"
    }
   ],
   "source": [
    "trn_part = trn_df.sample(1000000)\n",
    "trn_part.head()"
   ]
  },
  {
   "cell_type": "code",
   "execution_count": 18,
   "metadata": {},
   "outputs": [],
   "source": [
    "gp = trn_part.groupby(['ip','day','hour']).size().rename('ip_tcnt').reset_index()\n",
    "gp['shift']= gp.groupby(['ip','day']).shift(1).ip_tcnt"
   ]
  },
  {
   "cell_type": "code",
   "execution_count": 20,
   "metadata": {},
   "outputs": [
    {
     "data": {
      "text/html": [
       "<div>\n",
       "<style>\n",
       "    .dataframe thead tr:only-child th {\n",
       "        text-align: right;\n",
       "    }\n",
       "\n",
       "    .dataframe thead th {\n",
       "        text-align: left;\n",
       "    }\n",
       "\n",
       "    .dataframe tbody tr th {\n",
       "        vertical-align: top;\n",
       "    }\n",
       "</style>\n",
       "<table border=\"1\" class=\"dataframe\">\n",
       "  <thead>\n",
       "    <tr style=\"text-align: right;\">\n",
       "      <th></th>\n",
       "      <th>ip</th>\n",
       "      <th>day</th>\n",
       "      <th>hour</th>\n",
       "      <th>ip_tcnt</th>\n",
       "      <th>shift</th>\n",
       "    </tr>\n",
       "  </thead>\n",
       "  <tbody>\n",
       "    <tr>\n",
       "      <th>0</th>\n",
       "      <td>3</td>\n",
       "      <td>10</td>\n",
       "      <td>21</td>\n",
       "      <td>1</td>\n",
       "      <td>NaN</td>\n",
       "    </tr>\n",
       "    <tr>\n",
       "      <th>1</th>\n",
       "      <td>6</td>\n",
       "      <td>8</td>\n",
       "      <td>8</td>\n",
       "      <td>1</td>\n",
       "      <td>NaN</td>\n",
       "    </tr>\n",
       "    <tr>\n",
       "      <th>2</th>\n",
       "      <td>6</td>\n",
       "      <td>8</td>\n",
       "      <td>12</td>\n",
       "      <td>2</td>\n",
       "      <td>1.0</td>\n",
       "    </tr>\n",
       "    <tr>\n",
       "      <th>3</th>\n",
       "      <td>6</td>\n",
       "      <td>8</td>\n",
       "      <td>13</td>\n",
       "      <td>1</td>\n",
       "      <td>2.0</td>\n",
       "    </tr>\n",
       "    <tr>\n",
       "      <th>4</th>\n",
       "      <td>6</td>\n",
       "      <td>8</td>\n",
       "      <td>16</td>\n",
       "      <td>1</td>\n",
       "      <td>1.0</td>\n",
       "    </tr>\n",
       "  </tbody>\n",
       "</table>\n",
       "</div>"
      ],
      "text/plain": [
       "   ip  day  hour  ip_tcnt  shift\n",
       "0   3   10    21        1    NaN\n",
       "1   6    8     8        1    NaN\n",
       "2   6    8    12        2    1.0\n",
       "3   6    8    13        1    2.0\n",
       "4   6    8    16        1    1.0"
      ]
     },
     "execution_count": 20,
     "metadata": {},
     "output_type": "execute_result"
    }
   ],
   "source": [
    "gp.head()"
   ]
  }
 ],
 "metadata": {
  "anaconda-cloud": {},
  "kernelspec": {
   "display_name": "Python [conda env:py36]",
   "language": "python",
   "name": "conda-env-py36-py"
  },
  "language_info": {
   "codemirror_mode": {
    "name": "ipython",
    "version": 3
   },
   "file_extension": ".py",
   "mimetype": "text/x-python",
   "name": "python",
   "nbconvert_exporter": "python",
   "pygments_lexer": "ipython3",
   "version": "3.6.3"
  }
 },
 "nbformat": 4,
 "nbformat_minor": 1
}
