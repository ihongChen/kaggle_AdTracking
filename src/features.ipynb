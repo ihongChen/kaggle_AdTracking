{
 "cells": [
  {
   "cell_type": "code",
   "execution_count": 1,
   "metadata": {},
   "outputs": [],
   "source": [
    "import pandas as pd \n",
    "import numpy as np \n",
    "import matplotlib.pyplot as plt \n",
    "import seaborn as sns \n",
    "%matplotlib inline \n",
    "import gc \n",
    "from tqdm import tqdm_notebook,tqdm"
   ]
  },
  {
   "cell_type": "code",
   "execution_count": 2,
   "metadata": {},
   "outputs": [],
   "source": [
    "debug = 0\n",
    "if debug:\n",
    "    nrows = 100000\n",
    "    nchunk = 400000\n",
    "    val_size = 25000\n",
    "    frm = nrows - 75000\n",
    "    to = frm + nchunk\n",
    "else:\n",
    "    nrows=184903891-1\n",
    "    nchunk=40000000\n",
    "\n",
    "    val_size=2500000\n",
    "    frm=nrows-75000000\n",
    "    to = frm + nchunk"
   ]
  },
  {
   "cell_type": "code",
   "execution_count": 3,
   "metadata": {},
   "outputs": [
    {
     "name": "stdout",
     "output_type": "stream",
     "text": [
      "loading train data... 109903890 149903890\n",
      "loading test data...\n"
     ]
    }
   ],
   "source": [
    "dtypes = {\n",
    "        'ip'            : 'uint32',\n",
    "        'app'           : 'uint16',\n",
    "        'device'        : 'uint16',\n",
    "        'os'            : 'uint16',\n",
    "        'channel'       : 'uint16',\n",
    "        'is_attributed' : 'uint8',\n",
    "        'click_id'      : 'uint32',\n",
    "        }\n",
    "print('loading train data...',frm,to)\n",
    "train_df = pd.read_csv(\"../input/train.csv.zip\",\n",
    "                       parse_dates=['click_time'], \n",
    "                       skiprows=range(1,frm), \n",
    "                       nrows=to-frm, \n",
    "                       dtype=dtypes, \n",
    "                       usecols=['ip','app','device','os', 'channel', 'click_time', 'is_attributed'])\n",
    "print('loading test data...')\n",
    "test_df = pd.read_csv(\"../input/test.csv.zip\", \n",
    "#                       nrows=100000, \n",
    "                      parse_dates=['click_time'], \n",
    "                      dtype=dtypes, \n",
    "                      usecols=['ip','app','device','os', 'channel', 'click_time', 'click_id'])"
   ]
  },
  {
   "cell_type": "code",
   "execution_count": 4,
   "metadata": {},
   "outputs": [
    {
     "data": {
      "text/plain": [
       "14"
      ]
     },
     "execution_count": 4,
     "metadata": {},
     "output_type": "execute_result"
    }
   ],
   "source": [
    "len_train = len(train_df)\n",
    "train_df = train_df.append(test_df) ## append train, test df\n",
    "del test_df\n",
    "gc.collect()"
   ]
  },
  {
   "cell_type": "code",
   "execution_count": 5,
   "metadata": {},
   "outputs": [
    {
     "data": {
      "text/html": [
       "<div>\n",
       "<style>\n",
       "    .dataframe thead tr:only-child th {\n",
       "        text-align: right;\n",
       "    }\n",
       "\n",
       "    .dataframe thead th {\n",
       "        text-align: left;\n",
       "    }\n",
       "\n",
       "    .dataframe tbody tr th {\n",
       "        vertical-align: top;\n",
       "    }\n",
       "</style>\n",
       "<table border=\"1\" class=\"dataframe\">\n",
       "  <thead>\n",
       "    <tr style=\"text-align: right;\">\n",
       "      <th></th>\n",
       "      <th>app</th>\n",
       "      <th>channel</th>\n",
       "      <th>click_id</th>\n",
       "      <th>click_time</th>\n",
       "      <th>device</th>\n",
       "      <th>ip</th>\n",
       "      <th>is_attributed</th>\n",
       "      <th>os</th>\n",
       "    </tr>\n",
       "  </thead>\n",
       "  <tbody>\n",
       "    <tr>\n",
       "      <th>0</th>\n",
       "      <td>23</td>\n",
       "      <td>153</td>\n",
       "      <td>NaN</td>\n",
       "      <td>2017-11-08 12:33:34</td>\n",
       "      <td>1</td>\n",
       "      <td>103202</td>\n",
       "      <td>0.0</td>\n",
       "      <td>16</td>\n",
       "    </tr>\n",
       "    <tr>\n",
       "      <th>1</th>\n",
       "      <td>3</td>\n",
       "      <td>280</td>\n",
       "      <td>NaN</td>\n",
       "      <td>2017-11-08 12:33:34</td>\n",
       "      <td>1</td>\n",
       "      <td>143414</td>\n",
       "      <td>0.0</td>\n",
       "      <td>19</td>\n",
       "    </tr>\n",
       "    <tr>\n",
       "      <th>2</th>\n",
       "      <td>12</td>\n",
       "      <td>178</td>\n",
       "      <td>NaN</td>\n",
       "      <td>2017-11-08 12:33:34</td>\n",
       "      <td>1</td>\n",
       "      <td>173096</td>\n",
       "      <td>0.0</td>\n",
       "      <td>17</td>\n",
       "    </tr>\n",
       "    <tr>\n",
       "      <th>3</th>\n",
       "      <td>3</td>\n",
       "      <td>280</td>\n",
       "      <td>NaN</td>\n",
       "      <td>2017-11-08 12:33:34</td>\n",
       "      <td>1</td>\n",
       "      <td>8210</td>\n",
       "      <td>0.0</td>\n",
       "      <td>42</td>\n",
       "    </tr>\n",
       "    <tr>\n",
       "      <th>4</th>\n",
       "      <td>3</td>\n",
       "      <td>130</td>\n",
       "      <td>NaN</td>\n",
       "      <td>2017-11-08 12:33:34</td>\n",
       "      <td>1</td>\n",
       "      <td>5746</td>\n",
       "      <td>0.0</td>\n",
       "      <td>19</td>\n",
       "    </tr>\n",
       "  </tbody>\n",
       "</table>\n",
       "</div>"
      ],
      "text/plain": [
       "   app  channel  click_id          click_time  device      ip  is_attributed  \\\n",
       "0   23      153       NaN 2017-11-08 12:33:34       1  103202            0.0   \n",
       "1    3      280       NaN 2017-11-08 12:33:34       1  143414            0.0   \n",
       "2   12      178       NaN 2017-11-08 12:33:34       1  173096            0.0   \n",
       "3    3      280       NaN 2017-11-08 12:33:34       1    8210            0.0   \n",
       "4    3      130       NaN 2017-11-08 12:33:34       1    5746            0.0   \n",
       "\n",
       "   os  \n",
       "0  16  \n",
       "1  19  \n",
       "2  17  \n",
       "3  42  \n",
       "4  19  "
      ]
     },
     "execution_count": 5,
     "metadata": {},
     "output_type": "execute_result"
    }
   ],
   "source": [
    "train_df.head()"
   ]
  },
  {
   "cell_type": "code",
   "execution_count": 6,
   "metadata": {},
   "outputs": [],
   "source": [
    "train_df['day'] = train_df['click_time'].dt.day.astype(np.uint8)\n",
    "train_df['hour'] = train_df['click_time'].dt.hour.astype(np.uint8)"
   ]
  },
  {
   "cell_type": "markdown",
   "metadata": {},
   "source": [
    "# Features \n"
   ]
  },
  {
   "cell_type": "markdown",
   "metadata": {},
   "source": [
    "1. How many **unique** `channel` by `ip`\n",
    "2. How many **cumcount** `app` by `ip`,`device`,`os` (person)\n",
    "3. How many **unique** `hour` by `ip`,`day`\n",
    "4. How many **unique** `app` by `ip`\n",
    "5. How many **unique** `app` by `ip`,`os`\n",
    "6. How many **unique** `device` by `ip`\n",
    "7. How many **unique** `app` by `channel`\n",
    "8. How many **cumcount** `os` by `ip` --- why ???? WE NEED IT??\n",
    "9. How many **unique** `app` by `ip`,`device`,`os`"
   ]
  },
  {
   "cell_type": "code",
   "execution_count": 7,
   "metadata": {},
   "outputs": [],
   "source": [
    "def encode_agg_feature(selcols, groupby, aggregator = 'nunique'):\n",
    "    usecols = [e for e in selcols if e not in  groupby]\n",
    "    if aggregator == 'nunique':        \n",
    "        gp = train_df[selcols].groupby(groupby)[usecols].nunique().reset_index().\\\n",
    "            rename(columns = {\n",
    "                usecols[-1] : usecols[-1] + '_nunique_' + '_'.join(groupby)\n",
    "            })\n",
    "        df = train_df.merge(gp, how='left', on=groupby)\n",
    "\n",
    "    elif aggregator == 'cumcount':\n",
    "        gp = train_df[selcols].groupby(groupby)[usecols].cumcount()\n",
    "        df = train_df.copy()\n",
    "        df[usecols[-1] + '_cumcnt_' + '_'.join(groupby)] = gp.values\n",
    "    \n",
    "    elif aggregator == 'count':\n",
    "        gp = train_df[selcols].groupby(groupby)[usecols].count().reset_index().\\\n",
    "            rename(columns = {\n",
    "                usecols[-1] : usecols[-1] + '_cnt_' + '_'.join(groupby)\n",
    "            })\n",
    "        df = train_df.merge(gp, how='left', on=groupby)\n",
    "    elif aggregator in ['var','mean']:\n",
    "        agg=np.var if aggregator == 'var' else np.mean            \n",
    "        gp = train_df[selcols].groupby(groupby).agg(agg).reset_index().\\\n",
    "            rename(columns = {\n",
    "                usecols[-1] : usecols[-1] + '_'+ str(aggregator) +'_' + '_'.join(groupby)\n",
    "            })\n",
    "        df = train_df.merge(gp, how='left', on=groupby)\n",
    "    return df.iloc[:,-1]"
   ]
  },
  {
   "cell_type": "code",
   "execution_count": 8,
   "metadata": {},
   "outputs": [
    {
     "name": "stdout",
     "output_type": "stream",
     "text": [
      "feature1 : number of unique \"channel\" by ip\tchannel_nunique_ip\n",
      "feature2 : cumcount of \"app\" by (ip,device,os)\tapp_cumcnt_ip_device_os\n",
      "feature3 : number of unique \"hour\" by (ip, day)\thour_nunique_ip_day\n",
      "feature4 : number of unique \"app\" by ip\tapp_nunique_ip\n",
      "feature5 : number of unique \"app\" by (ip,os)\tapp_nunique_ip_os\n",
      "feature6 : number of unique \"device\" by ip\tdevice_nunique_ip\n",
      "feature7 : number of unique \"app\" by channel\tapp_nunique_channel\n",
      "feature8 : cumcount of \"os\" by ip \tos_cumcnt_ip\n",
      "feature9 : number of unique \"app\" by (ip,device,os)\tapp_nunique_ip_device_os\n"
     ]
    }
   ],
   "source": [
    "print('feature1 : number of unique \"channel\" by ip',end='\\t')\n",
    "f1 = encode_agg_feature(groupby=['ip'], selcols=['ip','channel'],aggregator='nunique')\n",
    "print(f1.name)\n",
    "\n",
    "print('feature2 : cumcount of \"app\" by (ip,device,os)',end='\\t')\n",
    "f2 = encode_agg_feature(selcols=['app','ip','device','os'], groupby=['ip','device','os'], aggregator='cumcount')\n",
    "print(f2.name)\n",
    "\n",
    "print('feature3 : number of unique \"hour\" by (ip, day)',end='\\t')\n",
    "f3 = encode_agg_feature(selcols=['hour','ip','day'], groupby=['ip','day'], aggregator='nunique')\n",
    "print(f3.name)\n",
    "\n",
    "print('feature4 : number of unique \"app\" by ip', end='\\t')\n",
    "f4 = encode_agg_feature(selcols=['app', 'ip'], groupby=['ip'])\n",
    "print(f4.name)\n",
    "\n",
    "print('feature5 : number of unique \"app\" by (ip,os)',end='\\t')\n",
    "f5 = encode_agg_feature(selcols=['app', 'ip', 'os'], groupby=['ip','os'])\n",
    "print(f5.name)\n",
    "\n",
    "print('feature6 : number of unique \"device\" by ip',end='\\t')\n",
    "f6 = encode_agg_feature(selcols=['device', 'ip'], groupby=['ip'])\n",
    "print(f6.name)\n",
    "\n",
    "print('feature7 : number of unique \"app\" by channel',end='\\t')\n",
    "f7 = encode_agg_feature(selcols=['app', 'channel'], groupby=['channel'])\n",
    "print(f7.name)\n",
    "\n",
    "print('feature8 : cumcount of \"os\" by ip ',end='\\t')\n",
    "f8 = encode_agg_feature(selcols=['os', 'ip'], groupby=['ip'], aggregator='cumcount')\n",
    "print(f8.name)\n",
    "\n",
    "print('feature9 : number of unique \"app\" by (ip,device,os)',end='\\t')\n",
    "f9 = encode_agg_feature(selcols=['app', 'ip','device','os'], groupby=['ip','device','os'])\n",
    "print(f9.name)\n"
   ]
  },
  {
   "cell_type": "code",
   "execution_count": 9,
   "metadata": {},
   "outputs": [],
   "source": [
    "train_df[f1.name] = f1.values\n",
    "train_df[f2.name] = f2.values\n",
    "train_df[f3.name] = f3.values\n",
    "train_df[f4.name] = f4.values\n",
    "train_df[f5.name] = f5.values\n",
    "train_df[f6.name] = f6.values\n",
    "train_df[f7.name] = f7.values\n",
    "train_df[f8.name] = f8.values\n",
    "train_df[f9.name] = f9.values"
   ]
  },
  {
   "cell_type": "code",
   "execution_count": 10,
   "metadata": {},
   "outputs": [
    {
     "data": {
      "text/plain": [
       "Index(['app', 'channel', 'click_id', 'click_time', 'device', 'ip',\n",
       "       'is_attributed', 'os', 'day', 'hour', 'channel_nunique_ip',\n",
       "       'app_cumcnt_ip_device_os', 'hour_nunique_ip_day', 'app_nunique_ip',\n",
       "       'app_nunique_ip_os', 'device_nunique_ip', 'app_nunique_channel',\n",
       "       'os_cumcnt_ip', 'app_nunique_ip_device_os'],\n",
       "      dtype='object')"
      ]
     },
     "execution_count": 10,
     "metadata": {},
     "output_type": "execute_result"
    }
   ],
   "source": [
    "train_df.columns"
   ]
  },
  {
   "cell_type": "code",
   "execution_count": 11,
   "metadata": {},
   "outputs": [
    {
     "data": {
      "text/html": [
       "<div>\n",
       "<style>\n",
       "    .dataframe thead tr:only-child th {\n",
       "        text-align: right;\n",
       "    }\n",
       "\n",
       "    .dataframe thead th {\n",
       "        text-align: left;\n",
       "    }\n",
       "\n",
       "    .dataframe tbody tr th {\n",
       "        vertical-align: top;\n",
       "    }\n",
       "</style>\n",
       "<table border=\"1\" class=\"dataframe\">\n",
       "  <thead>\n",
       "    <tr style=\"text-align: right;\">\n",
       "      <th></th>\n",
       "      <th>0</th>\n",
       "      <th>1</th>\n",
       "      <th>2</th>\n",
       "      <th>3</th>\n",
       "      <th>4</th>\n",
       "    </tr>\n",
       "  </thead>\n",
       "  <tbody>\n",
       "    <tr>\n",
       "      <th>app</th>\n",
       "      <td>23</td>\n",
       "      <td>3</td>\n",
       "      <td>12</td>\n",
       "      <td>3</td>\n",
       "      <td>3</td>\n",
       "    </tr>\n",
       "    <tr>\n",
       "      <th>channel</th>\n",
       "      <td>153</td>\n",
       "      <td>280</td>\n",
       "      <td>178</td>\n",
       "      <td>280</td>\n",
       "      <td>130</td>\n",
       "    </tr>\n",
       "    <tr>\n",
       "      <th>click_id</th>\n",
       "      <td>NaN</td>\n",
       "      <td>NaN</td>\n",
       "      <td>NaN</td>\n",
       "      <td>NaN</td>\n",
       "      <td>NaN</td>\n",
       "    </tr>\n",
       "    <tr>\n",
       "      <th>click_time</th>\n",
       "      <td>2017-11-08 12:33:34</td>\n",
       "      <td>2017-11-08 12:33:34</td>\n",
       "      <td>2017-11-08 12:33:34</td>\n",
       "      <td>2017-11-08 12:33:34</td>\n",
       "      <td>2017-11-08 12:33:34</td>\n",
       "    </tr>\n",
       "    <tr>\n",
       "      <th>device</th>\n",
       "      <td>1</td>\n",
       "      <td>1</td>\n",
       "      <td>1</td>\n",
       "      <td>1</td>\n",
       "      <td>1</td>\n",
       "    </tr>\n",
       "    <tr>\n",
       "      <th>ip</th>\n",
       "      <td>103202</td>\n",
       "      <td>143414</td>\n",
       "      <td>173096</td>\n",
       "      <td>8210</td>\n",
       "      <td>5746</td>\n",
       "    </tr>\n",
       "    <tr>\n",
       "      <th>is_attributed</th>\n",
       "      <td>0</td>\n",
       "      <td>0</td>\n",
       "      <td>0</td>\n",
       "      <td>0</td>\n",
       "      <td>0</td>\n",
       "    </tr>\n",
       "    <tr>\n",
       "      <th>os</th>\n",
       "      <td>16</td>\n",
       "      <td>19</td>\n",
       "      <td>17</td>\n",
       "      <td>42</td>\n",
       "      <td>19</td>\n",
       "    </tr>\n",
       "    <tr>\n",
       "      <th>day</th>\n",
       "      <td>8</td>\n",
       "      <td>8</td>\n",
       "      <td>8</td>\n",
       "      <td>8</td>\n",
       "      <td>8</td>\n",
       "    </tr>\n",
       "    <tr>\n",
       "      <th>hour</th>\n",
       "      <td>12</td>\n",
       "      <td>12</td>\n",
       "      <td>12</td>\n",
       "      <td>12</td>\n",
       "      <td>12</td>\n",
       "    </tr>\n",
       "    <tr>\n",
       "      <th>channel_nunique_ip</th>\n",
       "      <td>66</td>\n",
       "      <td>80</td>\n",
       "      <td>25</td>\n",
       "      <td>88</td>\n",
       "      <td>81</td>\n",
       "    </tr>\n",
       "    <tr>\n",
       "      <th>app_cumcnt_ip_device_os</th>\n",
       "      <td>0</td>\n",
       "      <td>0</td>\n",
       "      <td>0</td>\n",
       "      <td>0</td>\n",
       "      <td>0</td>\n",
       "    </tr>\n",
       "    <tr>\n",
       "      <th>hour_nunique_ip_day</th>\n",
       "      <td>4</td>\n",
       "      <td>11</td>\n",
       "      <td>4</td>\n",
       "      <td>12</td>\n",
       "      <td>11</td>\n",
       "    </tr>\n",
       "    <tr>\n",
       "      <th>app_nunique_ip</th>\n",
       "      <td>23</td>\n",
       "      <td>31</td>\n",
       "      <td>16</td>\n",
       "      <td>39</td>\n",
       "      <td>30</td>\n",
       "    </tr>\n",
       "    <tr>\n",
       "      <th>app_nunique_ip_os</th>\n",
       "      <td>9</td>\n",
       "      <td>21</td>\n",
       "      <td>2</td>\n",
       "      <td>3</td>\n",
       "      <td>23</td>\n",
       "    </tr>\n",
       "    <tr>\n",
       "      <th>device_nunique_ip</th>\n",
       "      <td>2</td>\n",
       "      <td>5</td>\n",
       "      <td>1</td>\n",
       "      <td>7</td>\n",
       "      <td>3</td>\n",
       "    </tr>\n",
       "    <tr>\n",
       "      <th>app_nunique_channel</th>\n",
       "      <td>5</td>\n",
       "      <td>4</td>\n",
       "      <td>3</td>\n",
       "      <td>4</td>\n",
       "      <td>2</td>\n",
       "    </tr>\n",
       "    <tr>\n",
       "      <th>os_cumcnt_ip</th>\n",
       "      <td>0</td>\n",
       "      <td>0</td>\n",
       "      <td>0</td>\n",
       "      <td>0</td>\n",
       "      <td>0</td>\n",
       "    </tr>\n",
       "    <tr>\n",
       "      <th>app_nunique_ip_device_os</th>\n",
       "      <td>9</td>\n",
       "      <td>21</td>\n",
       "      <td>2</td>\n",
       "      <td>2</td>\n",
       "      <td>23</td>\n",
       "    </tr>\n",
       "  </tbody>\n",
       "</table>\n",
       "</div>"
      ],
      "text/plain": [
       "                                            0                    1  \\\n",
       "app                                        23                    3   \n",
       "channel                                   153                  280   \n",
       "click_id                                  NaN                  NaN   \n",
       "click_time                2017-11-08 12:33:34  2017-11-08 12:33:34   \n",
       "device                                      1                    1   \n",
       "ip                                     103202               143414   \n",
       "is_attributed                               0                    0   \n",
       "os                                         16                   19   \n",
       "day                                         8                    8   \n",
       "hour                                       12                   12   \n",
       "channel_nunique_ip                         66                   80   \n",
       "app_cumcnt_ip_device_os                     0                    0   \n",
       "hour_nunique_ip_day                         4                   11   \n",
       "app_nunique_ip                             23                   31   \n",
       "app_nunique_ip_os                           9                   21   \n",
       "device_nunique_ip                           2                    5   \n",
       "app_nunique_channel                         5                    4   \n",
       "os_cumcnt_ip                                0                    0   \n",
       "app_nunique_ip_device_os                    9                   21   \n",
       "\n",
       "                                            2                    3  \\\n",
       "app                                        12                    3   \n",
       "channel                                   178                  280   \n",
       "click_id                                  NaN                  NaN   \n",
       "click_time                2017-11-08 12:33:34  2017-11-08 12:33:34   \n",
       "device                                      1                    1   \n",
       "ip                                     173096                 8210   \n",
       "is_attributed                               0                    0   \n",
       "os                                         17                   42   \n",
       "day                                         8                    8   \n",
       "hour                                       12                   12   \n",
       "channel_nunique_ip                         25                   88   \n",
       "app_cumcnt_ip_device_os                     0                    0   \n",
       "hour_nunique_ip_day                         4                   12   \n",
       "app_nunique_ip                             16                   39   \n",
       "app_nunique_ip_os                           2                    3   \n",
       "device_nunique_ip                           1                    7   \n",
       "app_nunique_channel                         3                    4   \n",
       "os_cumcnt_ip                                0                    0   \n",
       "app_nunique_ip_device_os                    2                    2   \n",
       "\n",
       "                                            4  \n",
       "app                                         3  \n",
       "channel                                   130  \n",
       "click_id                                  NaN  \n",
       "click_time                2017-11-08 12:33:34  \n",
       "device                                      1  \n",
       "ip                                       5746  \n",
       "is_attributed                               0  \n",
       "os                                         19  \n",
       "day                                         8  \n",
       "hour                                       12  \n",
       "channel_nunique_ip                         81  \n",
       "app_cumcnt_ip_device_os                     0  \n",
       "hour_nunique_ip_day                        11  \n",
       "app_nunique_ip                             30  \n",
       "app_nunique_ip_os                          23  \n",
       "device_nunique_ip                           3  \n",
       "app_nunique_channel                         2  \n",
       "os_cumcnt_ip                                0  \n",
       "app_nunique_ip_device_os                   23  "
      ]
     },
     "execution_count": 11,
     "metadata": {},
     "output_type": "execute_result"
    }
   ],
   "source": [
    "train_df.head().T"
   ]
  },
  {
   "cell_type": "markdown",
   "metadata": {},
   "source": [
    "## count \n",
    "\n",
    "- feature 10 : count by (ip,day,hour)\n",
    "- feature 11 : count by (ip,app)\n",
    "- feature 12 : count by (ip,app,os)"
   ]
  },
  {
   "cell_type": "code",
   "execution_count": 12,
   "metadata": {},
   "outputs": [
    {
     "name": "stdout",
     "output_type": "stream",
     "text": [
      "feature 10 : count by (ip,day,hour)\tchannel_cnt_ip_day_hour\n",
      "feature 11 : count by (ip,app)\tchannel_cnt_ip_app\n",
      "feature 12 : count by (ip,app,os)\tchannel_cnt_ip_app_os\n"
     ]
    }
   ],
   "source": [
    "print('feature 10 : count by (ip,day,hour)',end='\\t')\n",
    "f10 = encode_agg_feature(selcols=['ip','day','hour','channel'],groupby=['ip','day','hour'],aggregator='count')\n",
    "print(f10.name)\n",
    "\n",
    "print('feature 11 : count by (ip,app)', end='\\t')\n",
    "f11 = encode_agg_feature(selcols=['ip','app','channel'],groupby=['ip','app'],aggregator='count')\n",
    "print(f11.name)\n",
    "\n",
    "print('feature 12 : count by (ip,app,os)',end='\\t')\n",
    "f12 = encode_agg_feature(selcols=['ip','app','channel','os'],groupby=['ip','app','os'],aggregator='count')\n",
    "print(f12.name)"
   ]
  },
  {
   "cell_type": "markdown",
   "metadata": {},
   "source": [
    "## var, mean hour\n",
    "\n",
    "- feature 13 : var of hour by (ip,day,channel)\n",
    "- feature 14 : var of hour by (ip,app,os)\n",
    "- feature 15 : var of day by (ip,app,channel)\n",
    "- feature 16 : mean of hour by (ip,app,channel)"
   ]
  },
  {
   "cell_type": "code",
   "execution_count": 13,
   "metadata": {},
   "outputs": [
    {
     "name": "stdout",
     "output_type": "stream",
     "text": [
      "feature 13: var of hour by (ip,day,channel)\thour_var_ip_day_channel\n",
      "feature 14: var of hour by (ip,app,os)\thour_var_ip_app_os\n",
      "feature 15: var of day by (ip,app,channel)\tday_var_ip_app_channel\n",
      "feature 16: mean of hour by (ip,app,channel)\thour_mean_ip_app_channel\n"
     ]
    }
   ],
   "source": [
    "print('feature 13: var of hour by (ip,day,channel)',end='\\t')\n",
    "f13 = encode_agg_feature(selcols=['ip','day','channel','hour'],\n",
    "                         groupby=['ip','day','channel'],\n",
    "                         aggregator='var'                    \n",
    "                        )\n",
    "print(f13.name)\n",
    "\n",
    "print('feature 14: var of hour by (ip,app,os)', end='\\t')\n",
    "f14 =encode_agg_feature(selcols=['ip','app','os','hour'], groupby=['ip','app','os'], aggregator='var')\n",
    "print(f14.name)\n",
    "\n",
    "print('feature 15: var of day by (ip,app,channel)',end='\\t')\n",
    "f15 = encode_agg_feature(selcols=['ip','app','channel','day'],groupby=['ip','app','channel'], aggregator='var')\n",
    "print(f15.name)\n",
    "\n",
    "print('feature 16: mean of hour by (ip,app,channel)', end='\\t')\n",
    "f16 = encode_agg_feature(selcols=['ip','app','channel','hour'],groupby=['ip','app','channel'],aggregator='mean')\n",
    "print(f16.name)\n"
   ]
  },
  {
   "cell_type": "code",
   "execution_count": 14,
   "metadata": {},
   "outputs": [],
   "source": [
    "train_df[f10.name] = f10.values\n",
    "train_df[f11.name] = f11.values\n",
    "train_df[f12.name] = f12.values\n",
    "train_df[f13.name] = f13.values\n",
    "train_df[f14.name] = f14.values\n",
    "train_df[f15.name] = f15.values\n",
    "train_df[f16.name] = f16.values"
   ]
  },
  {
   "cell_type": "code",
   "execution_count": 15,
   "metadata": {},
   "outputs": [],
   "source": [
    "del f1,f2,f3,f4,f5,f6,f7,f8,f9,f10,f11,f12,f13,f14,f15,f16"
   ]
  },
  {
   "cell_type": "code",
   "execution_count": 16,
   "metadata": {},
   "outputs": [
    {
     "data": {
      "text/plain": [
       "562"
      ]
     },
     "execution_count": 16,
     "metadata": {},
     "output_type": "execute_result"
    }
   ],
   "source": [
    "gc.collect()"
   ]
  },
  {
   "cell_type": "markdown",
   "metadata": {},
   "source": [
    "# Next Click "
   ]
  },
  {
   "cell_type": "code",
   "execution_count": 17,
   "metadata": {},
   "outputs": [
    {
     "name": "stdout",
     "output_type": "stream",
     "text": [
      "\n"
     ]
    }
   ],
   "source": [
    "D=2**26\n",
    "train_df['category'] = (train_df['ip'].astype(str) + \"_\" + train_df['app'].astype(str) + \"_\" + train_df['device'].astype(str) \\\n",
    "    + \"_\" + train_df['os'].astype(str)).apply(hash) % D\n",
    "\n",
    "click_buffer= np.full(D, 3000000000, dtype=np.uint32)\n",
    "train_df['epochtime']= train_df['click_time'].astype(np.int64) // 10 ** 9 ## pretty slow\n",
    "next_clicks= []\n",
    "\n",
    "for category, t in tqdm_notebook(zip(reversed(train_df['category'].values), reversed(train_df['epochtime'].values))):\n",
    "    next_clicks.append(click_buffer[category]-t)\n",
    "    click_buffer[category]= t\n",
    "\n",
    "next_clicks = list(reversed(next_clicks))\n",
    "# train_df['nextClick'] = next_clicks\n"
   ]
  },
  {
   "cell_type": "code",
   "execution_count": 18,
   "metadata": {},
   "outputs": [],
   "source": [
    "### time consuming ###\n",
    "# selcols = ['ip','device','os','app','click_time']\n",
    "# groupby = ['ip','device','os','app']\n",
    "# temp_df[selcols].groupby(groupby).click_time.transform(lambda x:x.diff().shift(-1)).dt.seconds"
   ]
  },
  {
   "cell_type": "code",
   "execution_count": 19,
   "metadata": {},
   "outputs": [],
   "source": [
    "train_df['nextClick'] = next_clicks\n",
    "train_df['nextClick_shift1'] = pd.Series(next_clicks).shift(1)"
   ]
  },
  {
   "cell_type": "code",
   "execution_count": null,
   "metadata": {},
   "outputs": [],
   "source": []
  },
  {
   "cell_type": "markdown",
   "metadata": {},
   "source": [
    "### dtypes "
   ]
  },
  {
   "cell_type": "code",
   "execution_count": 20,
   "metadata": {},
   "outputs": [
    {
     "name": "stdout",
     "output_type": "stream",
     "text": [
      "vars and data type: \n",
      "<class 'pandas.core.frame.DataFrame'>\n",
      "Int64Index: 58790469 entries, 0 to 18790468\n",
      "Data columns (total 30 columns):\n",
      "app                         uint16\n",
      "channel                     uint16\n",
      "click_id                    float64\n",
      "click_time                  datetime64[ns]\n",
      "device                      uint16\n",
      "ip                          uint32\n",
      "is_attributed               float64\n",
      "os                          uint16\n",
      "day                         uint8\n",
      "hour                        uint8\n",
      "channel_nunique_ip          int64\n",
      "app_cumcnt_ip_device_os     int64\n",
      "hour_nunique_ip_day         int64\n",
      "app_nunique_ip              int64\n",
      "app_nunique_ip_os           int64\n",
      "device_nunique_ip           int64\n",
      "app_nunique_channel         int64\n",
      "os_cumcnt_ip                int64\n",
      "app_nunique_ip_device_os    int64\n",
      "channel_cnt_ip_day_hour     int64\n",
      "channel_cnt_ip_app          int64\n",
      "channel_cnt_ip_app_os       int64\n",
      "hour_var_ip_day_channel     float64\n",
      "hour_var_ip_app_os          float64\n",
      "day_var_ip_app_channel      float64\n",
      "hour_mean_ip_app_channel    float64\n",
      "category                    int64\n",
      "epochtime                   int64\n",
      "nextClick                   int64\n",
      "nextClick_shift1            float64\n",
      "dtypes: datetime64[ns](1), float64(7), int64(15), uint16(4), uint32(1), uint8(2)\n",
      "memory usage: 11.3 GB\n",
      "downcast to uint8,16, float16,32\n",
      "<class 'pandas.core.frame.DataFrame'>\n",
      "Int64Index: 58790469 entries, 0 to 18790468\n",
      "Data columns (total 30 columns):\n",
      "app                         uint16\n",
      "channel                     uint16\n",
      "click_id                    float64\n",
      "click_time                  datetime64[ns]\n",
      "device                      uint16\n",
      "ip                          uint32\n",
      "is_attributed               float64\n",
      "os                          uint16\n",
      "day                         uint8\n",
      "hour                        uint8\n",
      "channel_nunique_ip          uint8\n",
      "app_cumcnt_ip_device_os     uint16\n",
      "hour_nunique_ip_day         uint8\n",
      "app_nunique_ip              uint8\n",
      "app_nunique_ip_os           uint8\n",
      "device_nunique_ip           uint8\n",
      "app_nunique_channel         uint8\n",
      "os_cumcnt_ip                uint16\n",
      "app_nunique_ip_device_os    uint8\n",
      "channel_cnt_ip_day_hour     uint16\n",
      "channel_cnt_ip_app          uint16\n",
      "channel_cnt_ip_app_os       uint16\n",
      "hour_var_ip_day_channel     float16\n",
      "hour_var_ip_app_os          float16\n",
      "day_var_ip_app_channel      float16\n",
      "hour_mean_ip_app_channel    float16\n",
      "category                    uint32\n",
      "epochtime                   uint32\n",
      "nextClick                   uint32\n",
      "nextClick_shift1            float64\n",
      "dtypes: datetime64[ns](1), float16(4), float64(3), uint16(9), uint32(4), uint8(9)\n",
      "memory usage: 5.0 GB\n"
     ]
    }
   ],
   "source": [
    "print(\"vars and data type: \")\n",
    "train_df.info()\n",
    "print('downcast to uint8,16, float16,32')\n",
    "train_df.channel_nunique_ip = train_df.channel_nunique_ip.astype('uint8') ## 93 -- uint8\n",
    "train_df.app_cumcnt_ip_device_os = train_df.app_cumcnt_ip_device_os.astype('uint16')  ## 1860 -- uint16\n",
    "train_df.hour_nunique_ip_day = train_df.hour_nunique_ip_day.astype('uint8') ## 3 -- uint8\n",
    "train_df.app_nunique_ip = train_df.app_nunique_ip.astype('uint8')  ## 41 --uint8\n",
    "train_df.app_nunique_ip_os = train_df.app_nunique_ip_os.astype('uint8') ## 29 -- uint8\n",
    "train_df.device_nunique_ip = train_df.device_nunique_ip.astype('uint8') ## 8 -- uint8\n",
    "train_df.app_nunique_channel = train_df.app_nunique_channel.astype('uint8') ##77 -- uint8\n",
    "train_df.os_cumcnt_ip = train_df.os_cumcnt_ip.astype('uint16') ## 6436 --uint16\n",
    "train_df.app_nunique_ip_device_os = train_df.app_nunique_ip_device_os.astype('uint8') ## 29 -- uint8\n",
    "train_df.channel_cnt_ip_day_hour = train_df.channel_cnt_ip_day_hour.astype('uint16') ## 6437 --uint16\n",
    "train_df.channel_cnt_ip_app = train_df.channel_cnt_ip_app.astype('uint16')##1725 -- uint16\n",
    "train_df.channel_cnt_ip_app_os = train_df.channel_cnt_ip_app_os.astype('uint16') ## 519 -- uint16\n",
    "\n",
    "train_df.hour_var_ip_day_channel =train_df.hour_var_ip_day_channel.astype('float16')  \n",
    "train_df.hour_var_ip_app_os = train_df.hour_var_ip_app_os.astype('float16')\n",
    "train_df.day_var_ip_app_channel = train_df.day_var_ip_app_channel.astype('float16')\n",
    "train_df.hour_mean_ip_app_channel = train_df.hour_mean_ip_app_channel.astype('float16')\n",
    "train_df.category = train_df.category.astype('uint32')\n",
    "train_df.epochtime = train_df.epochtime.astype('uint32')\n",
    "train_df.nextClick = train_df.nextClick.astype('uint32')\n",
    "train_df.info()"
   ]
  },
  {
   "cell_type": "code",
   "execution_count": 21,
   "metadata": {},
   "outputs": [
    {
     "data": {
      "text/plain": [
       "38"
      ]
     },
     "execution_count": 21,
     "metadata": {},
     "output_type": "execute_result"
    }
   ],
   "source": [
    "gc.collect()"
   ]
  },
  {
   "cell_type": "markdown",
   "metadata": {},
   "source": [
    "___"
   ]
  },
  {
   "cell_type": "markdown",
   "metadata": {},
   "source": [
    "# Save"
   ]
  },
  {
   "cell_type": "code",
   "execution_count": 22,
   "metadata": {},
   "outputs": [
    {
     "data": {
      "text/plain": [
       "(58790469, 30)"
      ]
     },
     "execution_count": 22,
     "metadata": {},
     "output_type": "execute_result"
    }
   ],
   "source": [
    "train_df.shape"
   ]
  },
  {
   "cell_type": "code",
   "execution_count": 23,
   "metadata": {},
   "outputs": [
    {
     "name": "stdout",
     "output_type": "stream",
     "text": [
      "train size:  37500000\n",
      "valid size:  2500000\n",
      "test size :  18790469\n"
     ]
    }
   ],
   "source": [
    "test_df = train_df[len_train:]\n",
    "val_df = train_df[(len_train-val_size):len_train]\n",
    "train_df = train_df[:(len_train-val_size)]\n",
    "\n",
    "print(\"train size: \", len(train_df))\n",
    "print(\"valid size: \", len(val_df))\n",
    "print(\"test size : \", len(test_df))\n"
   ]
  },
  {
   "cell_type": "code",
   "execution_count": 24,
   "metadata": {},
   "outputs": [
    {
     "name": "stdout",
     "output_type": "stream",
     "text": [
      "../../feat_109903890_149903890\n"
     ]
    }
   ],
   "source": [
    "print('../../feat_{}_{}'.format(frm,to))"
   ]
  },
  {
   "cell_type": "code",
   "execution_count": 25,
   "metadata": {},
   "outputs": [],
   "source": [
    "store = pd.HDFStore('../input/feat/feat_{}_{}.h5'.format(frm,to))\n",
    "store['train_df'] = train_df\n",
    "store['valid_df'] = val_df\n",
    "store['test_df'] = test_df\n",
    "store.close()"
   ]
  },
  {
   "cell_type": "markdown",
   "metadata": {},
   "source": [
    "load Hdf"
   ]
  },
  {
   "cell_type": "code",
   "execution_count": 29,
   "metadata": {},
   "outputs": [
    {
     "name": "stdout",
     "output_type": "stream",
     "text": [
      "['/test_df', '/train_df', '/valid_df']\n"
     ]
    }
   ],
   "source": [
    "with pd.HDFStore('../input/feat/feat_109903890_149903890.h5') as store:\n",
    "    print(store.keys())\n",
    "    test_df = store['test_df']\n",
    "    val_df = store['valid_df']"
   ]
  },
  {
   "cell_type": "code",
   "execution_count": 31,
   "metadata": {},
   "outputs": [
    {
     "data": {
      "text/plain": [
       "(18790469, 30)"
      ]
     },
     "execution_count": 31,
     "metadata": {},
     "output_type": "execute_result"
    }
   ],
   "source": [
    "test_df.shape"
   ]
  },
  {
   "cell_type": "markdown",
   "metadata": {},
   "source": [
    "_____\n",
    "# PLAYGROUND"
   ]
  },
  {
   "cell_type": "code",
   "execution_count": 27,
   "metadata": {},
   "outputs": [],
   "source": [
    "cols = ['nextClick', 'nextClick_shift', 'app', 'device', 'os', 'channel', 'hour', 'day', 'ip_tcount', 'ip_tchan_count', 'ip_app_count', 'ip_app_os_count', 'ip_app_os_var', 'ip_app_channel_var_day', 'ip_app_channel_mean_hour', 'X0', 'X1', 'X2', 'X3', 'X4', 'X5', 'X6', 'X7', 'X8']\n",
    "importances = [138, 1, 232, 27, 147, 305, 105, 0, 40, 2, 32, 21, 10, 7, 8, 52, 9, 9, 33, 11, 28, 13, 7, 35]"
   ]
  },
  {
   "cell_type": "code",
   "execution_count": 28,
   "metadata": {},
   "outputs": [
    {
     "data": {
      "text/html": [
       "<div>\n",
       "<style>\n",
       "    .dataframe thead tr:only-child th {\n",
       "        text-align: right;\n",
       "    }\n",
       "\n",
       "    .dataframe thead th {\n",
       "        text-align: left;\n",
       "    }\n",
       "\n",
       "    .dataframe tbody tr th {\n",
       "        vertical-align: top;\n",
       "    }\n",
       "</style>\n",
       "<table border=\"1\" class=\"dataframe\">\n",
       "  <thead>\n",
       "    <tr style=\"text-align: right;\">\n",
       "      <th></th>\n",
       "      <th>col</th>\n",
       "      <th>imp</th>\n",
       "    </tr>\n",
       "  </thead>\n",
       "  <tbody>\n",
       "    <tr>\n",
       "      <th>5</th>\n",
       "      <td>channel</td>\n",
       "      <td>305</td>\n",
       "    </tr>\n",
       "    <tr>\n",
       "      <th>2</th>\n",
       "      <td>app</td>\n",
       "      <td>232</td>\n",
       "    </tr>\n",
       "    <tr>\n",
       "      <th>4</th>\n",
       "      <td>os</td>\n",
       "      <td>147</td>\n",
       "    </tr>\n",
       "    <tr>\n",
       "      <th>0</th>\n",
       "      <td>nextClick</td>\n",
       "      <td>138</td>\n",
       "    </tr>\n",
       "    <tr>\n",
       "      <th>6</th>\n",
       "      <td>hour</td>\n",
       "      <td>105</td>\n",
       "    </tr>\n",
       "    <tr>\n",
       "      <th>15</th>\n",
       "      <td>X0</td>\n",
       "      <td>52</td>\n",
       "    </tr>\n",
       "    <tr>\n",
       "      <th>8</th>\n",
       "      <td>ip_tcount</td>\n",
       "      <td>40</td>\n",
       "    </tr>\n",
       "    <tr>\n",
       "      <th>23</th>\n",
       "      <td>X8</td>\n",
       "      <td>35</td>\n",
       "    </tr>\n",
       "    <tr>\n",
       "      <th>18</th>\n",
       "      <td>X3</td>\n",
       "      <td>33</td>\n",
       "    </tr>\n",
       "    <tr>\n",
       "      <th>10</th>\n",
       "      <td>ip_app_count</td>\n",
       "      <td>32</td>\n",
       "    </tr>\n",
       "    <tr>\n",
       "      <th>20</th>\n",
       "      <td>X5</td>\n",
       "      <td>28</td>\n",
       "    </tr>\n",
       "    <tr>\n",
       "      <th>3</th>\n",
       "      <td>device</td>\n",
       "      <td>27</td>\n",
       "    </tr>\n",
       "    <tr>\n",
       "      <th>11</th>\n",
       "      <td>ip_app_os_count</td>\n",
       "      <td>21</td>\n",
       "    </tr>\n",
       "    <tr>\n",
       "      <th>21</th>\n",
       "      <td>X6</td>\n",
       "      <td>13</td>\n",
       "    </tr>\n",
       "    <tr>\n",
       "      <th>19</th>\n",
       "      <td>X4</td>\n",
       "      <td>11</td>\n",
       "    </tr>\n",
       "    <tr>\n",
       "      <th>12</th>\n",
       "      <td>ip_app_os_var</td>\n",
       "      <td>10</td>\n",
       "    </tr>\n",
       "    <tr>\n",
       "      <th>16</th>\n",
       "      <td>X1</td>\n",
       "      <td>9</td>\n",
       "    </tr>\n",
       "    <tr>\n",
       "      <th>17</th>\n",
       "      <td>X2</td>\n",
       "      <td>9</td>\n",
       "    </tr>\n",
       "    <tr>\n",
       "      <th>14</th>\n",
       "      <td>ip_app_channel_mean_hour</td>\n",
       "      <td>8</td>\n",
       "    </tr>\n",
       "    <tr>\n",
       "      <th>13</th>\n",
       "      <td>ip_app_channel_var_day</td>\n",
       "      <td>7</td>\n",
       "    </tr>\n",
       "    <tr>\n",
       "      <th>22</th>\n",
       "      <td>X7</td>\n",
       "      <td>7</td>\n",
       "    </tr>\n",
       "    <tr>\n",
       "      <th>9</th>\n",
       "      <td>ip_tchan_count</td>\n",
       "      <td>2</td>\n",
       "    </tr>\n",
       "    <tr>\n",
       "      <th>1</th>\n",
       "      <td>nextClick_shift</td>\n",
       "      <td>1</td>\n",
       "    </tr>\n",
       "    <tr>\n",
       "      <th>7</th>\n",
       "      <td>day</td>\n",
       "      <td>0</td>\n",
       "    </tr>\n",
       "  </tbody>\n",
       "</table>\n",
       "</div>"
      ],
      "text/plain": [
       "                         col  imp\n",
       "5                    channel  305\n",
       "2                        app  232\n",
       "4                         os  147\n",
       "0                  nextClick  138\n",
       "6                       hour  105\n",
       "15                        X0   52\n",
       "8                  ip_tcount   40\n",
       "23                        X8   35\n",
       "18                        X3   33\n",
       "10              ip_app_count   32\n",
       "20                        X5   28\n",
       "3                     device   27\n",
       "11           ip_app_os_count   21\n",
       "21                        X6   13\n",
       "19                        X4   11\n",
       "12             ip_app_os_var   10\n",
       "16                        X1    9\n",
       "17                        X2    9\n",
       "14  ip_app_channel_mean_hour    8\n",
       "13    ip_app_channel_var_day    7\n",
       "22                        X7    7\n",
       "9             ip_tchan_count    2\n",
       "1            nextClick_shift    1\n",
       "7                        day    0"
      ]
     },
     "execution_count": 28,
     "metadata": {},
     "output_type": "execute_result"
    }
   ],
   "source": [
    "pd.DataFrame({'col':cols,'imp':importances}).sort_values(by='imp',ascending=False)"
   ]
  }
 ],
 "metadata": {
  "anaconda-cloud": {},
  "kernelspec": {
   "display_name": "Python [default]",
   "language": "python",
   "name": "python3"
  },
  "language_info": {
   "codemirror_mode": {
    "name": "ipython",
    "version": 3
   },
   "file_extension": ".py",
   "mimetype": "text/x-python",
   "name": "python",
   "nbconvert_exporter": "python",
   "pygments_lexer": "ipython3",
   "version": "3.5.2"
  },
  "widgets": {
   "state": {
    "e2355fa735ed4e2891b16f2d63c105f7": {
     "views": [
      {
       "cell_index": 21
      }
     ]
    }
   },
   "version": "1.2.0"
  }
 },
 "nbformat": 4,
 "nbformat_minor": 1
}
