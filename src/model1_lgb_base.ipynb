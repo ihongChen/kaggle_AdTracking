{
 "cells": [
  {
   "cell_type": "code",
   "execution_count": 1,
   "metadata": {},
   "outputs": [],
   "source": [
    "import pandas as pd \n",
    "import gc\n",
    "import numpy as np \n",
    "import matplotlib.pyplot as plt\n",
    "%matplotlib inline\n",
    "import lightgbm as lgb\n",
    "import time"
   ]
  },
  {
   "cell_type": "code",
   "execution_count": 2,
   "metadata": {},
   "outputs": [
    {
     "name": "stdout",
     "output_type": "stream",
     "text": [
      "['/test_df', '/train_df', '/valid_df']\n"
     ]
    }
   ],
   "source": [
    "with pd.HDFStore('../input/feat/feat_109903890_149903890.h5') as store:\n",
    "    print(store.keys())\n",
    "    train_df = store['train_df']\n",
    "    val_df = store['valid_df']\n",
    "    test_df = store['test_df']"
   ]
  },
  {
   "cell_type": "code",
   "execution_count": 3,
   "metadata": {},
   "outputs": [
    {
     "name": "stdout",
     "output_type": "stream",
     "text": [
      "shape of train:(37500000, 30)\n",
      "shape of val  :(2500000, 30)\n",
      "shape of test :(18790469, 30)\n"
     ]
    }
   ],
   "source": [
    "print('shape of train:{}'.format(train_df.shape))\n",
    "print('shape of val  :{}'.format(val_df.shape))\n",
    "print('shape of test :{}'.format(test_df.shape))"
   ]
  },
  {
   "cell_type": "code",
   "execution_count": 4,
   "metadata": {},
   "outputs": [],
   "source": [
    "def lgb_modelfit_nocv(params, dtrain, dvalid, predictors, target='target', objective='binary', metrics='auc',\n",
    "                 feval=None, early_stopping_rounds=20, num_boost_round=3000, verbose_eval=10, categorical_features=None):\n",
    "    lgb_params = {\n",
    "        'boosting_type': 'gbdt',\n",
    "        'objective': objective,\n",
    "        'metric':metrics,\n",
    "        'learning_rate': 0.2,\n",
    "        #'is_unbalance': 'true',  #because training data is unbalance (replaced with scale_pos_weight)\n",
    "        'num_leaves': 31,  # we should let it be smaller than 2^(max_depth)\n",
    "        'max_depth': -1,  # -1 means no limit\n",
    "        'min_child_samples': 20,  # Minimum number of data need in a child(min_data_in_leaf)\n",
    "        'max_bin': 255,  # Number of bucketed bin for feature values\n",
    "        'subsample': 0.6,  # Subsample ratio of the training instance.\n",
    "        'subsample_freq': 0,  # frequence of subsample, <=0 means no enable\n",
    "        'colsample_bytree': 0.3,  # Subsample ratio of columns when constructing each tree.\n",
    "        'min_child_weight': 5,  # Minimum sum of instance weight(hessian) needed in a child(leaf)\n",
    "        'subsample_for_bin': 200000,  # Number of samples for constructing bin\n",
    "        'min_split_gain': 0,  # lambda_l1, lambda_l2 and min_gain_to_split to regularization\n",
    "        'reg_alpha': 0,  # L1 regularization term on weights\n",
    "        'reg_lambda': 0,  # L2 regularization term on weights\n",
    "        'nthread': 4,\n",
    "        'verbose': 0,\n",
    "        'metric':metrics\n",
    "    }\n",
    "\n",
    "    lgb_params.update(params)\n",
    "\n",
    "    print(\"preparing validation datasets\")\n",
    "\n",
    "    xgtrain = lgb.Dataset(dtrain[predictors].values, label=dtrain[target].values,\n",
    "                          feature_name=predictors,\n",
    "                          categorical_feature=categorical_features\n",
    "                          )\n",
    "    xgvalid = lgb.Dataset(dvalid[predictors].values, label=dvalid[target].values,\n",
    "                          feature_name=predictors,\n",
    "                          categorical_feature=categorical_features\n",
    "                          )\n",
    "\n",
    "    evals_results = {}\n",
    "\n",
    "    bst1 = lgb.train(lgb_params, \n",
    "                     xgtrain, \n",
    "                     valid_sets=[xgtrain, xgvalid], \n",
    "                     valid_names=['train','valid'], \n",
    "                     evals_result=evals_results, \n",
    "                     num_boost_round=num_boost_round,\n",
    "                     early_stopping_rounds=early_stopping_rounds,\n",
    "                     verbose_eval=10, \n",
    "                     feval=feval)\n",
    "\n",
    "    print(\"\\nModel Report\")\n",
    "    print(\"bst1.best_iteration: \", bst1.best_iteration)\n",
    "    print(metrics+\":\", evals_results['valid'][metrics][bst1.best_iteration-1])\n",
    "\n",
    "    return (bst1,bst1.best_iteration)"
   ]
  },
  {
   "cell_type": "code",
   "execution_count": 7,
   "metadata": {},
   "outputs": [],
   "source": [
    "# print(\"Training...\")\n",
    "start_time = time.time()\n",
    "\n",
    "params = {\n",
    "    'learning_rate': 0.20,\n",
    "    #'is_unbalance': 'true', # replaced with scale_pos_weight argument\n",
    "    'num_leaves': 7,  # 2^max_depth - 1\n",
    "    'max_depth': 3,  # -1 means no limit\n",
    "    'min_child_samples': 100,  # Minimum number of data need in a child(min_data_in_leaf)\n",
    "    'max_bin': 100,  # Number of bucketed bin for feature values\n",
    "    'subsample': 0.7,  # Subsample ratio of the training instance.\n",
    "    'subsample_freq': 1,  # frequence of subsample, <=0 means no enable\n",
    "    'colsample_bytree': 0.9,  # Subsample ratio of columns when constructing each tree.\n",
    "    'min_child_weight': 0,  # Minimum sum of instance weight(hessian) needed in a child(leaf)\n",
    "    'scale_pos_weight':200 # because training data is extremely unbalanced \n",
    "}\n",
    "\n",
    "target = 'is_attributed'\n",
    "categorical = ['app', 'device', 'os', 'channel', 'hour', 'day']\n",
    "\n",
    "predictors = list(val_df.columns)\n",
    "remove_col = ['click_id','click_time','epochtime','is_attributed']\n",
    "predictors = [e for e in predictors if e not in remove_col]"
   ]
  },
  {
   "cell_type": "code",
   "execution_count": 19,
   "metadata": {},
   "outputs": [
    {
     "name": "stdout",
     "output_type": "stream",
     "text": [
      "Training...\n",
      "preparing validation datasets\n"
     ]
    },
    {
     "name": "stderr",
     "output_type": "stream",
     "text": [
      "C:\\Program Files\\Anaconda3\\envs\\py36\\lib\\site-packages\\lightgbm\\basic.py:1036: UserWarning: Using categorical_feature in Dataset.\n",
      "  warnings.warn('Using categorical_feature in Dataset.')\n",
      "C:\\Program Files\\Anaconda3\\envs\\py36\\lib\\site-packages\\lightgbm\\basic.py:681: UserWarning: categorical_feature in param dict is overrided.\n",
      "  warnings.warn('categorical_feature in param dict is overrided.')\n"
     ]
    },
    {
     "name": "stdout",
     "output_type": "stream",
     "text": [
      "Training until validation scores don't improve for 30 rounds.\n",
      "[10]\ttrain's auc: 0.971151\tvalid's auc: 0.966875\n",
      "[20]\ttrain's auc: 0.977322\tvalid's auc: 0.97197\n",
      "[30]\ttrain's auc: 0.980198\tvalid's auc: 0.974396\n",
      "[40]\ttrain's auc: 0.981631\tvalid's auc: 0.975144\n",
      "[50]\ttrain's auc: 0.982539\tvalid's auc: 0.97584\n",
      "[60]\ttrain's auc: 0.983127\tvalid's auc: 0.97595\n",
      "[70]\ttrain's auc: 0.983592\tvalid's auc: 0.97622\n",
      "[80]\ttrain's auc: 0.983977\tvalid's auc: 0.976461\n",
      "[90]\ttrain's auc: 0.984266\tvalid's auc: 0.976653\n",
      "[100]\ttrain's auc: 0.98455\tvalid's auc: 0.976673\n",
      "[110]\ttrain's auc: 0.984766\tvalid's auc: 0.976814\n",
      "[120]\ttrain's auc: 0.985042\tvalid's auc: 0.976757\n",
      "[130]\ttrain's auc: 0.985178\tvalid's auc: 0.976858\n",
      "[140]\ttrain's auc: 0.985347\tvalid's auc: 0.976848\n",
      "[150]\ttrain's auc: 0.985461\tvalid's auc: 0.976916\n",
      "[160]\ttrain's auc: 0.985585\tvalid's auc: 0.976977\n",
      "[170]\ttrain's auc: 0.985702\tvalid's auc: 0.976994\n",
      "[180]\ttrain's auc: 0.985782\tvalid's auc: 0.977043\n",
      "[190]\ttrain's auc: 0.985888\tvalid's auc: 0.976986\n",
      "Early stopping, best iteration is:\n",
      "[166]\ttrain's auc: 0.985656\tvalid's auc: 0.977049\n",
      "\n",
      "Model Report\n",
      "bst1.best_iteration:  166\n",
      "auc: 0.977049476643\n"
     ]
    }
   ],
   "source": [
    "(bst,best_iteration) = lgb_modelfit_nocv(params, \n",
    "                        train_df, \n",
    "                        val_df, \n",
    "                        predictors, \n",
    "                        target, \n",
    "                        objective='binary', \n",
    "                        metrics='auc',\n",
    "                        early_stopping_rounds=30, \n",
    "                        verbose_eval=True, \n",
    "                        num_boost_round=1000, \n",
    "                        categorical_features=categorical)"
   ]
  },
  {
   "cell_type": "markdown",
   "metadata": {},
   "source": [
    "# Sub \n",
    "- baseline "
   ]
  },
  {
   "cell_type": "code",
   "execution_count": 20,
   "metadata": {},
   "outputs": [
    {
     "name": "stdout",
     "output_type": "stream",
     "text": [
      "Plot feature importances...\n"
     ]
    },
    {
     "data": {
      "image/png": "[encoded data removed]",
      "text/plain": [
       "<matplotlib.figure.Figure at 0x2da4480c50>"
      ]
     },
     "metadata": {},
     "output_type": "display_data"
    }
   ],
   "source": [
    "print('Plot feature importances...')\n",
    "ax = lgb.plot_importance(bst, max_num_features=100)"
   ]
  },
  {
   "cell_type": "code",
   "execution_count": 23,
   "metadata": {},
   "outputs": [],
   "source": [
    "bst.save_model('../output/model/lgb_base_val_97705.txt')"
   ]
  },
  {
   "cell_type": "code",
   "execution_count": 25,
   "metadata": {},
   "outputs": [
    {
     "name": "stdout",
     "output_type": "stream",
     "text": [
      "Predicting...\n"
     ]
    }
   ],
   "source": [
    "sub = pd.DataFrame()\n",
    "sub['click_id'] = test_df['click_id'].astype(int)\n",
    "\n",
    "print(\"Predicting...\")\n",
    "sub['is_attributed'] = bst.predict(test_df[predictors],num_iteration=best_iteration)\n",
    "    "
   ]
  },
  {
   "cell_type": "code",
   "execution_count": 26,
   "metadata": {},
   "outputs": [
    {
     "data": {
      "text/html": [
       "<div>\n",
       "<style>\n",
       "    .dataframe thead tr:only-child th {\n",
       "        text-align: right;\n",
       "    }\n",
       "\n",
       "    .dataframe thead th {\n",
       "        text-align: left;\n",
       "    }\n",
       "\n",
       "    .dataframe tbody tr th {\n",
       "        vertical-align: top;\n",
       "    }\n",
       "</style>\n",
       "<table border=\"1\" class=\"dataframe\">\n",
       "  <thead>\n",
       "    <tr style=\"text-align: right;\">\n",
       "      <th></th>\n",
       "      <th>click_id</th>\n",
       "      <th>is_attributed</th>\n",
       "    </tr>\n",
       "  </thead>\n",
       "  <tbody>\n",
       "    <tr>\n",
       "      <th>0</th>\n",
       "      <td>0</td>\n",
       "      <td>0.143483</td>\n",
       "    </tr>\n",
       "    <tr>\n",
       "      <th>1</th>\n",
       "      <td>1</td>\n",
       "      <td>0.029520</td>\n",
       "    </tr>\n",
       "    <tr>\n",
       "      <th>2</th>\n",
       "      <td>2</td>\n",
       "      <td>0.002316</td>\n",
       "    </tr>\n",
       "    <tr>\n",
       "      <th>3</th>\n",
       "      <td>3</td>\n",
       "      <td>0.054001</td>\n",
       "    </tr>\n",
       "    <tr>\n",
       "      <th>4</th>\n",
       "      <td>4</td>\n",
       "      <td>0.009399</td>\n",
       "    </tr>\n",
       "  </tbody>\n",
       "</table>\n",
       "</div>"
      ],
      "text/plain": [
       "   click_id  is_attributed\n",
       "0         0       0.143483\n",
       "1         1       0.029520\n",
       "2         2       0.002316\n",
       "3         3       0.054001\n",
       "4         4       0.009399"
      ]
     },
     "execution_count": 26,
     "metadata": {},
     "output_type": "execute_result"
    }
   ],
   "source": [
    "sub.head()"
   ]
  },
  {
   "cell_type": "code",
   "execution_count": 27,
   "metadata": {},
   "outputs": [
    {
     "name": "stdout",
     "output_type": "stream",
     "text": [
      "writing\n"
     ]
    }
   ],
   "source": [
    "print('writing...')\n",
    "fileno = 1\n",
    "sub.to_csv('../output/sub_it{}.csv.gz'.format(fileno),index=False,compression='gzip')"
   ]
  },
  {
   "cell_type": "code",
   "execution_count": 28,
   "metadata": {},
   "outputs": [
    {
     "data": {
      "text/html": [
       "<div>\n",
       "<style>\n",
       "    .dataframe thead tr:only-child th {\n",
       "        text-align: right;\n",
       "    }\n",
       "\n",
       "    .dataframe thead th {\n",
       "        text-align: left;\n",
       "    }\n",
       "\n",
       "    .dataframe tbody tr th {\n",
       "        vertical-align: top;\n",
       "    }\n",
       "</style>\n",
       "<table border=\"1\" class=\"dataframe\">\n",
       "  <thead>\n",
       "    <tr style=\"text-align: right;\">\n",
       "      <th></th>\n",
       "      <th>click_id</th>\n",
       "      <th>is_attributed</th>\n",
       "    </tr>\n",
       "  </thead>\n",
       "  <tbody>\n",
       "    <tr>\n",
       "      <th>0</th>\n",
       "      <td>0</td>\n",
       "      <td>0.143483</td>\n",
       "    </tr>\n",
       "    <tr>\n",
       "      <th>1</th>\n",
       "      <td>1</td>\n",
       "      <td>0.029520</td>\n",
       "    </tr>\n",
       "    <tr>\n",
       "      <th>2</th>\n",
       "      <td>2</td>\n",
       "      <td>0.002316</td>\n",
       "    </tr>\n",
       "    <tr>\n",
       "      <th>3</th>\n",
       "      <td>3</td>\n",
       "      <td>0.054001</td>\n",
       "    </tr>\n",
       "    <tr>\n",
       "      <th>4</th>\n",
       "      <td>4</td>\n",
       "      <td>0.009399</td>\n",
       "    </tr>\n",
       "    <tr>\n",
       "      <th>5</th>\n",
       "      <td>5</td>\n",
       "      <td>0.005655</td>\n",
       "    </tr>\n",
       "    <tr>\n",
       "      <th>6</th>\n",
       "      <td>6</td>\n",
       "      <td>0.016355</td>\n",
       "    </tr>\n",
       "    <tr>\n",
       "      <th>7</th>\n",
       "      <td>7</td>\n",
       "      <td>0.081986</td>\n",
       "    </tr>\n",
       "    <tr>\n",
       "      <th>8</th>\n",
       "      <td>9</td>\n",
       "      <td>0.083931</td>\n",
       "    </tr>\n",
       "    <tr>\n",
       "      <th>9</th>\n",
       "      <td>8</td>\n",
       "      <td>0.011522</td>\n",
       "    </tr>\n",
       "  </tbody>\n",
       "</table>\n",
       "</div>"
      ],
      "text/plain": [
       "   click_id  is_attributed\n",
       "0         0       0.143483\n",
       "1         1       0.029520\n",
       "2         2       0.002316\n",
       "3         3       0.054001\n",
       "4         4       0.009399\n",
       "5         5       0.005655\n",
       "6         6       0.016355\n",
       "7         7       0.081986\n",
       "8         9       0.083931\n",
       "9         8       0.011522"
      ]
     },
     "execution_count": 28,
     "metadata": {},
     "output_type": "execute_result"
    }
   ],
   "source": [
    "sub.head(10)"
   ]
  },
  {
   "cell_type": "markdown",
   "metadata": {},
   "source": [
    "# Hyperopt \n",
    "parameter tuning "
   ]
  },
  {
   "cell_type": "markdown",
   "metadata": {},
   "source": [
    "some error occur should retrain"
   ]
  },
  {
   "cell_type": "code",
   "execution_count": 5,
   "metadata": {},
   "outputs": [],
   "source": [
    "from hyperopt import fmin, tpe, hp, STATUS_OK,Trials\n",
    "import numpy as np \n"
   ]
  },
  {
   "cell_type": "code",
   "execution_count": 8,
   "metadata": {},
   "outputs": [
    {
     "name": "stdout",
     "output_type": "stream",
     "text": [
      "preparing validation datasets...\n"
     ]
    }
   ],
   "source": [
    "print(\"preparing validation datasets...\")\n",
    "dtrain = train_df \n",
    "dvalid = val_df\n",
    "\n",
    "xgtrain = lgb.Dataset(dtrain[predictors].values, label=dtrain[target].values,\n",
    "                      feature_name=predictors,\n",
    "                      categorical_feature=categorical,\n",
    "                      free_raw_data=False\n",
    "                      )\n",
    "xgvalid = lgb.Dataset(dvalid[predictors].values, label=dvalid[target].values,\n",
    "                      feature_name=predictors,\n",
    "                      categorical_feature=categorical,\n",
    "                      free_raw_data=False\n",
    "                      )"
   ]
  },
  {
   "cell_type": "code",
   "execution_count": 20,
   "metadata": {},
   "outputs": [],
   "source": [
    "def lgbm_objective(params):\n",
    "    t1 = time.time()\n",
    "    lgb_params = {\n",
    "        'boosting_type': 'gbdt',\n",
    "        'objective': 'binary',        \n",
    "        'learning_rate': 0.2,\n",
    "        #'is_unbalance': 'true',  #because training data is unbalance (replaced with scale_pos_weight)\n",
    "        'num_leaves': 31,  # we should let it be smaller than 2^(max_depth)\n",
    "        'max_depth': -1,  # -1 means no limit\n",
    "        'min_child_samples': 20,  # Minimum number of data need in a child(min_data_in_leaf)\n",
    "        'max_bin': 255,  # Number of bucketed bin for feature values\n",
    "        'subsample': 0.6,  # Subsample ratio of the training instance.\n",
    "        'subsample_freq': 0,  # frequence of subsample, <=0 means no enable\n",
    "        'colsample_bytree': 0.3,  # Subsample ratio of columns when constructing each tree.\n",
    "        'min_child_weight': 5,  # Minimum sum of instance weight(hessian) needed in a child(leaf)\n",
    "        'subsample_for_bin': 200000,  # Number of samples for constructing bin\n",
    "        'min_split_gain': 0,  # lambda_l1, lambda_l2 and min_gain_to_split to regularization\n",
    "        'reg_alpha': 0,  # L1 regularization term on weights\n",
    "        'reg_lambda': 0,  # L2 regularization term on weights\n",
    "        'nthread': 4,\n",
    "        'verbose': 0,\n",
    "        'metric' : 'auc'\n",
    "    }\n",
    "    \n",
    "    lgb_params.update(params)\n",
    "    evals_results = {}\n",
    "    reg = lgb.train(lgb_params,\n",
    "                    train_set = xgtrain,                    \n",
    "                    valid_sets=[xgtrain, xgvalid], \n",
    "                    valid_names=['train','valid'],\n",
    "                    evals_result = evals_results,\n",
    "                    early_stopping_rounds = 30 ,                    \n",
    "                    verbose_eval = 10) ## \n",
    "    auc = evals_results['valid']['auc'][reg.best_iteration-1]\n",
    "    t2 = time.time()    \n",
    "    sec = int((t2-t1) % 60)\n",
    "    mins = int((t2-t1) // 60)\n",
    "    print('training time : {} min {} sec ...'.format(mins,sec))\n",
    "    print('params:{}'.format(params))\n",
    "    \n",
    "    print('auc:{:.5f}'.format(reg.best_score['valid']['auc']))\n",
    "    print('best iteration:{}'.format(reg.best_iteration))\n",
    "    \n",
    "    print('-------------'*5)\n",
    "    \n",
    "    return {'loss':1-reg.best_score['valid']['auc'], 'status': STATUS_OK }"
   ]
  },
  {
   "cell_type": "code",
   "execution_count": 21,
   "metadata": {},
   "outputs": [],
   "source": [
    "# params = {\n",
    "#     'learning_rate': 0.20,\n",
    "#     #'is_unbalance': 'true', # replaced with scale_pos_weight argument\n",
    "#     'num_leaves': 7,  # 2^max_depth - 1\n",
    "#     'max_depth': 3,  # -1 means no limit\n",
    "#     'min_child_samples': 100,  # Minimum number of data need in a child(min_data_in_leaf)\n",
    "#     'max_bin': 100,  # Number of bucketed bin for feature values\n",
    "#     'subsample': 0.7,  # Subsample ratio of the training instance.\n",
    "#     'subsample_freq': 1,  # frequence of subsample, <=0 means no enable\n",
    "#     'colsample_bytree': 0.9,  # Subsample ratio of columns when constructing each tree.\n",
    "#     'min_child_weight': 0,  # Minimum sum of instance weight(hessian) needed in a child(leaf)\n",
    "#     'scale_pos_weight':200 # because training data is extremely unbalanced \n",
    "# }"
   ]
  },
  {
   "cell_type": "code",
   "execution_count": 24,
   "metadata": {},
   "outputs": [],
   "source": [
    "lgbm_space = {\n",
    "#     'boosting_type'   : hp.choice('boosting_type',['gbdt', 'dart']), ## gbdt \n",
    "    'boosting_type'   : 'gbdt',  \n",
    "    'max_depth'       : hp.choice(\"max_depth\", np.arange(5, 10, dtype=int)),\n",
    "    'num_leaves'      : hp.choice('num_leaves', np.arange(32, 1024,100, dtype=int)), ## no limit     \n",
    "    'learning_rate'   : hp.uniform('learning_rate', 0.1, 0.3),\n",
    "    'num_boost_round' : 1000, ## num_iterations    \n",
    "    'min_data_in_leaf': 100, ## prevent overfit\n",
    "    'max_bin'         : hp.choice('max_bin', np.arange(50,150,10,dtype=int)),\n",
    "    'feature_fraction': hp.uniform('feature_fraction', 0.5, 1.0), ## colsample_bytree\n",
    "    'bagging_fraction': hp.uniform ('bagging_fraction', 0.7, 1), ## subsample, can be used to speed up training/ deal with overfitting\n",
    "    'reg_lambda'      : hp.uniform('reg_lambda',0,0.1),\n",
    "    'gamma'           : hp.uniform('gamma', 0, 0.1),    \n",
    "    'min_child_weight': hp.uniform('min_child_weight', 0, 0.1),\n",
    "    'scale_pos_weight': hp.uniform('scale_pos_weight',100,300) \n",
    "}"
   ]
  },
  {
   "cell_type": "code",
   "execution_count": 25,
   "metadata": {},
   "outputs": [
    {
     "name": "stderr",
     "output_type": "stream",
     "text": [
      "C:\\Program Files\\Anaconda3\\envs\\py36\\lib\\site-packages\\lightgbm\\engine.py:99: UserWarning: Found `num_boost_round` in params. Will use it instead of argument\n",
      "  warnings.warn(\"Found `{}` in params. Will use it instead of argument\".format(alias))\n",
      "C:\\Program Files\\Anaconda3\\envs\\py36\\lib\\site-packages\\lightgbm\\basic.py:1036: UserWarning: Using categorical_feature in Dataset.\n",
      "  warnings.warn('Using categorical_feature in Dataset.')\n"
     ]
    },
    {
     "name": "stdout",
     "output_type": "stream",
     "text": [
      "Training until validation scores don't improve for 30 rounds.\n",
      "[10]\ttrain's auc: 0.98668\tvalid's auc: 0.97584\n",
      "[20]\ttrain's auc: 0.990541\tvalid's auc: 0.975919\n",
      "[30]\ttrain's auc: 0.992543\tvalid's auc: 0.975688\n",
      "[40]\ttrain's auc: 0.994359\tvalid's auc: 0.975026\n",
      "Early stopping, best iteration is:\n",
      "[12]\ttrain's auc: 0.987637\tvalid's auc: 0.976218\n",
      "training time : 9 min 29 sec ...\n",
      "params:{'bagging_fraction': 0.9418634119591669, 'boosting_type': 'gbdt', 'feature_fraction': 0.9224694763154483, 'gamma': 0.023383012404019944, 'learning_rate': 0.2925881693881751, 'max_bin': 80, 'max_depth': 9, 'min_child_weight': 0.03270013703327155, 'min_data_in_leaf': 100, 'num_boost_round': 1000, 'num_leaves': 832, 'reg_lambda': 0.058313249498851076, 'scale_pos_weight': 245.49506819722978}\n",
      "auc:0.97622\n",
      "best iteration:12\n",
      "-----------------------------------------------------------------\n",
      "Training until validation scores don't improve for 30 rounds.\n",
      "[10]\ttrain's auc: 0.978407\tvalid's auc: 0.972383\n",
      "[20]\ttrain's auc: 0.982137\tvalid's auc: 0.975694\n",
      "[30]\ttrain's auc: 0.983906\tvalid's auc: 0.976729\n",
      "[40]\ttrain's auc: 0.984908\tvalid's auc: 0.976875\n",
      "[50]\ttrain's auc: 0.985633\tvalid's auc: 0.977065\n",
      "[60]\ttrain's auc: 0.986305\tvalid's auc: 0.977017\n",
      "[70]\ttrain's auc: 0.986834\tvalid's auc: 0.976994\n",
      "[80]\ttrain's auc: 0.987321\tvalid's auc: 0.976983\n",
      "[90]\ttrain's auc: 0.987734\tvalid's auc: 0.977184\n",
      "[100]\ttrain's auc: 0.98813\tvalid's auc: 0.977183\n",
      "[110]\ttrain's auc: 0.988505\tvalid's auc: 0.977113\n",
      "[120]\ttrain's auc: 0.988799\tvalid's auc: 0.977029\n",
      "Early stopping, best iteration is:\n",
      "[97]\ttrain's auc: 0.988031\tvalid's auc: 0.977234\n",
      "training time : 20 min 33 sec ...\n",
      "params:{'bagging_fraction': 0.8557195996700132, 'boosting_type': 'gbdt', 'feature_fraction': 0.5111031673713594, 'gamma': 0.06332903450104281, 'learning_rate': 0.24354077967784732, 'max_bin': 100, 'max_depth': 5, 'min_child_weight': 0.04456862331140779, 'min_data_in_leaf': 100, 'num_boost_round': 1000, 'num_leaves': 232, 'reg_lambda': 0.011295594820320576, 'scale_pos_weight': 286.6895394826888}\n",
      "auc:0.97723\n",
      "best iteration:97\n",
      "-----------------------------------------------------------------\n",
      "Training until validation scores don't improve for 30 rounds.\n",
      "[10]\ttrain's auc: 0.977596\tvalid's auc: 0.972251\n",
      "[20]\ttrain's auc: 0.980888\tvalid's auc: 0.974929\n",
      "[30]\ttrain's auc: 0.98335\tvalid's auc: 0.976186\n",
      "[40]\ttrain's auc: 0.984573\tvalid's auc: 0.976735\n",
      "[50]\ttrain's auc: 0.985275\tvalid's auc: 0.976979\n",
      "[60]\ttrain's auc: 0.985991\tvalid's auc: 0.976925\n",
      "[70]\ttrain's auc: 0.986515\tvalid's auc: 0.976979\n",
      "[80]\ttrain's auc: 0.986955\tvalid's auc: 0.976861\n",
      "[90]\ttrain's auc: 0.987334\tvalid's auc: 0.976874\n",
      "Early stopping, best iteration is:\n",
      "[64]\ttrain's auc: 0.986145\tvalid's auc: 0.977042\n",
      "training time : 13 min 52 sec ...\n",
      "params:{'bagging_fraction': 0.7725567859724861, 'boosting_type': 'gbdt', 'feature_fraction': 0.7553819937781984, 'gamma': 0.08081839811602665, 'learning_rate': 0.17566886464744907, 'max_bin': 70, 'max_depth': 5, 'min_child_weight': 0.08608818264118352, 'min_data_in_leaf': 100, 'num_boost_round': 1000, 'num_leaves': 32, 'reg_lambda': 0.0758094285371484, 'scale_pos_weight': 259.36246969428953}\n",
      "auc:0.97704\n",
      "best iteration:64\n",
      "-----------------------------------------------------------------\n",
      "Training until validation scores don't improve for 30 rounds.\n",
      "[10]\ttrain's auc: 0.978632\tvalid's auc: 0.973494\n",
      "[20]\ttrain's auc: 0.982194\tvalid's auc: 0.97572\n",
      "[30]\ttrain's auc: 0.984245\tvalid's auc: 0.976674\n",
      "[40]\ttrain's auc: 0.985237\tvalid's auc: 0.976866\n",
      "[50]\ttrain's auc: 0.985981\tvalid's auc: 0.976935\n",
      "[60]\ttrain's auc: 0.986665\tvalid's auc: 0.977002\n",
      "[70]\ttrain's auc: 0.987228\tvalid's auc: 0.977068\n",
      "[80]\ttrain's auc: 0.987742\tvalid's auc: 0.977048\n",
      "[90]\ttrain's auc: 0.988219\tvalid's auc: 0.976958\n",
      "Early stopping, best iteration is:\n",
      "[63]\ttrain's auc: 0.986882\tvalid's auc: 0.97712\n",
      "training time : 13 min 35 sec ...\n",
      "params:{'bagging_fraction': 0.8332235841170544, 'boosting_type': 'gbdt', 'feature_fraction': 0.7131441479187854, 'gamma': 0.09934558847341461, 'learning_rate': 0.22633599042792582, 'max_bin': 100, 'max_depth': 5, 'min_child_weight': 0.03271617839797952, 'min_data_in_leaf': 100, 'num_boost_round': 1000, 'num_leaves': 932, 'reg_lambda': 0.05879980893943202, 'scale_pos_weight': 298.28601157871776}\n",
      "auc:0.97712\n",
      "best iteration:63\n",
      "-----------------------------------------------------------------\n",
      "Training until validation scores don't improve for 30 rounds.\n",
      "[10]\ttrain's auc: 0.979699\tvalid's auc: 0.9727\n",
      "[20]\ttrain's auc: 0.983914\tvalid's auc: 0.976223\n",
      "[30]\ttrain's auc: 0.985894\tvalid's auc: 0.976815\n",
      "[40]\ttrain's auc: 0.986935\tvalid's auc: 0.976685\n",
      "[50]\ttrain's auc: 0.987933\tvalid's auc: 0.97663\n",
      "Early stopping, best iteration is:\n",
      "[24]\ttrain's auc: 0.984872\tvalid's auc: 0.976851\n",
      "training time : 8 min 30 sec ...\n",
      "params:{'bagging_fraction': 0.7034514148492496, 'boosting_type': 'gbdt', 'feature_fraction': 0.5589465920732687, 'gamma': 0.050862825870807184, 'learning_rate': 0.2785374433345953, 'max_bin': 140, 'max_depth': 6, 'min_child_weight': 0.01679903322595996, 'min_data_in_leaf': 100, 'num_boost_round': 1000, 'num_leaves': 932, 'reg_lambda': 0.0959039008457438, 'scale_pos_weight': 147.44711658729003}\n",
      "auc:0.97685\n",
      "best iteration:24\n",
      "-----------------------------------------------------------------\n",
      "Training until validation scores don't improve for 30 rounds.\n",
      "[10]\ttrain's auc: 0.982725\tvalid's auc: 0.975059\n",
      "[20]\ttrain's auc: 0.986278\tvalid's auc: 0.97613\n",
      "[30]\ttrain's auc: 0.988893\tvalid's auc: 0.97704\n",
      "[40]\ttrain's auc: 0.990407\tvalid's auc: 0.977239\n",
      "[50]\ttrain's auc: 0.991594\tvalid's auc: 0.977274\n",
      "[60]\ttrain's auc: 0.992624\tvalid's auc: 0.977086\n",
      "[70]\ttrain's auc: 0.993335\tvalid's auc: 0.977027\n",
      "[80]\ttrain's auc: 0.994115\tvalid's auc: 0.976885\n",
      "Early stopping, best iteration is:\n",
      "[53]\ttrain's auc: 0.991783\tvalid's auc: 0.977311\n",
      "training time : 18 min 11 sec ...\n",
      "params:{'bagging_fraction': 0.8726263347866021, 'boosting_type': 'gbdt', 'feature_fraction': 0.5956233487607114, 'gamma': 0.03460476326033523, 'learning_rate': 0.14292815551277804, 'max_bin': 50, 'max_depth': 9, 'min_child_weight': 0.08742757381264886, 'min_data_in_leaf': 100, 'num_boost_round': 1000, 'num_leaves': 332, 'reg_lambda': 0.08554806209303639, 'scale_pos_weight': 262.3780377689525}\n",
      "auc:0.97731\n",
      "best iteration:53\n",
      "-----------------------------------------------------------------\n",
      "Training until validation scores don't improve for 30 rounds.\n",
      "[10]\ttrain's auc: 0.978362\tvalid's auc: 0.973465\n",
      "[20]\ttrain's auc: 0.980778\tvalid's auc: 0.974954\n",
      "[30]\ttrain's auc: 0.98348\tvalid's auc: 0.976325\n",
      "[40]\ttrain's auc: 0.984789\tvalid's auc: 0.977013\n",
      "[50]\ttrain's auc: 0.985721\tvalid's auc: 0.977315\n",
      "[60]\ttrain's auc: 0.986495\tvalid's auc: 0.977261\n",
      "[70]\ttrain's auc: 0.987137\tvalid's auc: 0.977187\n",
      "[80]\ttrain's auc: 0.987595\tvalid's auc: 0.977237\n",
      "Early stopping, best iteration is:\n",
      "[53]\ttrain's auc: 0.985915\tvalid's auc: 0.977404\n",
      "training time : 13 min 13 sec ...\n",
      "params:{'bagging_fraction': 0.8855401927511638, 'boosting_type': 'gbdt', 'feature_fraction': 0.768518207383359, 'gamma': 0.01882090661707756, 'learning_rate': 0.15596705524524251, 'max_bin': 130, 'max_depth': 7, 'min_child_weight': 0.0636474966655984, 'min_data_in_leaf': 100, 'num_boost_round': 1000, 'num_leaves': 32, 'reg_lambda': 0.07631712450787245, 'scale_pos_weight': 193.68033611247222}\n",
      "auc:0.97740\n",
      "best iteration:53\n",
      "-----------------------------------------------------------------\n",
      "Training until validation scores don't improve for 30 rounds.\n",
      "[10]\ttrain's auc: 0.984341\tvalid's auc: 0.975702\n",
      "[20]\ttrain's auc: 0.988072\tvalid's auc: 0.976817\n",
      "[30]\ttrain's auc: 0.990493\tvalid's auc: 0.976353\n",
      "[40]\ttrain's auc: 0.992172\tvalid's auc: 0.976062\n",
      "[50]\ttrain's auc: 0.993168\tvalid's auc: 0.975985\n",
      "Early stopping, best iteration is:\n",
      "[20]\ttrain's auc: 0.988072\tvalid's auc: 0.976817\n",
      "training time : 10 min 7 sec ...\n",
      "params:{'bagging_fraction': 0.9607787912530515, 'boosting_type': 'gbdt', 'feature_fraction': 0.9442418256005292, 'gamma': 0.09834135706055852, 'learning_rate': 0.17933205514870804, 'max_bin': 70, 'max_depth': 9, 'min_child_weight': 0.06159402807525075, 'min_data_in_leaf': 100, 'num_boost_round': 1000, 'num_leaves': 732, 'reg_lambda': 0.047122445327107465, 'scale_pos_weight': 219.461917628304}\n",
      "auc:0.97682\n",
      "best iteration:20\n",
      "-----------------------------------------------------------------\n",
      "Training until validation scores don't improve for 30 rounds.\n"
     ]
    },
    {
     "name": "stdout",
     "output_type": "stream",
     "text": [
      "[10]\ttrain's auc: 0.981786\tvalid's auc: 0.975533\n",
      "[20]\ttrain's auc: 0.985389\tvalid's auc: 0.976301\n",
      "[30]\ttrain's auc: 0.987518\tvalid's auc: 0.976581\n",
      "[40]\ttrain's auc: 0.988775\tvalid's auc: 0.976488\n",
      "[50]\ttrain's auc: 0.990122\tvalid's auc: 0.976313\n",
      "[60]\ttrain's auc: 0.99116\tvalid's auc: 0.976149\n",
      "Early stopping, best iteration is:\n",
      "[32]\ttrain's auc: 0.987851\tvalid's auc: 0.9767\n",
      "training time : 10 min 36 sec ...\n",
      "params:{'bagging_fraction': 0.8673034855327133, 'boosting_type': 'gbdt', 'feature_fraction': 0.9937630726882096, 'gamma': 0.06957666784570946, 'learning_rate': 0.21851047941543794, 'max_bin': 60, 'max_depth': 7, 'min_child_weight': 0.09238320186876144, 'min_data_in_leaf': 100, 'num_boost_round': 1000, 'num_leaves': 132, 'reg_lambda': 0.08387379082311801, 'scale_pos_weight': 236.46637986406625}\n",
      "auc:0.97670\n",
      "best iteration:32\n",
      "-----------------------------------------------------------------\n",
      "Training until validation scores don't improve for 30 rounds.\n",
      "[10]\ttrain's auc: 0.979403\tvalid's auc: 0.973967\n",
      "[20]\ttrain's auc: 0.983414\tvalid's auc: 0.976482\n",
      "[30]\ttrain's auc: 0.985426\tvalid's auc: 0.976895\n",
      "[40]\ttrain's auc: 0.986649\tvalid's auc: 0.976978\n",
      "[50]\ttrain's auc: 0.987506\tvalid's auc: 0.97689\n",
      "Early stopping, best iteration is:\n",
      "[27]\ttrain's auc: 0.984862\tvalid's auc: 0.977058\n",
      "training time : 8 min 16 sec ...\n",
      "params:{'bagging_fraction': 0.798544649263212, 'boosting_type': 'gbdt', 'feature_fraction': 0.8762211140298188, 'gamma': 0.0018849765878637293, 'learning_rate': 0.195679831063676, 'max_bin': 80, 'max_depth': 6, 'min_child_weight': 0.0330856200960472, 'min_data_in_leaf': 100, 'num_boost_round': 1000, 'num_leaves': 932, 'reg_lambda': 0.030386851869317645, 'scale_pos_weight': 202.63115041948993}\n",
      "auc:0.97706\n",
      "best iteration:27\n",
      "-----------------------------------------------------------------\n"
     ]
    }
   ],
   "source": [
    "trials = Trials()\n",
    "best =fmin(fn = lgbm_objective,\n",
    "           space = lgbm_space,\n",
    "           algo = tpe.suggest,\n",
    "           trials = trials,\n",
    "           max_evals = 10\n",
    "           )"
   ]
  },
  {
   "cell_type": "code",
   "execution_count": 32,
   "metadata": {},
   "outputs": [
    {
     "data": {
      "text/plain": [
       "0.97740368948879375"
      ]
     },
     "execution_count": 32,
     "metadata": {},
     "output_type": "execute_result"
    }
   ],
   "source": [
    "1-np.min(trials.losses())"
   ]
  },
  {
   "cell_type": "markdown",
   "metadata": {},
   "source": [
    "* best AUC : 0.9774"
   ]
  },
  {
   "cell_type": "code",
   "execution_count": 35,
   "metadata": {},
   "outputs": [],
   "source": [
    "best_params ={\n",
    "    'bagging_fraction': 0.8855401927511638, \n",
    "    'boosting_type': 'gbdt',\n",
    "    'feature_fraction': 0.768518207383359,\n",
    "    'gamma': 0.01882090661707756, \n",
    "    'learning_rate': 0.15596705524524251, \n",
    "    'max_bin': 130,\n",
    "    'max_depth': 7,\n",
    "    'min_child_weight': 0.0636474966655984,\n",
    "    'min_data_in_leaf': 100,\n",
    "    'num_boost_round': 1000, \n",
    "    'num_leaves': 32, \n",
    "    'reg_lambda': 0.07631712450787245, \n",
    "    'scale_pos_weight': 193.68033611247222}"
   ]
  },
  {
   "cell_type": "code",
   "execution_count": 36,
   "metadata": {},
   "outputs": [
    {
     "name": "stdout",
     "output_type": "stream",
     "text": [
      "preparing validation datasets\n"
     ]
    },
    {
     "name": "stderr",
     "output_type": "stream",
     "text": [
      "C:\\Program Files\\Anaconda3\\envs\\py36\\lib\\site-packages\\lightgbm\\engine.py:99: UserWarning: Found `num_boost_round` in params. Will use it instead of argument\n",
      "  warnings.warn(\"Found `{}` in params. Will use it instead of argument\".format(alias))\n",
      "C:\\Program Files\\Anaconda3\\envs\\py36\\lib\\site-packages\\lightgbm\\basic.py:1036: UserWarning: Using categorical_feature in Dataset.\n",
      "  warnings.warn('Using categorical_feature in Dataset.')\n",
      "C:\\Program Files\\Anaconda3\\envs\\py36\\lib\\site-packages\\lightgbm\\basic.py:681: UserWarning: categorical_feature in param dict is overrided.\n",
      "  warnings.warn('categorical_feature in param dict is overrided.')\n"
     ]
    },
    {
     "name": "stdout",
     "output_type": "stream",
     "text": [
      "Training until validation scores don't improve for 30 rounds.\n",
      "[10]\ttrain's auc: 0.978642\tvalid's auc: 0.973756\n",
      "[20]\ttrain's auc: 0.981271\tvalid's auc: 0.975146\n",
      "[30]\ttrain's auc: 0.983788\tvalid's auc: 0.976401\n",
      "[40]\ttrain's auc: 0.985128\tvalid's auc: 0.977054\n",
      "[50]\ttrain's auc: 0.986005\tvalid's auc: 0.97733\n",
      "[60]\ttrain's auc: 0.986786\tvalid's auc: 0.977348\n",
      "[70]\ttrain's auc: 0.987416\tvalid's auc: 0.977352\n",
      "[80]\ttrain's auc: 0.987921\tvalid's auc: 0.977314\n",
      "[90]\ttrain's auc: 0.98833\tvalid's auc: 0.977296\n",
      "[100]\ttrain's auc: 0.988752\tvalid's auc: 0.977337\n",
      "Early stopping, best iteration is:\n",
      "[72]\ttrain's auc: 0.987526\tvalid's auc: 0.977402\n",
      "\n",
      "Model Report\n",
      "bst1.best_iteration:  72\n",
      "auc: 0.977402363092\n"
     ]
    }
   ],
   "source": [
    "(bst,best_iteration) = lgb_modelfit_nocv(best_params, \n",
    "                        train_df, \n",
    "                        val_df, \n",
    "                        predictors, \n",
    "                        target, \n",
    "                        objective='binary', \n",
    "                        metrics='auc',\n",
    "                        early_stopping_rounds=30, \n",
    "                        verbose_eval=True, \n",
    "                        num_boost_round=1000, \n",
    "                        categorical_features=categorical)"
   ]
  },
  {
   "cell_type": "markdown",
   "metadata": {},
   "source": [
    "# sub2"
   ]
  },
  {
   "cell_type": "code",
   "execution_count": 37,
   "metadata": {},
   "outputs": [
    {
     "name": "stdout",
     "output_type": "stream",
     "text": [
      "Plot feature importances...\n"
     ]
    },
    {
     "data": {
      "image/png": "[encoded data removed]",
      "text/plain": [
       "<matplotlib.figure.Figure at 0x3b590b23c8>"
      ]
     },
     "metadata": {},
     "output_type": "display_data"
    }
   ],
   "source": [
    "print('Plot feature importances...')\n",
    "ax = lgb.plot_importance(bst, max_num_features=100)"
   ]
  },
  {
   "cell_type": "code",
   "execution_count": 38,
   "metadata": {},
   "outputs": [],
   "source": [
    "bst.save_model('../output/model/lgb_opt_val_9774.txt')"
   ]
  },
  {
   "cell_type": "code",
   "execution_count": 40,
   "metadata": {},
   "outputs": [
    {
     "name": "stdout",
     "output_type": "stream",
     "text": [
      "Predicting...\n"
     ]
    }
   ],
   "source": [
    "sub = pd.DataFrame()\n",
    "sub['click_id'] = test_df['click_id'].astype(int)\n",
    "\n",
    "print(\"Predicting...\")\n",
    "sub['is_attributed'] = bst.predict(test_df[predictors],num_iteration=best_iteration)"
   ]
  },
  {
   "cell_type": "code",
   "execution_count": 46,
   "metadata": {},
   "outputs": [
    {
     "name": "stdout",
     "output_type": "stream",
     "text": [
      "   click_id  is_attributed\n",
      "0         0      1.2523467\n",
      "1         1      0.6713760\n",
      "2         2      0.1258954\n",
      "3         3      0.9694611\n",
      "4         4      0.4608780\n",
      "writing...\n"
     ]
    }
   ],
   "source": [
    "rank = sub.is_attributed.rank(method='dense')\n",
    "if rank.max() >=1e8:\n",
    "    rank /= 1e8\n",
    "    ff = '.8f'\n",
    "else:\n",
    "    rank /= 1e7\n",
    "    ff = '.7f'\n",
    "final_sub = pd.DataFrame() \n",
    "final_sub['click_id'] = sub.click_id\n",
    "final_sub['is_attributed'] = rank\n",
    "pd.options.display.float_format = ('{:,'+ff+'}').format\n",
    "print( final_sub.head() )\n",
    "print('writing...')\n",
    "fileno = 2\n",
    "final_sub.to_csv('../output/sub_it{}.csv.gz'.format(fileno),index=False,compression='gzip',float_format='%'+ff)\n",
    "print('finished!')"
   ]
  }
 ],
 "metadata": {
  "anaconda-cloud": {},
  "kernelspec": {
   "display_name": "Python [conda env:py36]",
   "language": "python",
   "name": "conda-env-py36-py"
  },
  "language_info": {
   "codemirror_mode": {
    "name": "ipython",
    "version": 3
   },
   "file_extension": ".py",
   "mimetype": "text/x-python",
   "name": "python",
   "nbconvert_exporter": "python",
   "pygments_lexer": "ipython3",
   "version": "3.6.3"
  }
 },
 "nbformat": 4,
 "nbformat_minor": 1
}
