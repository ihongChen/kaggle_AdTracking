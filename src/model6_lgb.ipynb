{
 "cells": [
  {
   "cell_type": "code",
   "execution_count": 1,
   "metadata": {},
   "outputs": [
    {
     "name": "stdout",
     "output_type": "stream",
     "text": [
      "Collecting kaggle\n",
      "  Downloading https://files.pythonhosted.org/packages/d0/79/b0c533af7a8ae22c3a8d3af54e38095119cf44bc41026770217680085fcf/kaggle-1.3.4.tar.gz\n",
      "Collecting urllib3>=1.15 (from kaggle)\n",
      "  Downloading https://files.pythonhosted.org/packages/63/cb/6965947c13a94236f6d4b8223e21beb4d576dc72e8130bd7880f600839b8/urllib3-1.22-py2.py3-none-any.whl (132kB)\n",
      "Requirement already satisfied (use --upgrade to upgrade): six>=1.10 in c:\\program files\\anaconda3\\lib\\site-packages (from kaggle)\n",
      "Requirement already satisfied (use --upgrade to upgrade): certifi in c:\\program files\\anaconda3\\lib\\site-packages (from kaggle)\n",
      "Requirement already satisfied (use --upgrade to upgrade): python-dateutil in c:\\program files\\anaconda3\\lib\\site-packages (from kaggle)\n",
      "Building wheels for collected packages: kaggle\n",
      "  Running setup.py bdist_wheel for kaggle: started\n",
      "  Running setup.py bdist_wheel for kaggle: finished with status 'done'\n",
      "  Stored in directory: C:\\Users\\116952\\AppData\\Local\\pip\\Cache\\wheels\\a4\\29\\3e\\1065ec22dad7255300b56c56611abeb064300be05ae4bce5ed\n",
      "Successfully built kaggle\n",
      "Installing collected packages: urllib3, kaggle\n",
      "Successfully installed kaggle-1.3.4 urllib3-1.22\n"
     ]
    }
   ],
   "source": [
    "!pip install kaggle "
   ]
  },
  {
   "cell_type": "code",
   "execution_count": 8,
   "metadata": {},
   "outputs": [
    {
     "name": "stdout",
     "output_type": "stream",
     "text": [
      "competition is now set to: talkingdata-adtracking-fraud-detection\n"
     ]
    }
   ],
   "source": [
    "!kaggle config set -n competition -v talkingdata-adtracking-fraud-detection"
   ]
  },
  {
   "cell_type": "code",
   "execution_count": null,
   "metadata": {},
   "outputs": [],
   "source": [
    "!"
   ]
  },
  {
   "cell_type": "markdown",
   "metadata": {},
   "source": [
    "this scrip based on feature6.ipynb\n",
    "\n",
    "train on day8, validate on day9 with/wo ip<126420\n",
    "\n",
    "\n",
    "- fine tune parameters(65)\n",
    "\n",
    "\n",
    "1. train: day8 ,val: day9 ip<126420\n",
    "    \n",
    "    \n",
    "    "
   ]
  },
  {
   "cell_type": "markdown",
   "metadata": {},
   "source": [
    "~~2. train: day8 + day9 (first 10 milion) ip<126420, val:day9 others ip<126420~~    \n",
    "~~3. train: day8 + day9 (first 10 milion), val: day9 others ip<126420~~    \n",
    "~~4. train: day8 + day9 (first 30 milion), val: day9 others & ip<126420~~  \n",
    "    "
   ]
  },
  {
   "cell_type": "code",
   "execution_count": 9,
   "metadata": {},
   "outputs": [],
   "source": [
    "import pandas as pd \n",
    "import gc\n",
    "import numpy as np \n",
    "import matplotlib.pyplot as plt\n",
    "%matplotlib inline\n",
    "import lightgbm as lgb\n",
    "import time"
   ]
  },
  {
   "cell_type": "code",
   "execution_count": 10,
   "metadata": {},
   "outputs": [
    {
     "name": "stdout",
     "output_type": "stream",
     "text": [
      "['/test_df', '/train_df', '/valid_df']\n"
     ]
    }
   ],
   "source": [
    "with pd.HDFStore('../input/feat/feat66_trn_day8_val_day9.h5') as store:\n",
    "    print(store.keys())\n",
    "    train_df = store['train_df']\n",
    "    val_df = store['valid_df']\n",
    "    test_df = store['test_df']"
   ]
  },
  {
   "cell_type": "code",
   "execution_count": 11,
   "metadata": {},
   "outputs": [
    {
     "name": "stdout",
     "output_type": "stream",
     "text": [
      "shape of train:(62360949, 31)\n",
      "shape of val  :(62832642, 31)\n",
      "shape of test :(18790469, 31)\n"
     ]
    }
   ],
   "source": [
    "print('shape of train:{}'.format(train_df.shape))\n",
    "print('shape of val  :{}'.format(val_df.shape))\n",
    "print('shape of test :{}'.format(test_df.shape))"
   ]
  },
  {
   "cell_type": "code",
   "execution_count": 12,
   "metadata": {},
   "outputs": [],
   "source": [
    "def lgb_modelfit_nocv(params, dtrain, dvalid, predictors, target='target', objective='binary', metrics='auc',\n",
    "                 feval=None, early_stopping_rounds=20, num_boost_round=3000, verbose_eval=10, categorical_features=None):\n",
    "    lgb_params = {\n",
    "        'boosting_type': 'gbdt',\n",
    "        'objective': objective,\n",
    "        'metric':metrics,\n",
    "        'learning_rate': 0.2,\n",
    "        #'is_unbalance': 'true',  #because training data is unbalance (replaced with scale_pos_weight)\n",
    "        'num_leaves': 31,  # we should let it be smaller than 2^(max_depth)\n",
    "        'max_depth': -1,  # -1 means no limit\n",
    "        'min_child_samples': 20,  # Minimum number of data need in a child(min_data_in_leaf)\n",
    "        'max_bin': 255,  # Number of bucketed bin for feature values\n",
    "        'subsample': 0.6,  # Subsample ratio of the training instance.\n",
    "        'subsample_freq': 0,  # frequence of subsample, <=0 means no enable\n",
    "        'colsample_bytree': 0.3,  # Subsample ratio of columns when constructing each tree.\n",
    "        'min_child_weight': 0,  # Minimum sum of instance weight(hessian) needed in a child(leaf)\n",
    "        'subsample_for_bin': 200000,  # Number of samples for constructing bin\n",
    "        'min_split_gain': 0,  # lambda_l1, lambda_l2 and min_gain_to_split to regularization\n",
    "        'reg_alpha': 0,  # L1 regularization term on weights\n",
    "        'reg_lambda': 0,  # L2 regularization term on weights\n",
    "        'nthread': 4,\n",
    "        'verbose': 0,\n",
    "        'metric':metrics\n",
    "    }\n",
    "\n",
    "    lgb_params.update(params)\n",
    "\n",
    "    print(\"preparing validation datasets\")\n",
    "    dtrain_np = dtrain[predictors].values.astype(np.float32)\n",
    "    dtrain_label = dtrain[target].values.astype(np.float32)\n",
    "    del dtrain;gc.collect()\n",
    "    \n",
    "    dvalid_np = dvalid[predictors].values.astype(np.float32)\n",
    "    dvalid_label = dvalid[target].values.astype(np.float32)\n",
    "    del dvalid; gc.collect()\n",
    "    \n",
    "    print(\"lgb dataset...\")\n",
    "    xgtrain = lgb.Dataset(dtrain_np, label=dtrain_label,\n",
    "                          feature_name=predictors,\n",
    "                          categorical_feature=categorical_features\n",
    "                          )\n",
    "    xgvalid = lgb.Dataset(dvalid_np, label=dvalid_label,\n",
    "                          feature_name=predictors,\n",
    "                          categorical_feature=categorical_features\n",
    "                          )\n",
    "\n",
    "    evals_results = {}\n",
    "    print('start training...')\n",
    "    bst1 = lgb.train(lgb_params, \n",
    "                     xgtrain, \n",
    "                     valid_sets=[xgvalid], \n",
    "                     valid_names=['valid'], \n",
    "                     evals_result=evals_results, \n",
    "                     num_boost_round=num_boost_round,\n",
    "                     early_stopping_rounds=early_stopping_rounds,\n",
    "                     verbose_eval=10, \n",
    "                     feval=feval)\n",
    "\n",
    "    print(\"\\nModel Report\")\n",
    "    print(\"bst1.best_iteration: \", bst1.best_iteration)\n",
    "    print(metrics+\":\", evals_results['valid'][metrics][bst1.best_iteration-1])\n",
    "\n",
    "    return (bst1,bst1.best_iteration)"
   ]
  },
  {
   "cell_type": "code",
   "execution_count": 13,
   "metadata": {},
   "outputs": [],
   "source": [
    "# train_df = train_df.append(val_df.head(30000000))\n",
    "# val_df = val_df.iloc[30000000:]\n",
    "val_df = val_df[val_df.ip< 126420]\n",
    "# gc.collect()"
   ]
  },
  {
   "cell_type": "code",
   "execution_count": 14,
   "metadata": {},
   "outputs": [
    {
     "name": "stdout",
     "output_type": "stream",
     "text": [
      "shape of train:(62360949, 31)\n",
      "shape of val  :(51222594, 31)\n",
      "shape of test :(18790469, 31)\n"
     ]
    }
   ],
   "source": [
    "print('shape of train:{}'.format(train_df.shape))\n",
    "print('shape of val  :{}'.format(val_df.shape))\n",
    "print('shape of test :{}'.format(test_df.shape))"
   ]
  },
  {
   "cell_type": "code",
   "execution_count": 15,
   "metadata": {},
   "outputs": [
    {
     "data": {
      "text/plain": [
       "Index(['app', 'app_cumcnt_ip_device_os', 'app_mean_target', 'app_nunique_ip',\n",
       "       'app_nunique_ip_device_os', 'channel', 'channel_cnt_ip_app',\n",
       "       'channel_cnt_ip_day_hour', 'channel_mean_target', 'channel_nunique_ip',\n",
       "       'click_id', 'click_time', 'day', 'device', 'hour', 'hour_mean_target',\n",
       "       'ip', 'ip_mean_target', 'is_attributed', 'next_click_dt', 'os',\n",
       "       'device_cnt_ip_app_os_channel_day_hour', 'channel_cnt_ip_app_os',\n",
       "       'hour_nunique_ip_day', 'os_nunique_ip_app', 'device_nunique_ip',\n",
       "       'shift_iptcnt', 'next_click_dt_ia', 'next_click_iodac',\n",
       "       'channel_cnt_ip_device', 'device_cnt_app_channel'],\n",
       "      dtype='object')"
      ]
     },
     "execution_count": 15,
     "metadata": {},
     "output_type": "execute_result"
    }
   ],
   "source": [
    "train_df.columns"
   ]
  },
  {
   "cell_type": "code",
   "execution_count": 16,
   "metadata": {},
   "outputs": [
    {
     "name": "stdout",
     "output_type": "stream",
     "text": [
      "numbers of features 27\n"
     ]
    },
    {
     "data": {
      "text/plain": [
       "['app',\n",
       " 'app_cumcnt_ip_device_os',\n",
       " 'app_mean_target',\n",
       " 'app_nunique_ip',\n",
       " 'app_nunique_ip_device_os',\n",
       " 'channel',\n",
       " 'channel_cnt_ip_app',\n",
       " 'channel_cnt_ip_day_hour',\n",
       " 'channel_mean_target',\n",
       " 'channel_nunique_ip',\n",
       " 'device',\n",
       " 'hour',\n",
       " 'hour_mean_target',\n",
       " 'ip',\n",
       " 'ip_mean_target',\n",
       " 'next_click_dt',\n",
       " 'os',\n",
       " 'device_cnt_ip_app_os_channel_day_hour',\n",
       " 'channel_cnt_ip_app_os',\n",
       " 'hour_nunique_ip_day',\n",
       " 'os_nunique_ip_app',\n",
       " 'device_nunique_ip',\n",
       " 'shift_iptcnt',\n",
       " 'next_click_dt_ia',\n",
       " 'next_click_iodac',\n",
       " 'channel_cnt_ip_device',\n",
       " 'device_cnt_app_channel']"
      ]
     },
     "execution_count": 16,
     "metadata": {},
     "output_type": "execute_result"
    }
   ],
   "source": [
    "target = 'is_attributed'\n",
    "categorical = ['app', 'device', 'os', 'channel', 'hour']#,'day']\n",
    "\n",
    "predictors = list(val_df.columns)\n",
    "remove_col = ['click_id','click_time','is_attributed','day']\n",
    "predictors = [e for e in predictors if e not in remove_col]\n",
    "\n",
    "print('numbers of features', len(predictors))\n",
    "predictors"
   ]
  },
  {
   "cell_type": "code",
   "execution_count": 33,
   "metadata": {},
   "outputs": [],
   "source": [
    "params = {\n",
    "    'learning_rate': 0.2,\n",
    "    #'is_unbalance': 'true', # replaced with scale_pos_weight argument\n",
    "    'num_leaves': 7,  # 2^max_depth - 1    \n",
    "    'max_depth': 3,  # -1 means no limit\n",
    "#     'max_depth' : 4,\n",
    "    'min_child_samples': 100,  # Minimum number of data need in a child(min_data_in_leaf)\n",
    "    'max_bin': 100,  # Number of bucketed bin for feature values\n",
    "    'subsample': 0.7,  # Subsample ratio of the training instance.\n",
    "    'subsample_freq': 1,  # frequence of subsample, <=0 means no enable\n",
    "    'colsample_bytree': 0.9,  # Subsample ratio of columns when constructing each tree.\n",
    "#     'colsample_bytree': 0.7,\n",
    "    'min_child_weight': 0,  # Minimum sum of instance weight(hessian) needed in a child(leaf)\n",
    "    'scale_pos_weight': 200 # because training data is extremely unbalanced \n",
    "#     'scale_pos_weight': 99.7\n",
    "    \n",
    "}"
   ]
  },
  {
   "cell_type": "code",
   "execution_count": 34,
   "metadata": {},
   "outputs": [
    {
     "name": "stdout",
     "output_type": "stream",
     "text": [
      "preparing validation datasets\n",
      "lgb dataset...\n",
      "start training...\n"
     ]
    },
    {
     "name": "stderr",
     "output_type": "stream",
     "text": [
      "C:\\Program Files\\Anaconda3\\envs\\py36\\lib\\site-packages\\lightgbm\\basic.py:1036: UserWarning: Using categorical_feature in Dataset.\n",
      "  warnings.warn('Using categorical_feature in Dataset.')\n",
      "C:\\Program Files\\Anaconda3\\envs\\py36\\lib\\site-packages\\lightgbm\\basic.py:681: UserWarning: categorical_feature in param dict is overrided.\n",
      "  warnings.warn('categorical_feature in param dict is overrided.')\n"
     ]
    },
    {
     "name": "stdout",
     "output_type": "stream",
     "text": [
      "Training until validation scores don't improve for 30 rounds.\n",
      "[10]\tvalid's auc: 0.941645\n",
      "[20]\tvalid's auc: 0.95353\n",
      "[30]\tvalid's auc: 0.958732\n",
      "[40]\tvalid's auc: 0.961208\n",
      "[50]\tvalid's auc: 0.962854\n",
      "[60]\tvalid's auc: 0.963823\n",
      "[70]\tvalid's auc: 0.964513\n",
      "[80]\tvalid's auc: 0.965102\n",
      "[90]\tvalid's auc: 0.965714\n",
      "[100]\tvalid's auc: 0.966036\n",
      "[110]\tvalid's auc: 0.966358\n",
      "[120]\tvalid's auc: 0.966594\n",
      "[130]\tvalid's auc: 0.966751\n",
      "[140]\tvalid's auc: 0.966872\n",
      "[150]\tvalid's auc: 0.966943\n",
      "[160]\tvalid's auc: 0.967015\n",
      "[170]\tvalid's auc: 0.967119\n",
      "[180]\tvalid's auc: 0.967238\n",
      "[190]\tvalid's auc: 0.967385\n",
      "[200]\tvalid's auc: 0.967421\n",
      "[210]\tvalid's auc: 0.967461\n",
      "[220]\tvalid's auc: 0.967445\n",
      "[230]\tvalid's auc: 0.967452\n",
      "Early stopping, best iteration is:\n",
      "[208]\tvalid's auc: 0.96748\n",
      "\n",
      "Model Report\n",
      "bst1.best_iteration:  208\n",
      "auc: 0.967480130685\n",
      "training time :3433.66 sec\n"
     ]
    }
   ],
   "source": [
    "# print(\"Training...\")\n",
    "start_time = time.time()\n",
    "(bst,best_iteration) = lgb_modelfit_nocv(params, \n",
    "                        train_df, \n",
    "                        val_df, \n",
    "                        predictors, \n",
    "                        target, \n",
    "                        objective='binary',  \n",
    "                        metrics='auc',\n",
    "                        early_stopping_rounds=30, \n",
    "                        verbose_eval=True, \n",
    "                        num_boost_round=1000,  \n",
    "                        categorical_features=categorical)\n",
    "end_time = time.time()\n",
    "print('training time :{:.2f} sec'.format(end_time-start_time))"
   ]
  },
  {
   "cell_type": "markdown",
   "metadata": {},
   "source": [
    "____"
   ]
  },
  {
   "cell_type": "markdown",
   "metadata": {},
   "source": [
    "# Sub \n",
    " "
   ]
  },
  {
   "cell_type": "code",
   "execution_count": 35,
   "metadata": {},
   "outputs": [
    {
     "name": "stdout",
     "output_type": "stream",
     "text": [
      "Plot feature importances...\n"
     ]
    },
    {
     "data": {
      "image/png": "[encoded data removed]",
      "text/plain": [
       "<matplotlib.figure.Figure at 0x3accf80f60>"
      ]
     },
     "metadata": {},
     "output_type": "display_data"
    }
   ],
   "source": [
    "print('Plot feature importances...')\n",
    "ax = lgb.plot_importance(bst, max_num_features=100,importance_type='gain')"
   ]
  },
  {
   "cell_type": "code",
   "execution_count": 42,
   "metadata": {},
   "outputs": [],
   "source": [
    "feat_imp = pd.DataFrame({'f':bst.feature_name(),\n",
    "                         'split':bst.feature_importance(importance_type='split'),\n",
    "                         'gain':bst.feature_importance(importance_type='gain')}).sort_values(by='split',ascending=False)\n",
    "feat_imp.to_csv('../find/feat_impact06_6.csv',index=False)"
   ]
  },
  {
   "cell_type": "code",
   "execution_count": 32,
   "metadata": {},
   "outputs": [
    {
     "name": "stderr",
     "output_type": "stream",
     "text": [
      "Traceback (most recent call last):\n",
      "  File \"c:\\program files\\anaconda3\\lib\\runpy.py\", line 184, in _run_module_as_main\n",
      "    \"__main__\", mod_spec)\n",
      "  File \"c:\\program files\\anaconda3\\lib\\runpy.py\", line 85, in _run_code\n",
      "    exec(code, run_globals)\n",
      "  File \"C:\\Program Files\\Anaconda3\\Scripts\\kaggle.exe\\__main__.py\", line 9, in <module>\n",
      "  File \"c:\\program files\\anaconda3\\lib\\site-packages\\kaggle\\cli.py\", line 37, in main\n",
      "    out = args.func(**command_args)\n",
      "  File \"c:\\program files\\anaconda3\\lib\\site-packages\\kaggle\\api\\kaggle_api_extended.py\", line 195, in competition_submit\n",
      "    content_length=os.path.getsize(file),\n",
      "  File \"c:\\program files\\anaconda3\\lib\\genericpath.py\", line 50, in getsize\n",
      "    return os.stat(filename).st_size\n",
      "FileNotFoundError: [WinError 2] 系統找不到指定的檔案。: 'sub_it9'\n"
     ]
    }
   ],
   "source": [
    "# !kaggle competitions submit -c talkingdata-adtracking-fraud-detection -f sub_it9 -m \"test\""
   ]
  },
  {
   "cell_type": "code",
   "execution_count": 37,
   "metadata": {},
   "outputs": [],
   "source": [
    "bst.save_model('../output/model/lgb_val_9674_on_day9.txt')"
   ]
  },
  {
   "cell_type": "code",
   "execution_count": 38,
   "metadata": {},
   "outputs": [
    {
     "name": "stdout",
     "output_type": "stream",
     "text": [
      "Predicting...\n",
      "complete\n"
     ]
    }
   ],
   "source": [
    "sub = pd.DataFrame()\n",
    "sub['click_id'] = test_df['click_id'].astype(int)\n",
    "\n",
    "print(\"Predicting...\")\n",
    "sub['is_attributed'] = bst.predict(test_df[predictors],num_iteration=best_iteration)\n",
    "print('complete')    "
   ]
  },
  {
   "cell_type": "code",
   "execution_count": 39,
   "metadata": {},
   "outputs": [
    {
     "data": {
      "text/html": [
       "<div>\n",
       "<style>\n",
       "    .dataframe thead tr:only-child th {\n",
       "        text-align: right;\n",
       "    }\n",
       "\n",
       "    .dataframe thead th {\n",
       "        text-align: left;\n",
       "    }\n",
       "\n",
       "    .dataframe tbody tr th {\n",
       "        vertical-align: top;\n",
       "    }\n",
       "</style>\n",
       "<table border=\"1\" class=\"dataframe\">\n",
       "  <thead>\n",
       "    <tr style=\"text-align: right;\">\n",
       "      <th></th>\n",
       "      <th>click_id</th>\n",
       "      <th>is_attributed</th>\n",
       "    </tr>\n",
       "  </thead>\n",
       "  <tbody>\n",
       "    <tr>\n",
       "      <th>125193591</th>\n",
       "      <td>0</td>\n",
       "      <td>0.189726</td>\n",
       "    </tr>\n",
       "    <tr>\n",
       "      <th>125193592</th>\n",
       "      <td>1</td>\n",
       "      <td>0.031079</td>\n",
       "    </tr>\n",
       "    <tr>\n",
       "      <th>125193593</th>\n",
       "      <td>2</td>\n",
       "      <td>0.004153</td>\n",
       "    </tr>\n",
       "    <tr>\n",
       "      <th>125193594</th>\n",
       "      <td>3</td>\n",
       "      <td>0.035565</td>\n",
       "    </tr>\n",
       "    <tr>\n",
       "      <th>125193595</th>\n",
       "      <td>4</td>\n",
       "      <td>0.040828</td>\n",
       "    </tr>\n",
       "  </tbody>\n",
       "</table>\n",
       "</div>"
      ],
      "text/plain": [
       "           click_id  is_attributed\n",
       "125193591         0       0.189726\n",
       "125193592         1       0.031079\n",
       "125193593         2       0.004153\n",
       "125193594         3       0.035565\n",
       "125193595         4       0.040828"
      ]
     },
     "execution_count": 39,
     "metadata": {},
     "output_type": "execute_result"
    }
   ],
   "source": [
    "sub.head()"
   ]
  },
  {
   "cell_type": "code",
   "execution_count": 40,
   "metadata": {},
   "outputs": [],
   "source": [
    "sub['click_id'] = sub.click_id.astype('uint32')\n",
    "sub['is_attributed'] = sub.is_attributed.astype('float16')"
   ]
  },
  {
   "cell_type": "code",
   "execution_count": 41,
   "metadata": {},
   "outputs": [
    {
     "name": "stdout",
     "output_type": "stream",
     "text": [
      "writing...\n",
      "finished\n"
     ]
    }
   ],
   "source": [
    "print('writing...')\n",
    "fileno = 13\n",
    "sub.to_csv('../output/sub_it{}.csv.gz'.format(fileno),index=False,compression='gzip')\n",
    "print('finished')"
   ]
  },
  {
   "cell_type": "markdown",
   "metadata": {},
   "source": [
    "_____"
   ]
  }
 ],
 "metadata": {
  "anaconda-cloud": {},
  "kernelspec": {
   "display_name": "Python [conda env:py36]",
   "language": "python",
   "name": "conda-env-py36-py"
  },
  "language_info": {
   "codemirror_mode": {
    "name": "ipython",
    "version": 3
   },
   "file_extension": ".py",
   "mimetype": "text/x-python",
   "name": "python",
   "nbconvert_exporter": "python",
   "pygments_lexer": "ipython3",
   "version": "3.6.3"
  }
 },
 "nbformat": 4,
 "nbformat_minor": 1
}
