{
 "cells": [
  {
   "cell_type": "code",
   "execution_count": 1,
   "metadata": {},
   "outputs": [],
   "source": [
    "import pandas as pd \n",
    "import numpy as np \n",
    "import matplotlib.pyplot as plt \n",
    "%matplotlib inline \n",
    "import gc,time"
   ]
  },
  {
   "cell_type": "code",
   "execution_count": 2,
   "metadata": {},
   "outputs": [
    {
     "name": "stdout",
     "output_type": "stream",
     "text": [
      "['/test_df', '/train_df']\n"
     ]
    }
   ],
   "source": [
    "with pd.HDFStore('../input/raw_data.h5') as store:\n",
    "    print(store.keys())\n",
    "    test_df = store['test_df']\n",
    "    train_df = store['train_df']"
   ]
  },
  {
   "cell_type": "code",
   "execution_count": 3,
   "metadata": {},
   "outputs": [],
   "source": [
    "debug = 1\n",
    "if debug:\n",
    "    nrows = 100000\n",
    "    nchunk = 400000\n",
    "    val_size = 25000\n",
    "    frm = nrows - 75000\n",
    "    to = frm + nchunk"
   ]
  },
  {
   "cell_type": "code",
   "execution_count": 4,
   "metadata": {},
   "outputs": [],
   "source": [
    "def encode_agg_feature(trn_df, selcols, groupby, aggregator = 'nunique'):\n",
    "    usecols = [e for e in selcols if e not in  groupby]\n",
    "    if aggregator == 'nunique':        \n",
    "        gp = trn_df[selcols].groupby(groupby)[usecols].nunique().reset_index().\\\n",
    "            rename(columns = {\n",
    "                usecols[-1] : usecols[-1] + '_nunique_' + '_'.join(groupby)\n",
    "            })\n",
    "        df = trn_df.merge(gp, how='left', on=groupby)\n",
    "\n",
    "    elif aggregator == 'cumcount':\n",
    "        gp = trn_df[selcols].groupby(groupby)[usecols].cumcount()\n",
    "        df = trn_df.copy()\n",
    "        df[usecols[-1] + '_cumcnt_' + '_'.join(groupby)] = gp.values\n",
    "    \n",
    "    elif aggregator == 'count':\n",
    "        gp = trn_df[selcols].groupby(groupby)[usecols].count().reset_index().\\\n",
    "            rename(columns = {\n",
    "                usecols[-1] : usecols[-1] + '_cnt_' + '_'.join(groupby)\n",
    "            })\n",
    "        df = trn_df.merge(gp, how='left', on=groupby)\n",
    "    elif aggregator in ['var','mean']:\n",
    "        agg=np.var if aggregator == 'var' else np.mean            \n",
    "        gp = trn_df[selcols].groupby(groupby).agg(agg).reset_index().\\\n",
    "            rename(columns = {\n",
    "                usecols[-1] : usecols[-1] + '_'+ str(aggregator) +'_' + '_'.join(groupby)\n",
    "            })\n",
    "        df = trn_df.merge(gp, how='left', on=groupby)\n",
    "    return df.iloc[:,-1]"
   ]
  },
  {
   "cell_type": "code",
   "execution_count": 5,
   "metadata": {},
   "outputs": [
    {
     "data": {
      "text/plain": [
       "(400000, 9)"
      ]
     },
     "execution_count": 5,
     "metadata": {},
     "output_type": "execute_result"
    }
   ],
   "source": [
    "trn_df = train_df.iloc[frm:to,:].copy()\n",
    "trn_df.shape"
   ]
  },
  {
   "cell_type": "markdown",
   "metadata": {},
   "source": [
    "CV loop to built features \n",
    "- X_tr, X_val\n",
    "- train on X_tr, val on X_val\n",
    "\n",
    "importanta feature \n",
    "\n",
    "#### next click\n",
    "\n",
    "- next click time by ('ip','app','os','device')\n",
    "- next click time 2 by ...\n",
    "- cnt by next click\n",
    "\n",
    "#### feat_base\n",
    "\n",
    "- channel cnt by (ip,day,hour)\n",
    "- channel cnt by (ip,app)\n",
    "- channel nunique by ip\n",
    "- device nunique by ip\n",
    "- app nunique by ip\n",
    "\n",
    "#### mean encode \n",
    "- ip mean target\n",
    "- app mean target \n",
    "- channel mean target \n",
    "- os mean target\n",
    "- device mean target"
   ]
  },
  {
   "cell_type": "code",
   "execution_count": 6,
   "metadata": {},
   "outputs": [
    {
     "data": {
      "text/plain": [
       "65536"
      ]
     },
     "execution_count": 6,
     "metadata": {},
     "output_type": "execute_result"
    }
   ],
   "source": [
    "2**16"
   ]
  },
  {
   "cell_type": "code",
   "execution_count": 7,
   "metadata": {},
   "outputs": [
    {
     "name": "stdout",
     "output_type": "stream",
     "text": [
      "next click time by(ip,app,os,device)...\n",
      "shift 1...\n",
      "shift 2...\n",
      "timedelta to uint16...\n",
      "cnt by next click...\n",
      "complete\n"
     ]
    }
   ],
   "source": [
    "trn_df_tmp =trn_df.copy()\n",
    "print('next click time by(ip,app,os,device)...')\n",
    "gp = trn_df_tmp.groupby(['ip','app','os','device'])\n",
    "print('shift 1...')\n",
    "trn_df_tmp['shift_1'] = gp.click_time.shift(-1)\n",
    "print('shift 2...')\n",
    "trn_df_tmp['shift_2'] = gp.click_time.shift(-2)\n",
    "print('timedelta to uint16...')\n",
    "trn_df_tmp['next_click_dt'] = ((trn_df_tmp.shift_1 - trn_df_tmp.click_time) / np.timedelta64(1,'s')).fillna(50000).astype('uint16')\n",
    "trn_df_tmp['next_click_dt2'] = ((trn_df_tmp.shift_2 - trn_df_tmp.click_time) / np.timedelta64(1,'s')).fillna(50000).astype('uint16')\n",
    "\n",
    "print('cnt by next click...')\n",
    "nextclick_cnt = trn_df_tmp.next_click_dt.value_counts().reset_index().rename(columns={'index':'next_click_dt','next_click_dt':'next_click_dt_cnt'})\n",
    "trn_df_tmp = trn_df_tmp.merge(nextclick_cnt,how='left')\n",
    "del nextclick_cnt; gc.collect()\n",
    "print('complete')"
   ]
  },
  {
   "cell_type": "code",
   "execution_count": 9,
   "metadata": {},
   "outputs": [
    {
     "name": "stdout",
     "output_type": "stream",
     "text": [
      "feature1 : number of unique \"channel\" by ip\tchannel_nunique_ip\n",
      "feature4 : number of unique \"app\" by ip\tapp_nunique_ip\n",
      "feature6 : number of unique \"device\" by ip\tdevice_nunique_ip\n",
      "feature7 : number of unique \"app\" by channel\tapp_nunique_channel\n",
      "feature9 : number of unique \"app\" by (ip,device,os)\tapp_nunique_ip_device_os\n",
      "feature 10 : count by (ip,day,hour)\tchannel_cnt_ip_day_hour\n",
      "feature 11 : count by (ip,app)\tchannel_cnt_ip_app\n"
     ]
    }
   ],
   "source": [
    "print('feature1 : number of unique \"channel\" by ip',end='\\t')\n",
    "f1 = encode_agg_feature(trn_df_tmp,groupby=['ip'], selcols=['ip','channel'],aggregator='nunique')\n",
    "print(f1.name)\n",
    "\n",
    "# print('feature2 : cumcount of \"app\" by (ip,device,os)',end='\\t')\n",
    "# f2 = encode_agg_feature(trn_df_tmp,selcols=['app','ip','device','os'], groupby=['ip','device','os'], aggregator='cumcount')\n",
    "# print(f2.name)\n",
    "\n",
    "# print('feature3 : number of unique \"hour\" by (ip, day)',end='\\t')\n",
    "# f3 = encode_agg_feature(trn_df_tmp,selcols=['hour','ip','day'], groupby=['ip','day'], aggregator='nunique')\n",
    "# print(f3.name)\n",
    "\n",
    "print('feature4 : number of unique \"app\" by ip', end='\\t')\n",
    "f4 = encode_agg_feature(trn_df_tmp,selcols=['app', 'ip'], groupby=['ip'])\n",
    "print(f4.name)\n",
    "\n",
    "# print('feature5 : number of unique \"app\" by (ip,os)',end='\\t')\n",
    "# f5 = encode_agg_feature(trn_df_tmp,selcols=['app', 'ip', 'os'], groupby=['ip','os'])\n",
    "# print(f5.name)\n",
    "\n",
    "print('feature6 : number of unique \"device\" by ip',end='\\t')\n",
    "f6 = encode_agg_feature(trn_df_tmp,selcols=['device', 'ip'], groupby=['ip'])\n",
    "print(f6.name)\n",
    "\n",
    "print('feature7 : number of unique \"app\" by channel',end='\\t')\n",
    "f7 = encode_agg_feature(trn_df_tmp,selcols=['app', 'channel'], groupby=['channel'])\n",
    "print(f7.name)\n",
    "\n",
    "# print('feature8 : cumcount of \"os\" by ip ',end='\\t')\n",
    "# f8 = encode_agg_feature(trn_df_tmp,selcols=['os', 'ip'], groupby=['ip'], aggregator='cumcount')\n",
    "# print(f8.name)\n",
    "\n",
    "print('feature9 : number of unique \"app\" by (ip,device,os)',end='\\t')\n",
    "f9 = encode_agg_feature(trn_df_tmp,selcols=['app', 'ip','device','os'], groupby=['ip','device','os'])\n",
    "print(f9.name)\n",
    "\n",
    "print('feature 10 : count by (ip,day,hour)',end='\\t')\n",
    "f10 = encode_agg_feature(trn_df_tmp,selcols=['ip','day','hour','channel'],groupby=['ip','day','hour'],aggregator='count')\n",
    "print(f10.name)\n",
    "\n",
    "print('feature 11 : count by (ip,app)', end='\\t')\n",
    "f11 = encode_agg_feature(trn_df_tmp,selcols=['ip','app','channel'],groupby=['ip','app'],aggregator='count')\n",
    "print(f11.name)\n",
    "\n",
    "# print('feature 12 : count by (ip,app,os)',end='\\t')\n",
    "# f12 = encode_agg_feature(selcols=['ip','app','channel','os'],groupby=['ip','app','os'],aggregator='count')\n",
    "# print(f12.name)\n",
    "\n",
    "trn_df_tmp[f1.name] = f1.values\n",
    "trn_df_tmp[f4.name] = f4.values\n",
    "trn_df_tmp[f6.name] = f6.values\n",
    "trn_df_tmp[f7.name] = f7.values\n",
    "trn_df_tmp[f9.name] = f9.values\n",
    "trn_df_tmp[f10.name]= f10.values\n",
    "trn_df_tmp[f11.name]= f11.values\n",
    "\n",
    "# del f1,f4,f6,f7,f9,f10,f11;gc.collect()"
   ]
  },
  {
   "cell_type": "code",
   "execution_count": 12,
   "metadata": {},
   "outputs": [
    {
     "data": {
      "text/plain": [
       "(400000, 9)"
      ]
     },
     "execution_count": 12,
     "metadata": {},
     "output_type": "execute_result"
    }
   ],
   "source": [
    "trn_df.shape"
   ]
  },
  {
   "cell_type": "code",
   "execution_count": 16,
   "metadata": {
    "collapsed": true
   },
   "outputs": [
    {
     "name": "stdout",
     "output_type": "stream",
     "text": [
      "0 (299999,) (100001,)\n",
      "mean encoding...\n",
      "ip\n",
      "\tapp"
     ]
    },
    {
     "name": "stderr",
     "output_type": "stream",
     "text": [
      "C:\\Program Files\\Anaconda3\\envs\\py36\\lib\\site-packages\\ipykernel\\__main__.py:17: SettingWithCopyWarning: \n",
      "A value is trying to be set on a copy of a slice from a DataFrame.\n",
      "Try using .loc[row_indexer,col_indexer] = value instead\n",
      "\n",
      "See the caveats in the documentation: http://pandas.pydata.org/pandas-docs/stable/indexing.html#indexing-view-versus-copy\n"
     ]
    },
    {
     "name": "stdout",
     "output_type": "stream",
     "text": [
      "\n",
      "\tchannel\n",
      "\tos\n",
      "\tdevice\n",
      "\t1 (299999,) (100001,)\n",
      "mean encoding...\n",
      "ip\n",
      "\tapp\n",
      "\tchannel\n",
      "\tos\n",
      "\tdevice\n",
      "\t2 (300001,) (99999,)\n",
      "mean encoding...\n",
      "ip\n",
      "\tapp\n",
      "\tchannel\n",
      "\tos\n",
      "\tdevice\n",
      "\t3 (300001,) (99999,)\n",
      "mean encoding...\n",
      "ip\n",
      "\tapp\n",
      "\tchannel\n",
      "\tos\n",
      "\tdevice\n",
      "\t"
     ]
    },
    {
     "ename": "KeyError",
     "evalue": "\"['ip_mean_target' 'app_mean_target' 'channel_mean_target' 'os_mean_target'\\n 'device_mean_target'] not in index\"",
     "output_type": "error",
     "traceback": [
      "\u001b[1;31m---------------------------------------------------------------------------\u001b[0m",
      "\u001b[1;31mKeyError\u001b[0m                                  Traceback (most recent call last)",
      "\u001b[1;32m<ipython-input-16-e28c3d51f1af>\u001b[0m in \u001b[0;36m<module>\u001b[1;34m()\u001b[0m\n\u001b[0;32m     19\u001b[0m     \u001b[0mtrn_df\u001b[0m\u001b[1;33m.\u001b[0m\u001b[0miloc\u001b[0m\u001b[1;33m[\u001b[0m\u001b[0mval_idx\u001b[0m\u001b[1;33m]\u001b[0m \u001b[1;33m=\u001b[0m \u001b[0mX_val\u001b[0m\u001b[1;33m\u001b[0m\u001b[0m\n\u001b[0;32m     20\u001b[0m \u001b[0mprior\u001b[0m \u001b[1;33m=\u001b[0m \u001b[0mtrn_df\u001b[0m\u001b[1;33m.\u001b[0m\u001b[0mis_attributed\u001b[0m\u001b[1;33m.\u001b[0m\u001b[0mmean\u001b[0m\u001b[1;33m(\u001b[0m\u001b[1;33m)\u001b[0m\u001b[1;33m\u001b[0m\u001b[0m\n\u001b[1;32m---> 21\u001b[1;33m \u001b[0mtrn_df\u001b[0m\u001b[1;33m[\u001b[0m\u001b[1;33m[\u001b[0m\u001b[0mcol\u001b[0m\u001b[1;33m+\u001b[0m\u001b[1;34m'_mean_target'\u001b[0m \u001b[1;32mfor\u001b[0m \u001b[0mcol\u001b[0m \u001b[1;32min\u001b[0m \u001b[0mcols\u001b[0m\u001b[1;33m]\u001b[0m\u001b[1;33m]\u001b[0m \u001b[1;33m=\u001b[0m \u001b[0mtrn_df\u001b[0m\u001b[1;33m[\u001b[0m\u001b[1;33m[\u001b[0m\u001b[0mcol\u001b[0m\u001b[1;33m+\u001b[0m\u001b[1;34m'_mean_target'\u001b[0m \u001b[1;32mfor\u001b[0m \u001b[0mcol\u001b[0m \u001b[1;32min\u001b[0m \u001b[0mcols\u001b[0m\u001b[1;33m]\u001b[0m\u001b[1;33m]\u001b[0m\u001b[1;33m.\u001b[0m\u001b[0mfillna\u001b[0m\u001b[1;33m(\u001b[0m\u001b[0mprior\u001b[0m\u001b[1;33m)\u001b[0m\u001b[1;33m\u001b[0m\u001b[0m\n\u001b[0m",
      "\u001b[1;32mC:\\Program Files\\Anaconda3\\envs\\py36\\lib\\site-packages\\pandas\\core\\frame.py\u001b[0m in \u001b[0;36m__getitem__\u001b[1;34m(self, key)\u001b[0m\n\u001b[0;32m   1956\u001b[0m         \u001b[1;32mif\u001b[0m \u001b[0misinstance\u001b[0m\u001b[1;33m(\u001b[0m\u001b[0mkey\u001b[0m\u001b[1;33m,\u001b[0m \u001b[1;33m(\u001b[0m\u001b[0mSeries\u001b[0m\u001b[1;33m,\u001b[0m \u001b[0mnp\u001b[0m\u001b[1;33m.\u001b[0m\u001b[0mndarray\u001b[0m\u001b[1;33m,\u001b[0m \u001b[0mIndex\u001b[0m\u001b[1;33m,\u001b[0m \u001b[0mlist\u001b[0m\u001b[1;33m)\u001b[0m\u001b[1;33m)\u001b[0m\u001b[1;33m:\u001b[0m\u001b[1;33m\u001b[0m\u001b[0m\n\u001b[0;32m   1957\u001b[0m             \u001b[1;31m# either boolean or fancy integer index\u001b[0m\u001b[1;33m\u001b[0m\u001b[1;33m\u001b[0m\u001b[0m\n\u001b[1;32m-> 1958\u001b[1;33m             \u001b[1;32mreturn\u001b[0m \u001b[0mself\u001b[0m\u001b[1;33m.\u001b[0m\u001b[0m_getitem_array\u001b[0m\u001b[1;33m(\u001b[0m\u001b[0mkey\u001b[0m\u001b[1;33m)\u001b[0m\u001b[1;33m\u001b[0m\u001b[0m\n\u001b[0m\u001b[0;32m   1959\u001b[0m         \u001b[1;32melif\u001b[0m \u001b[0misinstance\u001b[0m\u001b[1;33m(\u001b[0m\u001b[0mkey\u001b[0m\u001b[1;33m,\u001b[0m \u001b[0mDataFrame\u001b[0m\u001b[1;33m)\u001b[0m\u001b[1;33m:\u001b[0m\u001b[1;33m\u001b[0m\u001b[0m\n\u001b[0;32m   1960\u001b[0m             \u001b[1;32mreturn\u001b[0m \u001b[0mself\u001b[0m\u001b[1;33m.\u001b[0m\u001b[0m_getitem_frame\u001b[0m\u001b[1;33m(\u001b[0m\u001b[0mkey\u001b[0m\u001b[1;33m)\u001b[0m\u001b[1;33m\u001b[0m\u001b[0m\n",
      "\u001b[1;32mC:\\Program Files\\Anaconda3\\envs\\py36\\lib\\site-packages\\pandas\\core\\frame.py\u001b[0m in \u001b[0;36m_getitem_array\u001b[1;34m(self, key)\u001b[0m\n\u001b[0;32m   2000\u001b[0m             \u001b[1;32mreturn\u001b[0m \u001b[0mself\u001b[0m\u001b[1;33m.\u001b[0m\u001b[0mtake\u001b[0m\u001b[1;33m(\u001b[0m\u001b[0mindexer\u001b[0m\u001b[1;33m,\u001b[0m \u001b[0maxis\u001b[0m\u001b[1;33m=\u001b[0m\u001b[1;36m0\u001b[0m\u001b[1;33m,\u001b[0m \u001b[0mconvert\u001b[0m\u001b[1;33m=\u001b[0m\u001b[1;32mFalse\u001b[0m\u001b[1;33m)\u001b[0m\u001b[1;33m\u001b[0m\u001b[0m\n\u001b[0;32m   2001\u001b[0m         \u001b[1;32melse\u001b[0m\u001b[1;33m:\u001b[0m\u001b[1;33m\u001b[0m\u001b[0m\n\u001b[1;32m-> 2002\u001b[1;33m             \u001b[0mindexer\u001b[0m \u001b[1;33m=\u001b[0m \u001b[0mself\u001b[0m\u001b[1;33m.\u001b[0m\u001b[0mloc\u001b[0m\u001b[1;33m.\u001b[0m\u001b[0m_convert_to_indexer\u001b[0m\u001b[1;33m(\u001b[0m\u001b[0mkey\u001b[0m\u001b[1;33m,\u001b[0m \u001b[0maxis\u001b[0m\u001b[1;33m=\u001b[0m\u001b[1;36m1\u001b[0m\u001b[1;33m)\u001b[0m\u001b[1;33m\u001b[0m\u001b[0m\n\u001b[0m\u001b[0;32m   2003\u001b[0m             \u001b[1;32mreturn\u001b[0m \u001b[0mself\u001b[0m\u001b[1;33m.\u001b[0m\u001b[0mtake\u001b[0m\u001b[1;33m(\u001b[0m\u001b[0mindexer\u001b[0m\u001b[1;33m,\u001b[0m \u001b[0maxis\u001b[0m\u001b[1;33m=\u001b[0m\u001b[1;36m1\u001b[0m\u001b[1;33m,\u001b[0m \u001b[0mconvert\u001b[0m\u001b[1;33m=\u001b[0m\u001b[1;32mTrue\u001b[0m\u001b[1;33m)\u001b[0m\u001b[1;33m\u001b[0m\u001b[0m\n\u001b[0;32m   2004\u001b[0m \u001b[1;33m\u001b[0m\u001b[0m\n",
      "\u001b[1;32mC:\\Program Files\\Anaconda3\\envs\\py36\\lib\\site-packages\\pandas\\core\\indexing.py\u001b[0m in \u001b[0;36m_convert_to_indexer\u001b[1;34m(self, obj, axis, is_setter)\u001b[0m\n\u001b[0;32m   1229\u001b[0m                 \u001b[0mmask\u001b[0m \u001b[1;33m=\u001b[0m \u001b[0mcheck\u001b[0m \u001b[1;33m==\u001b[0m \u001b[1;33m-\u001b[0m\u001b[1;36m1\u001b[0m\u001b[1;33m\u001b[0m\u001b[0m\n\u001b[0;32m   1230\u001b[0m                 \u001b[1;32mif\u001b[0m \u001b[0mmask\u001b[0m\u001b[1;33m.\u001b[0m\u001b[0many\u001b[0m\u001b[1;33m(\u001b[0m\u001b[1;33m)\u001b[0m\u001b[1;33m:\u001b[0m\u001b[1;33m\u001b[0m\u001b[0m\n\u001b[1;32m-> 1231\u001b[1;33m                     \u001b[1;32mraise\u001b[0m \u001b[0mKeyError\u001b[0m\u001b[1;33m(\u001b[0m\u001b[1;34m'%s not in index'\u001b[0m \u001b[1;33m%\u001b[0m \u001b[0mobjarr\u001b[0m\u001b[1;33m[\u001b[0m\u001b[0mmask\u001b[0m\u001b[1;33m]\u001b[0m\u001b[1;33m)\u001b[0m\u001b[1;33m\u001b[0m\u001b[0m\n\u001b[0m\u001b[0;32m   1232\u001b[0m \u001b[1;33m\u001b[0m\u001b[0m\n\u001b[0;32m   1233\u001b[0m                 \u001b[1;32mreturn\u001b[0m \u001b[0m_values_from_object\u001b[0m\u001b[1;33m(\u001b[0m\u001b[0mindexer\u001b[0m\u001b[1;33m)\u001b[0m\u001b[1;33m\u001b[0m\u001b[0m\n",
      "\u001b[1;31mKeyError\u001b[0m: \"['ip_mean_target' 'app_mean_target' 'channel_mean_target' 'os_mean_target'\\n 'device_mean_target'] not in index\""
     ]
    }
   ],
   "source": [
    "from sklearn.model_selection import StratifiedKFold\n",
    "\n",
    "y_tr = trn_df.is_attributed.values.astype(np.int8) # target \n",
    "skf = StratifiedKFold(4, random_state=0)\n",
    "skf.get_n_splits(X=trn_df,y=y_tr)\n",
    "\n",
    "cols = ['ip','app','channel','os','device']\n",
    "for fold, (tr_idx, val_idx) in enumerate(skf.split(trn_df,y_tr)):\n",
    "    \n",
    "    ## generate features \n",
    "    print(fold,tr_idx.shape,val_idx.shape)\n",
    "    \n",
    "    X_tr ,X_val = trn_df.iloc[tr_idx], trn_df.iloc[val_idx]\n",
    "    print('mean encoding...')\n",
    "    for col in cols:\n",
    "        means = X_val[col].map(X_tr.groupby(col).is_attributed.mean())\n",
    "        X_val[col + '_mean_target'] = means\n",
    "        print(col,end='\\n\\t')\n",
    "    trn_df.iloc[val_idx] = X_val\n",
    "prior = trn_df.is_attributed.mean()\n",
    "trn_df[[col+'_mean_target' for col in cols]] = trn_df[[col+'_mean_target' for col in cols]].fillna(prior)"
   ]
  },
  {
   "cell_type": "code",
   "execution_count": 17,
   "metadata": {},
   "outputs": [
    {
     "data": {
      "text/html": [
       "<div>\n",
       "<style>\n",
       "    .dataframe thead tr:only-child th {\n",
       "        text-align: right;\n",
       "    }\n",
       "\n",
       "    .dataframe thead th {\n",
       "        text-align: left;\n",
       "    }\n",
       "\n",
       "    .dataframe tbody tr th {\n",
       "        vertical-align: top;\n",
       "    }\n",
       "</style>\n",
       "<table border=\"1\" class=\"dataframe\">\n",
       "  <thead>\n",
       "    <tr style=\"text-align: right;\">\n",
       "      <th></th>\n",
       "      <th>ip</th>\n",
       "      <th>app</th>\n",
       "      <th>device</th>\n",
       "      <th>os</th>\n",
       "      <th>channel</th>\n",
       "      <th>click_time</th>\n",
       "      <th>is_attributed</th>\n",
       "      <th>hour</th>\n",
       "      <th>day</th>\n",
       "    </tr>\n",
       "  </thead>\n",
       "  <tbody>\n",
       "    <tr>\n",
       "      <th>25000</th>\n",
       "      <td>88591</td>\n",
       "      <td>11</td>\n",
       "      <td>1</td>\n",
       "      <td>13</td>\n",
       "      <td>219</td>\n",
       "      <td>2017-11-06 16:00:31</td>\n",
       "      <td>0</td>\n",
       "      <td>16</td>\n",
       "      <td>6</td>\n",
       "    </tr>\n",
       "    <tr>\n",
       "      <th>25001</th>\n",
       "      <td>20924</td>\n",
       "      <td>9</td>\n",
       "      <td>1</td>\n",
       "      <td>13</td>\n",
       "      <td>134</td>\n",
       "      <td>2017-11-06 16:00:31</td>\n",
       "      <td>0</td>\n",
       "      <td>16</td>\n",
       "      <td>6</td>\n",
       "    </tr>\n",
       "    <tr>\n",
       "      <th>25002</th>\n",
       "      <td>8531</td>\n",
       "      <td>17</td>\n",
       "      <td>1</td>\n",
       "      <td>47</td>\n",
       "      <td>280</td>\n",
       "      <td>2017-11-06 16:00:31</td>\n",
       "      <td>0</td>\n",
       "      <td>16</td>\n",
       "      <td>6</td>\n",
       "    </tr>\n",
       "    <tr>\n",
       "      <th>25003</th>\n",
       "      <td>21927</td>\n",
       "      <td>12</td>\n",
       "      <td>1</td>\n",
       "      <td>22</td>\n",
       "      <td>178</td>\n",
       "      <td>2017-11-06 16:00:31</td>\n",
       "      <td>0</td>\n",
       "      <td>16</td>\n",
       "      <td>6</td>\n",
       "    </tr>\n",
       "    <tr>\n",
       "      <th>25004</th>\n",
       "      <td>74803</td>\n",
       "      <td>64</td>\n",
       "      <td>1</td>\n",
       "      <td>6</td>\n",
       "      <td>459</td>\n",
       "      <td>2017-11-06 16:00:31</td>\n",
       "      <td>0</td>\n",
       "      <td>16</td>\n",
       "      <td>6</td>\n",
       "    </tr>\n",
       "  </tbody>\n",
       "</table>\n",
       "</div>"
      ],
      "text/plain": [
       "          ip  app  device  os  channel          click_time  is_attributed  \\\n",
       "25000  88591   11       1  13      219 2017-11-06 16:00:31              0   \n",
       "25001  20924    9       1  13      134 2017-11-06 16:00:31              0   \n",
       "25002   8531   17       1  47      280 2017-11-06 16:00:31              0   \n",
       "25003  21927   12       1  22      178 2017-11-06 16:00:31              0   \n",
       "25004  74803   64       1   6      459 2017-11-06 16:00:31              0   \n",
       "\n",
       "       hour  day  \n",
       "25000    16    6  \n",
       "25001    16    6  \n",
       "25002    16    6  \n",
       "25003    16    6  \n",
       "25004    16    6  "
      ]
     },
     "execution_count": 17,
     "metadata": {},
     "output_type": "execute_result"
    }
   ],
   "source": [
    "trn_df.head()"
   ]
  },
  {
   "cell_type": "code",
   "execution_count": 11,
   "metadata": {},
   "outputs": [
    {
     "data": {
      "text/plain": [
       "(400001, 7)"
      ]
     },
     "execution_count": 11,
     "metadata": {},
     "output_type": "execute_result"
    }
   ],
   "source": [
    "train_new = train_df.copy()\n",
    "cols = ['ip','app','device','os','channel']\n",
    "# cols_sets = [\n",
    "#     ['ip','app','os','device'],\n",
    "#     ['ip'],\n",
    "    \n",
    "# ]\n",
    "for col in cols:\n",
    "    train_new[col + '_mean_target'] = 0\n",
    "    \n",
    "\n",
    "for tr_idx, val_idx in skf.split(train_df,y_tr):\n",
    "    print('traing idx:{}'.format(tr_idx))\n",
    "    X_tr ,X_val = train_df.loc[tr_idx], train_df.loc[val_idx]\n",
    "    for col in cols:\n",
    "        means = X_val[col].map(X_tr.groupby(col).is_attributed.mean())\n",
    "        X_val[col + '_mean_target'] = means\n",
    "    train_new.loc[val_idx] = X_val\n",
    "prior = train_df.is_attributed.mean()\n",
    "# train_new.fillna(prior, inplace=True)\n",
    "train_new[[col+'_mean_target' for col in cols]] = train_new[[col+'_mean_target' for col in cols]].fillna(prior)"
   ]
  },
  {
   "cell_type": "code",
   "execution_count": 15,
   "metadata": {},
   "outputs": [
    {
     "data": {
      "text/plain": [
       "25000"
      ]
     },
     "execution_count": 15,
     "metadata": {},
     "output_type": "execute_result"
    }
   ],
   "source": []
  }
 ],
 "metadata": {
  "anaconda-cloud": {},
  "kernelspec": {
   "display_name": "Python [conda env:py36]",
   "language": "python",
   "name": "conda-env-py36-py"
  }
 },
 "nbformat": 4,
 "nbformat_minor": 1
}
